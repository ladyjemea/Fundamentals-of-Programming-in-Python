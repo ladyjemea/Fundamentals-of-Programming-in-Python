{
 "cells": [
  {
   "cell_type": "markdown",
   "id": "7962e3ef",
   "metadata": {},
   "source": [
    "<img src=\"LaeCodes.png\" \n",
    "     align=\"center\" \n",
    "     width=\"100\" />"
   ]
  },
  {
   "cell_type": "markdown",
   "id": "656be6c8",
   "metadata": {},
   "source": [
    "# Weekly Assessment Answers\n",
    "\n",
    "1) **Printing:** <br>\n",
    "Write a Python program that prints the following:\n",
    "\n",
    "- Your full name\n",
    "- Your favorite quote\n",
    "- A fun fact about yourself"
   ]
  },
  {
   "cell_type": "code",
   "execution_count": 1,
   "id": "3b737143",
   "metadata": {},
   "outputs": [],
   "source": [
    "full_name = 'Jemea Lady Limunga'\n",
    "fave_quote = 'et veritas liberabit vos'\n",
    "second_fave = 'A problem well stated is a problem half solved - Charles Kettering'\n",
    "fun_fact = 'I am a terrible dancer'"
   ]
  },
  {
   "cell_type": "markdown",
   "id": "dd3fdeff",
   "metadata": {},
   "source": [
    "2) **Command Line Navigation:** <br>\n",
    "Using your terminal (command line), perform the following tasks and write down the commands you used:\n",
    "\n",
    "- Navigate to your Python fundamentals folder.\n",
    "- List the files in this folder.\n",
    "- Create a new folder named Assignment_1.\n",
    "- Move into the Assignment_1 folder."
   ]
  },
  {
   "cell_type": "markdown",
   "id": "3f39f4cc",
   "metadata": {},
   "source": [
    "- navidagate = I use **cd** until I find the right folder\n",
    "- listing = **ls**\n",
    "- new folder = **mkdir folder_name**\n",
    "- move into Assignment_1 folder = use **cd**"
   ]
  },
  {
   "cell_type": "markdown",
   "id": "8391b3e0",
   "metadata": {},
   "source": [
    "3) **Jupyter Notebook Practice:** <br>\n",
    "Using Jupyter Notebook, create a notebook with the following:\n",
    "\n",
    "- Write a program that prints Hello, Python! using a code cell.\n",
    "- Add a Markdown cell with a brief introduction about yourself.\n",
    "- Save the notebook as hello_python.ipynb."
   ]
  },
  {
   "cell_type": "code",
   "execution_count": 2,
   "id": "d2099257",
   "metadata": {},
   "outputs": [],
   "source": [
    "my_print_statemnent = 'Hello Python!'"
   ]
  },
  {
   "cell_type": "markdown",
   "id": "00415847",
   "metadata": {},
   "source": [
    "My name is Jemea and I love Python Programming"
   ]
  }
 ],
 "metadata": {
  "kernelspec": {
   "display_name": "Python 3 (ipykernel)",
   "language": "python",
   "name": "python3"
  },
  "language_info": {
   "codemirror_mode": {
    "name": "ipython",
    "version": 3
   },
   "file_extension": ".py",
   "mimetype": "text/x-python",
   "name": "python",
   "nbconvert_exporter": "python",
   "pygments_lexer": "ipython3",
   "version": "3.11.5"
  }
 },
 "nbformat": 4,
 "nbformat_minor": 5
}
