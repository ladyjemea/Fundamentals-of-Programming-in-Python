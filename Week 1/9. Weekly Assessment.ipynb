{
 "cells": [
  {
   "cell_type": "markdown",
   "id": "ea802279",
   "metadata": {},
   "source": [
    "<img src=\"LaeCodes.png\" \n",
    "     align=\"center\" \n",
    "     width=\"100\" />"
   ]
  },
  {
   "cell_type": "markdown",
   "id": "03b012cf",
   "metadata": {},
   "source": [
    "# Weekly Assessment\n",
    "- Go through the course work for this week and understand the main concepts.\n",
    "\n",
    "- Have Python setup on your computer either through the Anaconda distribution or locally downloading python.\n",
    "\n",
    "- If Python has been downloaded on your computer, ensure that you have a programming environment up and running as well.\n",
    "\n",
    "In the Python fundamentals folder created, create two folders: One called **'Course work'** and the other called **'Assignments'**. The assignment folder will contain all the scripts you will have to submit back to me for evaluation. In the 'Course work' folder, you can download the uploaded course material from the Google Drive.\n",
    "\n",
    "## Questions:\n",
    "\n",
    "1) **Printing:** <br>\n",
    "Write a Python program that prints the following:\n",
    "\n",
    "- Your full name\n",
    "- Your favorite quote\n",
    "- A fun fact about yourself\n",
    "\n",
    "2) **Command Line Navigation:** <br>\n",
    "Using your terminal (command line), perform the following tasks and write down the commands you used:\n",
    "\n",
    "- Navigate to your Python fundamentals folder.\n",
    "- List the files in this folder.\n",
    "- Create a new folder named Assignment_1.\n",
    "- Move into the Assignment_1 folder.\n",
    "Submit a screenshot of your terminal after completing these tasks.)\n",
    "\n",
    "3) **Jupyter Notebook Practice:** <br>\n",
    "Using Jupyter Notebook, create a notebook with the following:\n",
    "\n",
    "- Write a program that prints Hello, Python! using a code cell.\n",
    "- Add a Markdown cell with a brief introduction about yourself.\n",
    "- Save the notebook as hello_python.ipynb.\n",
    "\n",
    "**If you are using VS Code, have at least one comment and save the file as hellp_python.py**\n",
    "\n",
    "All scripts should be submitted before the next class to the following link: https://drive.google.com/drive/folders/1dcnQbnQMEwKGX8kDLT4_MYA7Z2CVfhuD?dmr=1&ec=wgc-drive-globalnav-goto"
   ]
  }
 ],
 "metadata": {
  "kernelspec": {
   "display_name": "Python 3 (ipykernel)",
   "language": "python",
   "name": "python3"
  },
  "language_info": {
   "codemirror_mode": {
    "name": "ipython",
    "version": 3
   },
   "file_extension": ".py",
   "mimetype": "text/x-python",
   "name": "python",
   "nbconvert_exporter": "python",
   "pygments_lexer": "ipython3",
   "version": "3.11.5"
  }
 },
 "nbformat": 4,
 "nbformat_minor": 5
}
