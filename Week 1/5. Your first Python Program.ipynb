{
 "cells": [
  {
   "cell_type": "markdown",
   "id": "a3f64ae8",
   "metadata": {},
   "source": [
    "<img src=\"LaeCodes.png\" \n",
    "     align=\"center\" \n",
    "     width=\"100\" />"
   ]
  },
  {
   "cell_type": "markdown",
   "id": "f9b4362a",
   "metadata": {},
   "source": [
    "# Hello World!\n",
    "\n",
    "In this section, we will create your first Python program: Hello World! This assumes you have already completed the previous sections and successfully set up Python on your computer. If you’ve downloaded Python locally, make sure Visual Studio Code (VS Code) is installed along with the Microsoft Python extension."
   ]
  },
  {
   "cell_type": "markdown",
   "id": "2b864ab6",
   "metadata": {},
   "source": [
    "## Writing and Running Your First Python Program in VS Code\n",
    "\n",
    "1) **Open VS Code:** <br>\n",
    "Launch Visual Studio Code from your desktop or search bar.\n",
    "\n",
    "2) **Create the Hello World Program:** <br>\n",
    "In VS Code, type the following Python code into the editor:"
   ]
  },
  {
   "cell_type": "code",
   "execution_count": 1,
   "id": "e665f449",
   "metadata": {},
   "outputs": [
    {
     "name": "stdout",
     "output_type": "stream",
     "text": [
      "Hello World!\n"
     ]
    }
   ],
   "source": [
    "print('Hello World!')\n",
    "# This simple Python program outputs the text \"Hello World!\" to the screen."
   ]
  },
  {
   "attachments": {
    "image-2.png": {
     "image/png": "[encoded data removed]"
    },
    "image.png": {
     "image/png": "[encoded data removed]"
    }
   },
   "cell_type": "markdown",
   "id": "2bbc0191",
   "metadata": {},
   "source": [
    "3) **Save the Python File:**\n",
    "- Click **File -> Save As**.\n",
    "- Navigate to the **Python fundamentals** folder you created earlier.\n",
    "- In the file name box, type **hello_world** and in the Save as type dropdown, select Python (or type **hello_world.py** if using plain text format).\n",
    "- **Click Save.**\n",
    "\n",
    "4) **Running the Script in VS Code:**\n",
    "- Open the Terminal by clicking **Terminal -> New Terminal** in the top menu bar.\n",
    "- Use the command **cd** to navigate to the folder where you saved the **hello_world.py** file. For example:\n",
    "![image.png](attachment:image.png)\n",
    "- Once in the correct directory, run the Python script by typing\n",
    "![image-2.png](attachment:image-2.png)\n",
    "\n",
    "Press **Enter**. You should see the text **Hello World!** displayed on the screen.\n",
    "\n",
    "5) **Running the Script from Command Line:**\n",
    "- Open **Command Prompt** (Windows) or **Terminal** (MacOS/Linux).\n",
    "- Navigate to the folder where you saved your **hello_world.py** file using the **cd** command.\n",
    "- Type **python hello_world.py** and press Enter. This will run the script and print **Hello World!** to the terminal."
   ]
  },
  {
   "cell_type": "markdown",
   "id": "1460e917",
   "metadata": {},
   "source": [
    "## Writing and Running Your First Python Program in Jupyter Notebook\n",
    "\n",
    "1) **Launch Jupyter Notebook:**\n",
    "- Open **Anaconda Navigator**.\n",
    "- Click **Launch** under the **Jupyter Notebook** option. This will open a Jupyter Notebook in your default web browser.\n",
    "\n",
    "2) **Create a New Notebook:**\n",
    "- In the browser window, navigate to your **Python fundamentals** folder.\n",
    "- Click **New -> Python 3 (ipykernel)**. This will open a new notebook in a separate browser tab.\n",
    "\n",
    "3) **Rename the Notebook:**\n",
    "- At the top of the notebook, click the Untitled text next to the Jupyter logo.\n",
    "- Rename the notebook to **hello_world** and click **Rename**.\n",
    "\n",
    "4) **Write the Hello World Program:** In the first cell of the notebook, type the following Python code:"
   ]
  },
  {
   "cell_type": "code",
   "execution_count": 2,
   "id": "f524d818",
   "metadata": {},
   "outputs": [
    {
     "name": "stdout",
     "output_type": "stream",
     "text": [
      "Hello World!\n"
     ]
    }
   ],
   "source": [
    "print('Hello World!')"
   ]
  },
  {
   "cell_type": "markdown",
   "id": "88246c55",
   "metadata": {},
   "source": [
    "Jupyter Notebooks use a cell-based system where you can write and execute code one block (cell) at a time.\n",
    "\n",
    "5) **Run the Code:**\n",
    "- To run the code in the cell, press **Shift + Enter**. This will execute the code and display the output directly below the cell.\n",
    "- You should see the text **Hello World!** printed below the cell.\n",
    "\n",
    "6) **Adding and Running More Cells:**\n",
    "- To add a new cell, press **Shift + Enter** after running a cell.\n",
    "- If you press **Enter** alone, it will just create a new line in the current cell.\n",
    "\n",
    "7) **Useful Jupyter Notebook Commands:**\n",
    "- The **Help** tab in the Jupyter Notebook menu provides a list of shortcuts and useful commands.\n",
    "- Explore these commands to navigate more efficiently through the notebook.\n",
    "\n",
    "8) **Shutting Down the Notebook:**\n",
    "- Once you're done working in the notebook, it's important to close it properly. Go back to the Jupyter Notebook home tab (the one that shows your folder) and click **Shutdown** next to the file name to close it.\n",
    "- **Important:** Always open Jupyter notebooks through the Anaconda Navigator. Don’t double-click the notebook file to open it."
   ]
  },
  {
   "cell_type": "markdown",
   "id": "75f6283a",
   "metadata": {},
   "source": [
    "## Summary\n",
    "You've just created your first Python program, **Hello World!**, and learned how to:\n",
    "\n",
    "- Write and run Python code in both VS Code and Jupyter Notebook.\n",
    "- Use the Terminal/Command Prompt to run Python scripts.\n",
    "- Properly manage and navigate Jupyter Notebook files.\n",
    "\n",
    "This simple \"Hello World\" exercise demonstrates the basics of writing and executing Python code. From here, you’ll start building more complex programs as we dive deeper into Python fundamentals."
   ]
  }
 ],
 "metadata": {
  "kernelspec": {
   "display_name": "Python 3 (ipykernel)",
   "language": "python",
   "name": "python3"
  },
  "language_info": {
   "codemirror_mode": {
    "name": "ipython",
    "version": 3
   },
   "file_extension": ".py",
   "mimetype": "text/x-python",
   "name": "python",
   "nbconvert_exporter": "python",
   "pygments_lexer": "ipython3",
   "version": "3.11.5"
  }
 },
 "nbformat": 4,
 "nbformat_minor": 5
}
