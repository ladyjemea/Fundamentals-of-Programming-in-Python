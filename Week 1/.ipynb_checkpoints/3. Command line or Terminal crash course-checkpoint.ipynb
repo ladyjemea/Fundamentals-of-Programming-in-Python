{
 "cells": [
  {
   "cell_type": "markdown",
   "id": "4f68397a",
   "metadata": {},
   "source": [
    "<img src=\"LaeCodes.png\" \n",
    "align=\"center\" \n",
    "width=\"100\" />"
   ]
  },
  {
   "cell_type": "markdown",
   "id": "cf0b1f1b",
   "metadata": {},
   "source": [
    "# Command Line/Terminal Crash Course\n",
    "\n",
    "The command line (Windows) or terminal (MacOS/Linux) allows you to interact with your computer directly by typing commands, providing a programmatic way to navigate files, directories, and run scripts. In this crash course, you’ll learn some basic commands that will help you navigate your computer and run Python scripts."
   ]
  },
  {
   "cell_type": "markdown",
   "id": "5b6976d7",
   "metadata": {},
   "source": [
    "## Windows Command Line (Command Prompt)\n",
    "\n",
    "### Getting Started\n",
    "**Open the Command Prompt:** <br>\n",
    "On your computer, search for **cmd** or **command prompt** in the Start Menu and click on it to open.\n",
    "\n",
    "**Basic Commands**\n",
    "1) **Check your current directory:** <br>\n",
    "Type cd (short for change directory) and press Enter. This will display the current directory or path you're in.\n",
    "\n",
    "2) **List files in a directory:** <br>\n",
    "Type **dir** (short for directory) and press Enter. This command lists all files and folders in the current directory.\n",
    "\n",
    "3) **Move into a directory (folder):** <br>\n",
    "Type **cd folder_name** and press Enter to move into a folder.\n",
    "    - **Tip:** You can start typing the first few letters of the folder name and press the Tab key to auto-complete the name and avoid typing errors.\n",
    "\n",
    "4) **Go up one directory:** <br>\n",
    "To move to the parent directory (one level up), type **cd ..** and press Enter. This takes you out of the current folder.\n",
    "\n",
    "5) **Clear the screen:** <br>\n",
    "Type **cls** (short for clear screen) and press Enter to clear all previous commands from the terminal window.\n",
    "\n",
    "\n",
    "**Running Python Scripts**\n",
    "- Navigate to the folder with your Python script using **cd**.\n",
    "- Type **python script_name.py** and press Enter to run a Python script."
   ]
  },
  {
   "cell_type": "markdown",
   "id": "e8f67596",
   "metadata": {},
   "source": [
    "## MacOS/Linux Terminal\n",
    "\n",
    "### Getting Started\n",
    "**Open the Terminal:** <br>\n",
    "On your Mac or Linux system, search for **terminal** in Spotlight (Mac) or your system’s search bar and click on it to open.\n",
    "\n",
    "**Basic Commands**\n",
    "1) **Check your current directory:** <br>\n",
    "Type **pwd** (short for print working directory) and press Enter. This will display the current directory or path you're in.\n",
    "\n",
    "2) **List files in a directory:** <br>\n",
    "Type **ls** (short for list) and press Enter to see all files and folders in the current directory.\n",
    "\n",
    "3) **Move into a directory (folder):** <br>\n",
    "Type **cd folder_name** and press Enter to move into a folder.\n",
    "    - **Tip:** Similar to Windows, start typing the first few letters of the folder name and press the Tab key to auto-complete the name.\n",
    "    \n",
    "4) **Go up one directory:**\n",
    "To move to the parent directory (one level up), type **cd ..** and press Enter.\n",
    "\n",
    "5) **Clear the screen:**\n",
    "Type **clear** and press Enter to remove all previous commands from the terminal screen.\n",
    "\n",
    "\n",
    "**Running Python Scripts**\n",
    "- Navigate to the folder with your Python script using **cd**.\n",
    "- Type **python3 script_name.py** (or just python for some Linux setups) and press Enter to run a Python script.\n"
   ]
  },
  {
   "cell_type": "markdown",
   "id": "3cd05629",
   "metadata": {},
   "source": [
    "## Additional Commands You Might Find Useful\n",
    "\n",
    "**Create a new directory:**\n",
    "- **Windows:** mkdir new_folder_name\n",
    "- **MacOS/Linux:** mkdir new_folder_name\n",
    "- This creates a new folder (directory) in the current location.\n",
    "\n",
    "**Delete a file:**\n",
    "- **Windows:** del file_name\n",
    "- **MacOS/Linux:** rm file_name\n",
    "- This deletes a file from the current directory (be cautious, as it may not be recoverable).\n",
    "\n",
    "**Delete a directory (and its contents):**\n",
    "- **Windows:** rmdir /S folder_name\n",
    "- **MacOS/Linux:** rm -r folder_name\n",
    "- This command removes a folder and its contents permanently (use with caution).\n",
    "\n",
    "**Check available Python versions:**\n",
    "- Type python --version (or python3 --version on MacOS/Linux) to check the version of Python installed.\n",
    "\n",
    "**Quit the terminal:**\n",
    "- **Windows:** Type exit and press Enter.\n",
    "- **MacOS/Linux:** Type exit or simply close the terminal window."
   ]
  },
  {
   "cell_type": "markdown",
   "id": "5cbe8c3c",
   "metadata": {},
   "source": [
    "### Summary\n",
    "\n",
    "The command line and terminal are powerful tools that allow you to efficiently navigate through your computer's directories and run scripts like Python programs. Becoming familiar with these basic commands will make coding easier and help you automate many tasks without the need for a graphical interface."
   ]
  }
 ],
 "metadata": {
  "kernelspec": {
   "display_name": "Python 3 (ipykernel)",
   "language": "python",
   "name": "python3"
  },
  "language_info": {
   "codemirror_mode": {
    "name": "ipython",
    "version": 3
   },
   "file_extension": ".py",
   "mimetype": "text/x-python",
   "name": "python",
   "nbconvert_exporter": "python",
   "pygments_lexer": "ipython3",
   "version": "3.11.5"
  }
 },
 "nbformat": 4,
 "nbformat_minor": 5
}
