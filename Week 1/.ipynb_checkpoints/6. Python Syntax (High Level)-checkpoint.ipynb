{
 "cells": [
  {
   "cell_type": "markdown",
   "id": "064e25b0",
   "metadata": {},
   "source": [
    "<img src=\"LaeCodes.png\" \n",
    "     align=\"center\" \n",
    "     width=\"100\" />"
   ]
  },
  {
   "cell_type": "markdown",
   "id": "2727c082",
   "metadata": {},
   "source": [
    "# Python Syntax (High-Level)\n",
    "\n",
    "In programming, **syntax** refers to a set of rules that define how code should be written and structured. Python’s syntax is known for being simple and easy to understand, making it a popular choice for beginners. Python code consists of **statements**—single lines of code that the interpreter can execute. Python’s syntax is somewhat similar to languages like **Perl, JavaScript, and Java**."
   ]
  },
  {
   "cell_type": "markdown",
   "id": "b8f1dd99",
   "metadata": {},
   "source": [
    "### The print() Function\n",
    "\n",
    "The **print()** function is often the first command used when learning a new programming language. It allows you to display information on the screen and can be useful for debugging.\n",
    "\n",
    "Here’s a simple example:"
   ]
  },
  {
   "cell_type": "code",
   "execution_count": 15,
   "id": "05fdb411",
   "metadata": {},
   "outputs": [
    {
     "name": "stdout",
     "output_type": "stream",
     "text": [
      "Hello\n"
     ]
    }
   ],
   "source": [
    "print('Hello')"
   ]
  },
  {
   "cell_type": "markdown",
   "id": "95665e70",
   "metadata": {},
   "source": [
    "This code will display **Hello!** on the screen. Even if you don't pass anything inside the parentheses, you still need the parentheses, as Python treats this as a function call. Without them, Python would raise an error."
   ]
  },
  {
   "cell_type": "markdown",
   "id": "cbe85dae",
   "metadata": {},
   "source": [
    "### Indentation in Python\n",
    "\n",
    "Indentation refers to the leading spaces or tabs at the beginning of a Python statement. In most programming languages, indentation is only for readability. However, in Python, indentation is also used to define **blocks of code**—sections of code that belong together.\n",
    "\n",
    "- **Python requires consistent indentation:** Four spaces are the most common standard, though one space or a tab can technically be used. However, mixing spaces and tabs is not allowed and will result in an error.\n",
    "- **The first line of code should never be indented** unless it is inside a code block. <br>\n",
    "\n",
    "**Example: No Indentation**"
   ]
  },
  {
   "cell_type": "code",
   "execution_count": 9,
   "id": "5beab4cf",
   "metadata": {},
   "outputs": [
    {
     "name": "stdout",
     "output_type": "stream",
     "text": [
      "30\n"
     ]
    }
   ],
   "source": [
    "num1 = 10\n",
    "num2 = 20\n",
    "total = num1 + num2\n",
    "print(total)"
   ]
  },
  {
   "cell_type": "markdown",
   "id": "4a18302e",
   "metadata": {},
   "source": [
    "In this code, there is no indentation. The Python interpreter reads and executes it line by line from top to bottom. <br>\n",
    "\n",
    "**Example: With Indentation**"
   ]
  },
  {
   "cell_type": "code",
   "execution_count": 10,
   "id": "5fe730c1",
   "metadata": {},
   "outputs": [
    {
     "name": "stdout",
     "output_type": "stream",
     "text": [
      "Total is greater than 20\n"
     ]
    }
   ],
   "source": [
    "if total > 20:\n",
    "    print('Total is greater than 20')"
   ]
  },
  {
   "cell_type": "markdown",
   "id": "12eee987",
   "metadata": {},
   "source": [
    "In this example, the indentation under the **if** statement defines a block of code that belongs to the **if**. The code inside the block will only run if the condition **(total > 20)** is true. <br>\n",
    "\n",
    "**Example: Indentation Error**"
   ]
  },
  {
   "cell_type": "code",
   "execution_count": 12,
   "id": "c12a7bfb",
   "metadata": {},
   "outputs": [
    {
     "ename": "IndentationError",
     "evalue": "expected an indented block after 'if' statement on line 5 (3490586478.py, line 6)",
     "output_type": "error",
     "traceback": [
      "\u001b[0;36m  Cell \u001b[0;32mIn[12], line 6\u001b[0;36m\u001b[0m\n\u001b[0;31m    print('Total is greater than 20')  # This line will cause an indentation error.\u001b[0m\n\u001b[0m    ^\u001b[0m\n\u001b[0;31mIndentationError\u001b[0m\u001b[0;31m:\u001b[0m expected an indented block after 'if' statement on line 5\n"
     ]
    }
   ],
   "source": [
    "num1 = 10\n",
    "num2 = 20\n",
    "total = num1 + num2\n",
    "\n",
    "if total > 20:\n",
    "print('Total is greater than 20')  # This line will cause an indentation error."
   ]
  },
  {
   "cell_type": "markdown",
   "id": "44932395",
   "metadata": {},
   "source": [
    "Python will raise an **IndentationError** here because the second line inside the **if** block is not indented correctly. Proper indentation is crucial in Python."
   ]
  },
  {
   "cell_type": "markdown",
   "id": "df5d281e",
   "metadata": {},
   "source": [
    "### Comments\n",
    "\n",
    "Comments allow you to add notes and explanations to your code without affecting its execution. They improve the readability of your code, especially for others who may need to understand or collaborate on it.\n",
    "\n",
    "- **Single-line comments** start with the hash (**#**) symbol. Python will ignore any text following the **#** on that line."
   ]
  },
  {
   "cell_type": "code",
   "execution_count": 14,
   "id": "2aac59e8",
   "metadata": {},
   "outputs": [
    {
     "name": "stdout",
     "output_type": "stream",
     "text": [
      "Hello, World!\n"
     ]
    }
   ],
   "source": [
    "# This is a single-line comment\n",
    "print('Hello, World!')"
   ]
  },
  {
   "cell_type": "markdown",
   "id": "99437624",
   "metadata": {},
   "source": [
    "**Multiline comments** are written using triple quotes (**''' or \"\"\"**). This is useful for longer explanations."
   ]
  },
  {
   "cell_type": "code",
   "execution_count": 6,
   "id": "b6b08b35",
   "metadata": {},
   "outputs": [
    {
     "data": {
      "text/plain": [
       "'\\nThis is a multiline comment.\\nIt spans multiple lines.\\n'"
      ]
     },
     "execution_count": 6,
     "metadata": {},
     "output_type": "execute_result"
    }
   ],
   "source": [
    "'''\n",
    "This is a multiline comment.\n",
    "It spans multiple lines.\n",
    "'''"
   ]
  },
  {
   "cell_type": "markdown",
   "id": "fbd386ee",
   "metadata": {},
   "source": [
    "In **Jupyter Notebooks**, you can write comments and descriptions in Markdown format. You can select **Markdown** from the dropdown at the top of a notebook cell to add formatted text alongside your code. To comment on multiple lines of code at once in Jupyter, highlight the lines and press **Ctrl + /**."
   ]
  },
  {
   "cell_type": "markdown",
   "id": "8a77d5a5",
   "metadata": {},
   "source": [
    "### Pseudocode\n",
    "\n",
    "**Pseudocode** is a way of describing code logic in human-readable form. It uses plain English and is independent of any specific programming language. Writing pseudocode helps you map out the steps and logic of a program before you start coding. This is especially useful when working collaboratively, as it allows others to understand your approach regardless of their programming knowledge. <br>\n",
    "\n",
    "**We will be using pseudocode throughout this course, and it will be a deliverable for every programming exercise.** <br>\n",
    "\n",
    "**Example:** <br>\n",
    "**Problem:** Write a program to add two numbers. <br>\n",
    "\n",
    "**Pseudocode:** <br>\n",
    "1) Input the first number.\n",
    "2) Input the second number.\n",
    "3) Add the two numbers and store the result in a variable.\n",
    "4) Display the sum of the two numbers.\n",
    "\n",
    "Now, let’s translate this pseudocode into Python:\n",
    "\n",
    "**Python Code:**"
   ]
  },
  {
   "cell_type": "code",
   "execution_count": 7,
   "id": "d765cf2b",
   "metadata": {},
   "outputs": [
    {
     "name": "stdout",
     "output_type": "stream",
     "text": [
      "8\n"
     ]
    }
   ],
   "source": [
    "num1 = 5\n",
    "num2 = 3\n",
    "\n",
    "addition = num1 + num2\n",
    "print(addition)"
   ]
  },
  {
   "cell_type": "markdown",
   "id": "a1fe5c55",
   "metadata": {},
   "source": [
    "In this Python code, the two numbers are added together, and the result (**addition**) is printed to the screen.\n",
    "\n",
    "### Summary\n",
    "\n",
    "- **Syntax** in Python refers to the rules for writing valid code.\n",
    "- The **print()** function is used to display information on the screen.\n",
    "- **Indentation** is critical in Python, not just for readability but to define blocks of code.\n",
    "- **Comments** help document your code and can be single-line or multiline.\n",
    "- **Pseudocode** helps plan the logic of a program before writing the actual code, making the process more organized and easier to understand.\n",
    "\n",
    "Mastering Python syntax is the foundation for writing clean, efficient, and error-free code."
   ]
  }
 ],
 "metadata": {
  "kernelspec": {
   "display_name": "Python 3 (ipykernel)",
   "language": "python",
   "name": "python3"
  },
  "language_info": {
   "codemirror_mode": {
    "name": "ipython",
    "version": 3
   },
   "file_extension": ".py",
   "mimetype": "text/x-python",
   "name": "python",
   "nbconvert_exporter": "python",
   "pygments_lexer": "ipython3",
   "version": "3.11.5"
  }
 },
 "nbformat": 4,
 "nbformat_minor": 5
}
