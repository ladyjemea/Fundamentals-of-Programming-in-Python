{
 "cells": [
  {
   "cell_type": "markdown",
   "id": "842cbd6c",
   "metadata": {},
   "source": [
    "<img src=\"LaeCodes.png\" \n",
    "     align=\"center\" \n",
    "     width=\"100\" />"
   ]
  },
  {
   "cell_type": "markdown",
   "id": "698a72eb",
   "metadata": {},
   "source": [
    "# Introduction\n",
    "\n",
    "Hello and welcome to the Fundamentals of Programming in Python course! My name is Jemea Lady Limunga, and I am excited to be your facilitator. I am a Senior Software Engineer and Data Scientist with over 7 years of full-time paid work experience. <br>\n",
    "\n",
    "I have worked extensively in software design, architecture, development, data science, and analytics, across various sectors including financial services, space weather, healthcare systems, and supply chain management. I have also worked on projects involving payment risk intelligence, machine learning pipelines, and high-quality software development for complex systems. <br>\n",
    "\n",
    "This course is designed for absolute beginners as well as individuals who have some basic Python knowledge and wish to enhance their skills. Thank you all so much for enrolling—let's have fun learning Python together!"
   ]
  },
  {
   "cell_type": "markdown",
   "id": "5e9f7f5e",
   "metadata": {},
   "source": [
    "## Important Information\n",
    "\n",
    "Throughout this course, you will be provided with code examples. Please note: <br>\n",
    "\n",
    "Always double-check the provided code against your own if you encounter errors. Typos and minor mistakes can cause issues, so careful review is key.\n",
    "If you face an error with your own code, start by searching the error code or description on Google—this is a great habit for finding quick solutions.\n",
    "\n",
    "If you cannot resolve an issue, feel free to email me. When reaching out, make sure to:\n",
    "- Include a detailed description of the problem.\n",
    "- Provide screenshots of the error and the full script you're running.\n",
    "- Avoid copying code directly from the internet. Understanding is more important than submitting a perfect script!\n",
    "\n",
    "For course-related questions or issues, feel free to contact:\n",
    "\n",
    "ladyjemea@gmail.com or info.laecodes@gmail.com"
   ]
  },
  {
   "cell_type": "markdown",
   "id": "09d1190e",
   "metadata": {},
   "source": [
    "## How to Approach the Course\n",
    "\n",
    "To get the most out of this course:\n",
    "\n",
    "- Read all supporting materials.\n",
    "- Run the code provided at each step and try to understand how it works.\n",
    "- Rewrite the code from memory or based on your understanding, modifying it to solve slightly different problems.\n",
    "- Complete assignments to apply your learning.\n",
    "- Practice independently to solidify your skills.\n",
    "- Collaborate with your peers in the course—discuss code, share knowledge, and work through challenges together.\n",
    "\n",
    "Please remember to follow the weekly course files chronologically to ensure a smooth learning progression."
   ]
  },
  {
   "cell_type": "markdown",
   "id": "2d899ab7",
   "metadata": {},
   "source": [
    "## Tools and Setup\n",
    "\n",
    "To follow along with the course, you'll need to set up a Python programming environment. Here are the steps:\n",
    "\n",
    "**Download and install Python:**\n",
    "- Go to Python's official website and download the latest version of Python for your operating system.\n",
    "- Follow the installation instructions on the website.\n",
    "\n",
    "**Choose an IDE (Integrated Development Environment):**\n",
    "- We recommend using VS Code or PyCharm for writing and running your Python code.\n",
    "- Install the IDE and ensure you have Python integrated with it.\n",
    "\n",
    "**Test your setup:**\n",
    "- Open your IDE and write a simple Python script like print(\"Hello, Python!\") to ensure everything is working correctly."
   ]
  },
  {
   "cell_type": "markdown",
   "id": "b8565627",
   "metadata": {},
   "source": [
    "## Course Overview\n",
    "\n",
    "This course will guide you through:\n",
    "\n",
    "**Week 1:**\n",
    "- Introduction to Python\n",
    "- Setting up your Python environment\n",
    "- Your first Python program\n",
    "- Assignment: Simple Python program\n",
    "\n",
    "**Week 2:**\n",
    "- Variables and basic data types\n",
    "- Control flow: conditionals (if-else statements)\n",
    "- Loops: for and while loops\n",
    "- Assignment: Create loops and conditionals in real-world examples\n",
    "\n",
    "**Week 3:**\n",
    "- Data structures: lists, dictionaries, sets, and tuples\n",
    "- Built-in functions\n",
    "- Command line/terminal\n",
    "- Git and Github\n",
    "- Assignment: Create a mini program using data structures\n",
    "\n",
    "**Week 4:**\n",
    "- Functions and modular programming\n",
    "- Writing your own functions\n",
    "- Assignment: Develop a simple calculator using functions\n",
    "\n",
    "**Week 5:**\n",
    "- File handling and working with external libraries\n",
    "- Modules and standard libraries\n",
    "- Assignment: Write a script that reads from and writes to a file\n",
    "\n",
    "**Week 6:**\n",
    "- Error handling and debugging\n",
    "- Functional programming\n",
    "- Assignment: Practice handling different types of Python errors\n",
    "\n",
    "**Week 7:**\n",
    "- Modules and namespaces\n",
    "- Python packages\n",
    "Assignment: Using third party modules and packages\n",
    "\n",
    "**Week 8:**\n",
    "- Introduction to object-oriented programming (OOP)\n",
    "- Assignment: Build a simple class-based application\n",
    "\n",
    "**Week 9:**\n",
    "- Introductory data science tasks (optional for beginners)\n",
    "- Assignment: Perform basic data analysis using libraries like pandas and matplotlib"
   ]
  },
  {
   "cell_type": "markdown",
   "id": "3767eacd",
   "metadata": {},
   "source": [
    "## Assessment Plan\n",
    "Throughout the course, you will be assessed based on:\n",
    "\n",
    "- Weekly Assignments: Each assignment is due before the next class. These will test your understanding of the week's concepts.\n",
    "- Capstone Project: Towards the end of the course, you will develop a small project applying the skills you've learned.\n",
    "- Final Exam (optional): A coding exam to test your overall comprehension of Python."
   ]
  },
  {
   "cell_type": "markdown",
   "id": "97886724",
   "metadata": {},
   "source": [
    "## Additional Resources\n",
    "To supplement your learning, you can explore the following websites and tools:\n",
    "\n",
    "- Python Documentation: Official documentation for Python.\n",
    "- W3Schools Python Tutorial: A beginner-friendly Python guide.\n",
    "- LeetCode: Great for practicing Python problems.\n",
    "- Codewars: Offers Python challenges for varying levels of difficulty."
   ]
  }
 ],
 "metadata": {
  "kernelspec": {
   "display_name": "Python 3 (ipykernel)",
   "language": "python",
   "name": "python3"
  },
  "language_info": {
   "codemirror_mode": {
    "name": "ipython",
    "version": 3
   },
   "file_extension": ".py",
   "mimetype": "text/x-python",
   "name": "python",
   "nbconvert_exporter": "python",
   "pygments_lexer": "ipython3",
   "version": "3.11.5"
  }
 },
 "nbformat": 4,
 "nbformat_minor": 5
}
