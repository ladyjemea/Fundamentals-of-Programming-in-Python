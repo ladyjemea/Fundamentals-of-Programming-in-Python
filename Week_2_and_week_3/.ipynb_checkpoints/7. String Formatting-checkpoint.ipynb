{
 "cells": [
  {
   "cell_type": "markdown",
   "id": "7784acf7",
   "metadata": {},
   "source": [
    "<img src=\"LaeCodes.png\" \n",
    "     align=\"center\" \n",
    "     width=\"100\" />"
   ]
  },
  {
   "cell_type": "markdown",
   "id": "94c48219",
   "metadata": {},
   "source": [
    "# String Formatting\n",
    "String formatting allows you to insert variables or expressions into a string, making it more flexible and dynamic. There are three common methods to format strings in Python:\n",
    "\n",
    "1. **Formatting with the % Operator** <br>\n",
    "The % operator is used to insert values into strings by using placeholders like %s for strings, %d for integers, and %f for floats. <br>\n",
    "\n",
    "**Example:**"
   ]
  },
  {
   "cell_type": "code",
   "execution_count": 1,
   "id": "1151fdef",
   "metadata": {},
   "outputs": [
    {
     "ename": "TypeError",
     "evalue": "%d format: a real number is required, not str",
     "output_type": "error",
     "traceback": [
      "\u001b[0;31m---------------------------------------------------------------------------\u001b[0m",
      "\u001b[0;31mTypeError\u001b[0m                                 Traceback (most recent call last)",
      "Cell \u001b[0;32mIn[1], line 3\u001b[0m\n\u001b[1;32m      1\u001b[0m name \u001b[38;5;241m=\u001b[39m \u001b[38;5;124m\"\u001b[39m\u001b[38;5;124mBob\u001b[39m\u001b[38;5;124m\"\u001b[39m\n\u001b[1;32m      2\u001b[0m age \u001b[38;5;241m=\u001b[39m \u001b[38;5;241m30\u001b[39m\n\u001b[0;32m----> 3\u001b[0m formatted_string \u001b[38;5;241m=\u001b[39m \u001b[38;5;124m\"\u001b[39m\u001b[38;5;124mMy name is \u001b[39m\u001b[38;5;132;01m%s\u001b[39;00m\u001b[38;5;124m and I am \u001b[39m\u001b[38;5;132;01m%d\u001b[39;00m\u001b[38;5;124m years old.\u001b[39m\u001b[38;5;124m\"\u001b[39m \u001b[38;5;241m%\u001b[39m (age, name)\n\u001b[1;32m      4\u001b[0m \u001b[38;5;28mprint\u001b[39m(formatted_string)\n",
      "\u001b[0;31mTypeError\u001b[0m: %d format: a real number is required, not str"
     ]
    }
   ],
   "source": [
    "name = \"Bob\"\n",
    "age = 30\n",
    "formatted_string = \"My name is %s and I am %d years old.\" % (name, age)\n",
    "print(formatted_string)  # Output: My name is Bob and I am 30 years old."
   ]
  },
  {
   "cell_type": "markdown",
   "id": "d81f09ba",
   "metadata": {},
   "source": [
    "2. **Formatting using str.format()** <br>\n",
    "The format() method provides a more flexible way to format strings by using curly braces {} as placeholders. <br>\n",
    "\n",
    "**Example:**"
   ]
  },
  {
   "cell_type": "code",
   "execution_count": null,
   "id": "4a552014",
   "metadata": {},
   "outputs": [],
   "source": [
    "name = \"Bob\"\n",
    "age = 30\n",
    "formatted_string = \"My name is {} and I am {} years old.\".format(name, age)\n",
    "print(formatted_string)  # Output: My name is Bob and I am 30 years old."
   ]
  },
  {
   "cell_type": "markdown",
   "id": "36569058",
   "metadata": {},
   "source": [
    "You can also use index numbers to specify the order of values:"
   ]
  },
  {
   "cell_type": "code",
   "execution_count": 2,
   "id": "adf4f02c",
   "metadata": {},
   "outputs": [
    {
     "name": "stdout",
     "output_type": "stream",
     "text": [
      "My name is Bob, I live in Douala and I am 30 years old.\n"
     ]
    }
   ],
   "source": [
    "location = \"Douala\"\n",
    "formatted_string = \"My name is {0}, I live in {2} and I am {1} years old.\"\n",
    "print(formatted_string.format(name, age, location))"
   ]
  },
  {
   "cell_type": "markdown",
   "id": "0df283d0",
   "metadata": {},
   "source": [
    "3. **Formatted String Literals (f-strings)** <br>\n",
    "f-strings provide a concise and readable way to format strings using curly braces {} to directly insert expressions. f-strings are prefixed with f. <br>\n",
    "\n",
    "**Example:**"
   ]
  },
  {
   "cell_type": "code",
   "execution_count": 3,
   "id": "0a7e7fbb",
   "metadata": {},
   "outputs": [
    {
     "name": "stdout",
     "output_type": "stream",
     "text": [
      "My name is Bob, I live in Douala and I am 30 years old.\n"
     ]
    }
   ],
   "source": [
    "name = \"Bob\"\n",
    "age = 30\n",
    "location = \"Douala\"\n",
    "formatted_string = f\"My name is {name}, I live in {location} and I am {age} years old.\"\n",
    "print(formatted_string)  # Output: My name is Bob, I live in Douala and I am 30 years old."
   ]
  }
 ],
 "metadata": {
  "kernelspec": {
   "display_name": "Python 3 (ipykernel)",
   "language": "python",
   "name": "python3"
  },
  "language_info": {
   "codemirror_mode": {
    "name": "ipython",
    "version": 3
   },
   "file_extension": ".py",
   "mimetype": "text/x-python",
   "name": "python",
   "nbconvert_exporter": "python",
   "pygments_lexer": "ipython3",
   "version": "3.11.5"
  }
 },
 "nbformat": 4,
 "nbformat_minor": 5
}
