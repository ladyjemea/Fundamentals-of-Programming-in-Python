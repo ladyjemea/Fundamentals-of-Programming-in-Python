{
 "cells": [
  {
   "cell_type": "markdown",
   "id": "4ccc5abe",
   "metadata": {},
   "source": [
    "<img src=\"LaeCodes.png\" \n",
    "     align=\"center\" \n",
    "     width=\"100\" />"
   ]
  },
  {
   "cell_type": "markdown",
   "id": "04b51550",
   "metadata": {},
   "source": [
    "# Input/Output Operations in Python\n",
    "\n",
    "Input/Output (I/O) operations allow a program to interact with users and external systems by receiving data as input or providing data as output. Python offers several built-in functions to handle basic I/O operations, which we'll explore this week.\n",
    "\n",
    "### Input Operations\n",
    "In Python, the input() function is used to take input from the user. This function reads input from the standard input device (typically the keyboard) and returns it as a string.\n",
    "\n",
    "**Basic Input Example:**"
   ]
  },
  {
   "cell_type": "code",
   "execution_count": 1,
   "id": "46348550",
   "metadata": {},
   "outputs": [
    {
     "name": "stdout",
     "output_type": "stream",
     "text": [
      "Enter your name: Lae\n",
      "Your name is: Lae\n"
     ]
    }
   ],
   "source": [
    "name = input(\"Enter your name: \")\n",
    "print(\"Your name is:\", name)"
   ]
  },
  {
   "cell_type": "markdown",
   "id": "1ae09962",
   "metadata": {},
   "source": [
    "- In this example, the input() function prompts the user to enter their name. Whatever the user types is stored in the name variable as a string.\n",
    "\n",
    "### Converting Input to Numeric Types:\n",
    "Since input() always returns data as a string, if you want to work with numeric values, you need to convert the input using functions like int(), float(), etc.\n",
    "\n",
    "**Example with Numeric Input:**"
   ]
  },
  {
   "cell_type": "code",
   "execution_count": 2,
   "id": "0809e72c",
   "metadata": {},
   "outputs": [
    {
     "name": "stdout",
     "output_type": "stream",
     "text": [
      "How old are you?: 27\n",
      "You entered: 27\n"
     ]
    }
   ],
   "source": [
    "age = input(\"How old are you?: \")\n",
    "age = int(age)  # Convert the string input to an integer\n",
    "print(\"You entered:\", age)"
   ]
  },
  {
   "cell_type": "markdown",
   "id": "42969457",
   "metadata": {},
   "source": [
    "- If the user enters a number (e.g., 25), it will be converted to an integer and stored in the age variable. If the user enters anything non-numeric, it will raise an error.\n",
    "\n",
    "**Example of Input with Floating-Point Numbers:**"
   ]
  },
  {
   "cell_type": "code",
   "execution_count": 3,
   "id": "e7befc28",
   "metadata": {},
   "outputs": [
    {
     "name": "stdout",
     "output_type": "stream",
     "text": [
      "Enter your height in meters: 8\n",
      "Your height is: 8.0\n"
     ]
    }
   ],
   "source": [
    "height = input(\"Enter your height in meters: \")\n",
    "height = float(height)  # Convert string input to a float\n",
    "print(\"Your height is:\", height)"
   ]
  },
  {
   "cell_type": "markdown",
   "id": "74efc228",
   "metadata": {},
   "source": [
    "- This converts the user's input into a floating-point number.\n",
    "\n",
    "### Output Operations\n",
    "\n",
    "In Python, the print() function is the most commonly used output function, which is used to display text and variables on the console.\n",
    "\n",
    "**Basic Output Example:**"
   ]
  },
  {
   "cell_type": "code",
   "execution_count": 4,
   "id": "1600a7a3",
   "metadata": {},
   "outputs": [
    {
     "name": "stdout",
     "output_type": "stream",
     "text": [
      "Hello, World!\n"
     ]
    }
   ],
   "source": [
    "print(\"Hello, World!\")"
   ]
  },
  {
   "cell_type": "markdown",
   "id": "7d5a1c74",
   "metadata": {},
   "source": [
    "- This will display the text Hello, World! on the screen.\n",
    "\n",
    "You can also use print() to display the values of variables along with static text, as shown in the examples above.\n",
    "\n",
    "**Formatted Output:** <br>\n",
    "Python allows you to format the output by inserting variables within strings using techniques like string concatenation, format(), or f-strings.\n",
    "\n",
    "**Example with f-strings:**"
   ]
  },
  {
   "cell_type": "code",
   "execution_count": 5,
   "id": "c1e8b88b",
   "metadata": {},
   "outputs": [
    {
     "name": "stdout",
     "output_type": "stream",
     "text": [
      "My name is Alice and I am 30 years old.\n"
     ]
    }
   ],
   "source": [
    "name = \"Alice\"\n",
    "age = 30\n",
    "print(f\"My name is {name} and I am {age} years old.\")"
   ]
  },
  {
   "cell_type": "markdown",
   "id": "332a6de8",
   "metadata": {},
   "source": [
    "- This uses f-strings to easily insert variable values into the output string."
   ]
  },
  {
   "cell_type": "markdown",
   "id": "532a3b46",
   "metadata": {},
   "source": [
    "### Key Points to Remember:\n",
    "\n",
    "1) **input()** always returns a string, so if you need another data type, you must convert it (e.g., int(), float()). <br>\n",
    "2) **print()** displays text and variables on the screen and can handle different data types by converting them into strings for display. <br>\n",
    "3) **Error Handling:** If you expect numeric input but get something else, Python will raise an error. Handling such cases requires advanced techniques (e.g., using try/except), which we will cover later"
   ]
  }
 ],
 "metadata": {
  "kernelspec": {
   "display_name": "Python 3 (ipykernel)",
   "language": "python",
   "name": "python3"
  },
  "language_info": {
   "codemirror_mode": {
    "name": "ipython",
    "version": 3
   },
   "file_extension": ".py",
   "mimetype": "text/x-python",
   "name": "python",
   "nbconvert_exporter": "python",
   "pygments_lexer": "ipython3",
   "version": "3.11.5"
  }
 },
 "nbformat": 4,
 "nbformat_minor": 5
}
