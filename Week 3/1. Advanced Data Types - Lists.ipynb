{
 "cells": [
  {
   "cell_type": "markdown",
   "id": "f34b8aaf",
   "metadata": {},
   "source": [
    "<img src=\"LaeCodes.png\" \n",
    "     align=\"center\" \n",
    "     width=\"100\" />"
   ]
  },
  {
   "cell_type": "markdown",
   "id": "2732bcd3",
   "metadata": {},
   "source": [
    "# Advanced Data Types: Lists\n",
    "\n",
    "A list in Python is an ordered collection that can store multiple items in a single variable. Lists are mutable, meaning you can modify their contents after creation. Lists are defined using square brackets **[]**, and each item is separated by a comma.\n",
    "\n",
    "### Key Features of Lists:\n",
    "- **Ordered**: Each item in a list has a defined position (index). The first item is at index [0], the second at [1], and so on.\n",
    "- **Allows Duplicates**: You can have multiple elements with the same value in different positions of a list.\n",
    "- **Mutable**: You can change, add, or remove items in a list after it has been created.\n",
    "- **Supports Multiple Data Types**: A list can contain different data types like integers, strings, floats, and even other lists (nested lists).\n",
    "\n",
    "### Basic Operations on Lists:\n",
    "**Creating a List:** <br>\n",
    "You can create a list using square brackets **[]** or the **list()** constructor."
   ]
  },
  {
   "cell_type": "code",
   "execution_count": 2,
   "id": "2cf8f1cd",
   "metadata": {},
   "outputs": [],
   "source": [
    "fruits = [\"mango\", \"orange\", \"grape\", 4, [\"mango\", \"orange\", \"grape\"]]"
   ]
  },
  {
   "cell_type": "markdown",
   "id": "381504a8",
   "metadata": {},
   "source": [
    "**Accessing Items:** <br>\n",
    "You can access items in a list by referring to their index."
   ]
  },
  {
   "cell_type": "code",
   "execution_count": null,
   "id": "9c2cc910",
   "metadata": {},
   "outputs": [],
   "source": [
    "print(fruits[1])  # Output: orange"
   ]
  },
  {
   "cell_type": "markdown",
   "id": "b4e47d89",
   "metadata": {},
   "source": [
    "**Modifying a List:** <br>\n",
    "You can change the value of an item by referencing its index."
   ]
  },
  {
   "cell_type": "code",
   "execution_count": 6,
   "id": "bb19b5a1",
   "metadata": {},
   "outputs": [],
   "source": [
    "fruits[1] = \"blueberry\""
   ]
  },
  {
   "cell_type": "markdown",
   "id": "a5f8a9f5",
   "metadata": {},
   "source": [
    "**Adding Items to a List:** <br>\n",
    "Use the **append()** method to add items to the end of a list, or the **insert()** method to add items at a specific position."
   ]
  },
  {
   "cell_type": "code",
   "execution_count": 9,
   "id": "50517f20",
   "metadata": {},
   "outputs": [],
   "source": [
    "fruits.append(\"pear\")  # Adds 'pear' to the end of the list"
   ]
  },
  {
   "cell_type": "markdown",
   "id": "905619ba",
   "metadata": {},
   "source": [
    "**Removing Items from a List:** <br>\n",
    "You can remove items using the **remove()** or **pop()** methods. remove() removes by value, while pop() removes by index (or the last item if no index is specified)."
   ]
  },
  {
   "cell_type": "code",
   "execution_count": 5,
   "id": "89c0058b",
   "metadata": {},
   "outputs": [],
   "source": [
    "fruits.remove(\"mango\")  # Removes the first occurrence of 'mango'"
   ]
  },
  {
   "cell_type": "markdown",
   "id": "b0acaaa6",
   "metadata": {},
   "source": [
    "**Length of a List:** <br>\n",
    "The **len()** function gives the number of items in a list."
   ]
  },
  {
   "cell_type": "code",
   "execution_count": 6,
   "id": "75b75cac",
   "metadata": {},
   "outputs": [
    {
     "name": "stdout",
     "output_type": "stream",
     "text": [
      "3\n"
     ]
    }
   ],
   "source": [
    "print(len(fruits))  # Output: 3"
   ]
  },
  {
   "cell_type": "markdown",
   "id": "441e0f01",
   "metadata": {},
   "source": [
    "### List Indexing and Slicing\n",
    "\n",
    "**Indexing:** <br>\n",
    "You can access individual elements in a list by referring to their index. Python uses zero-based indexing, meaning the first item is at index 0."
   ]
  },
  {
   "cell_type": "code",
   "execution_count": 7,
   "id": "ca21d23e",
   "metadata": {},
   "outputs": [
    {
     "name": "stdout",
     "output_type": "stream",
     "text": [
      "20\n",
      "100\n"
     ]
    }
   ],
   "source": [
    "my_list = [20, 40, 60, 80, 100]\n",
    "print(my_list[0])  # Output: 20\n",
    "print(my_list[-1])  # Output: 100 (Negative index starts from the last element)"
   ]
  },
  {
   "cell_type": "markdown",
   "id": "3cc2915e",
   "metadata": {},
   "source": [
    "**Slicing:** <br>\n",
    "\n",
    "Slicing allows you to extract a portion of a list. The syntax is: **list[start:stop:step]**, where:\n",
    "\n",
    "- start is the starting index (inclusive),\n",
    "- stop is the ending index (exclusive),\n",
    "- step determines the increment between indices (1 by default)."
   ]
  },
  {
   "cell_type": "code",
   "execution_count": 8,
   "id": "f2ce0915",
   "metadata": {},
   "outputs": [
    {
     "name": "stdout",
     "output_type": "stream",
     "text": [
      "[40, 60, 80]\n",
      "[20, 40]\n",
      "[40, 60, 80, 100]\n",
      "[20, 60, 100]\n"
     ]
    }
   ],
   "source": [
    "print(my_list[1:4])   # Output: [40, 60, 80] (slicing from index 1 to 3)\n",
    "print(my_list[:2])    # Output: [20, 40] (from the start to index 2, excluding 2)\n",
    "print(my_list[1:])    # Output: [40, 60, 80, 100] (from index 1 to the end)\n",
    "print(my_list[::2])   # Output: [20, 60, 100] (every second element)"
   ]
  },
  {
   "cell_type": "markdown",
   "id": "021fa426",
   "metadata": {},
   "source": [
    "### List Concatenation:\n",
    "You can concatenate (combine) two or more lists using the **+ operator**."
   ]
  },
  {
   "cell_type": "code",
   "execution_count": 9,
   "id": "1e1ac2a3",
   "metadata": {},
   "outputs": [
    {
     "name": "stdout",
     "output_type": "stream",
     "text": [
      "[20, 40, 60, 80, 100, 'a', 'b', 'c', 'd', 'e']\n"
     ]
    }
   ],
   "source": [
    "my_list = [20, 40, 60, 80, 100]\n",
    "list2 = ['a', 'b', 'c', 'd', 'e']\n",
    "new_list = my_list + list2\n",
    "print(new_list)  # Combines both lists into a new list"
   ]
  },
  {
   "cell_type": "markdown",
   "id": "edfd6a97",
   "metadata": {},
   "source": [
    "### Mutability of Lists:\n",
    "Lists are mutable, meaning you can change elements directly."
   ]
  },
  {
   "cell_type": "code",
   "execution_count": 10,
   "id": "97601375",
   "metadata": {},
   "outputs": [
    {
     "name": "stdout",
     "output_type": "stream",
     "text": [
      "[20, 40, 'five', 80, 100]\n"
     ]
    }
   ],
   "source": [
    "my_list = [20, 40, 60, 80, 100]\n",
    "my_list[2] = \"five\"  # Changes the element at index 2\n",
    "print(my_list)  # Output: [20, 40, 'five', 80, 100]"
   ]
  },
  {
   "cell_type": "markdown",
   "id": "0b644bec",
   "metadata": {},
   "source": [
    "### Sorting and Reversing a List\n",
    "**Sorting a List:** <br>\n",
    "The **sort()** method sorts the list in place, meaning the original list is modified. By default, it sorts in ascending order."
   ]
  },
  {
   "cell_type": "code",
   "execution_count": 11,
   "id": "a2d19083",
   "metadata": {},
   "outputs": [
    {
     "name": "stdout",
     "output_type": "stream",
     "text": [
      "[4, 8, 24, 67, 98]\n"
     ]
    }
   ],
   "source": [
    "my_list = [24, 98, 4, 67, 8]\n",
    "my_list.sort()\n",
    "print(my_list)  # Output: [4, 8, 24, 67, 98]"
   ]
  },
  {
   "cell_type": "markdown",
   "id": "c34441a5",
   "metadata": {},
   "source": [
    "**Reversing a List:** <br>\n",
    "The **reverse()** method reverses the order of elements in place."
   ]
  },
  {
   "cell_type": "code",
   "execution_count": 12,
   "id": "1dbac288",
   "metadata": {},
   "outputs": [
    {
     "name": "stdout",
     "output_type": "stream",
     "text": [
      "[100, 80, 60, 40, 20]\n"
     ]
    }
   ],
   "source": [
    "my_list = [20, 40, 60, 80, 100]\n",
    "my_list.reverse()\n",
    "print(my_list)  # Output: [100, 80, 60, 40, 20]"
   ]
  },
  {
   "cell_type": "markdown",
   "id": "0d0661a5",
   "metadata": {},
   "source": [
    "### Additional List Methods\n",
    "- **append()**: Adds an item to the end of the list. <br>\n",
    "- **insert(index, value)**: Inserts an item at a specified index. <br>\n",
    "- **pop()**: Removes the item at the specified index (or the last item if no index is specified). <br>\n",
    "- **remove()**: Removes the first occurrence of a value. <br>\n",
    "- **clear()**: Removes all items from the list. <br>\n",
    "- **count()**: Returns the number of times a value occurs in the list. <br>\n",
    "- **index()**: Returns the index of the first occurrence of a value."
   ]
  },
  {
   "cell_type": "markdown",
   "id": "cbb3b956",
   "metadata": {},
   "source": [
    "### Conclusion\n",
    "Lists are one of the most flexible and powerful data types in Python. They are widely used because of their ability to store diverse data types, be easily manipulated, and allow for various operations like sorting, reversing, indexing, and slicing."
   ]
  }
 ],
 "metadata": {
  "kernelspec": {
   "display_name": "Python 3 (ipykernel)",
   "language": "python",
   "name": "python3"
  },
  "language_info": {
   "codemirror_mode": {
    "name": "ipython",
    "version": 3
   },
   "file_extension": ".py",
   "mimetype": "text/x-python",
   "name": "python",
   "nbconvert_exporter": "python",
   "pygments_lexer": "ipython3",
   "version": "3.11.5"
  }
 },
 "nbformat": 4,
 "nbformat_minor": 5
}
