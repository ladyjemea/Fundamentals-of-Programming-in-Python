{
 "cells": [
  {
   "cell_type": "markdown",
   "id": "e8cc3103",
   "metadata": {},
   "source": [
    "<img src=\"LaeCodes.png\" \n",
    "align=\"center\" \n",
    "width=\"100\" />"
   ]
  },
  {
   "cell_type": "markdown",
   "id": "0b9020aa",
   "metadata": {},
   "source": [
    "# Weekly Assessment\n",
    "\n",
    "### Lists\n",
    "1. What is the main difference between lists and tuples in Python? Provide an example of each.\n",
    "\n",
    "2. Given the list numbers = [10, 20, 30, 40, 50], write a Python command to replace the second item (20) with 25 and add 60 to the end of the list.\n",
    "\n",
    "3. Explain what list slicing is and demonstrate how to slice the list fruits = ['apple', 'banana', 'orange', 'grape', 'mango'] to get the sublist ['banana', 'orange'].\n",
    "\n",
    "### Tuples\n",
    "4. Tuples are immutable. What does this mean? Write a short Python script to convert a tuple into a list, modify the list, and convert it back to a tuple.\n",
    "\n",
    "5. Given the tuple my_tuple = (1, 2, 3, 4, 5), write a Python command to unpack its values into separate variables.\n",
    "\n",
    "### Sets\n",
    "6. What is the difference between the add() and update() methods in a Python set? Provide examples of how each is used.\n",
    "\n",
    "7. Write a Python command to find the common elements (intersection) between two sets: set1 = {1, 2, 3, 4} and set2 = {3, 4, 5, 6}.\n",
    "\n",
    "### Dictionaries\n",
    "8. What are the key differences between a dictionary and a list in Python? How are keys and values stored in a dictionary?\n",
    "\n",
    "9. Given the dictionary student = {'name': 'John', 'age': 20, 'major': 'Computer Science'}, write Python commands to: (a) change the age to 21, (b) add a new key-value pair for 'grade' with a value of 'A'.\n",
    "\n",
    "10. How would you retrieve the value associated with the key 'city' from the dictionary person = {'name': 'Jane', 'city': 'New York'} using the get() method? What happens if the key does not exist?"
   ]
  }
 ],
 "metadata": {
  "kernelspec": {
   "display_name": "Python 3 (ipykernel)",
   "language": "python",
   "name": "python3"
  },
  "language_info": {
   "codemirror_mode": {
    "name": "ipython",
    "version": 3
   },
   "file_extension": ".py",
   "mimetype": "text/x-python",
   "name": "python",
   "nbconvert_exporter": "python",
   "pygments_lexer": "ipython3",
   "version": "3.11.5"
  }
 },
 "nbformat": 4,
 "nbformat_minor": 5
}
