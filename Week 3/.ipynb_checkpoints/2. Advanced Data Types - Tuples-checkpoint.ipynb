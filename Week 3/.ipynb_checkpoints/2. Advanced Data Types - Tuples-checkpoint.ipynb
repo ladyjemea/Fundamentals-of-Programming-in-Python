{
 "cells": [
  {
   "cell_type": "markdown",
   "id": "e50a51ae",
   "metadata": {},
   "source": [
    "<img src=\"LaeCodes.png\" \n",
    "     align=\"center\" \n",
    "     width=\"100\" />"
   ]
  },
  {
   "cell_type": "markdown",
   "id": "44cd7a02",
   "metadata": {},
   "source": [
    "# Advanced Data Types: Tuples\n",
    "\n",
    "A tuple is a collection data type in Python, used to store multiple items in a single variable. Along with lists, dictionaries, and sets, tuples are one of Python's built-in collection types. Tuples are ordered, immutable, and allow duplicates, meaning you can store multiple identical items. Tuples can contain elements of any data type, including integers, strings, lists, dictionaries, and even other tuples. <br>\n",
    "\n",
    "### Key Features of Tuples:\n",
    "- **Ordered:** Tuples maintain the order of items. Items in a tuple are indexed starting from **[0]**. <br>\n",
    "- **Immutable:** Once created, the elements in a tuple cannot be modified, added, or removed. <br>\n",
    "- **Allow Duplicates:** Tuples can contain multiple instances of the same value. <br>\n",
    "- **Multiple Data Types:** Tuples can hold elements of different data types, including strings, integers, lists, and more.\n",
    "\n",
    "### Tuple Definition and Basic Operations:\n",
    "Tuples can be created using parentheses **()** or by using the **tuple()** constructor."
   ]
  },
  {
   "cell_type": "code",
   "execution_count": 1,
   "id": "843271cd",
   "metadata": {},
   "outputs": [
    {
     "name": "stdout",
     "output_type": "stream",
     "text": [
      "(1, 2.5, 'apple', [3, 4, 5], {'age': 25, 'name': 'Mary'}, 'apple', True)\n",
      "Mary\n",
      "4\n",
      "7\n",
      "2\n",
      "2\n",
      "('apple', [3, 4, 5], {'age': 25, 'name': 'Mary'}, 'apple', True)\n",
      "<class 'tuple'>\n"
     ]
    }
   ],
   "source": [
    "my_tuple = (1, 2.5, 'apple', [3, 4, 5], {'age': 25, 'name': 'Mary'}, 'apple', True)\n",
    "# Alternative: using the tuple constructor\n",
    "# my_tuple = tuple((1, 2.5, 'apple', [3, 4, 5], {'age': 25, 'name': 'Mary'}, 'apple', True))\n",
    "\n",
    "print(my_tuple)  # Prints the entire tuple\n",
    "print(my_tuple[4]['name'])  # Accesses the dictionary at index 4 and prints the value for 'name'\n",
    "print(my_tuple[3][1])  # Accesses the second element inside the list at index 3\n",
    "print(len(my_tuple))  # Prints the length of the tuple\n",
    "print(my_tuple.count('apple'))  # Counts how many times 'apple' appears in the tuple\n",
    "print(my_tuple.index('apple'))  # Returns the index of the first occurrence of 'apple'\n",
    "print(my_tuple[2:])  # Slices the tuple starting from index 2\n",
    "print(type(my_tuple))  # Prints the type of the object"
   ]
  },
  {
   "cell_type": "markdown",
   "id": "eac928ca",
   "metadata": {},
   "source": [
    "### Differences Between Tuples and Lists\n",
    "1. **Immutability:** <br>\n",
    "- **Tuples:** Once a tuple is created, its elements cannot be changed. <br>\n",
    "- **Lists:** Lists are mutable, allowing you to modify, add, or remove elements after creation. <br>\n",
    "\n",
    "**Example:**"
   ]
  },
  {
   "cell_type": "code",
   "execution_count": 2,
   "id": "0ccd1022",
   "metadata": {},
   "outputs": [
    {
     "ename": "TypeError",
     "evalue": "'tuple' object does not support item assignment",
     "output_type": "error",
     "traceback": [
      "\u001b[0;31m---------------------------------------------------------------------------\u001b[0m",
      "\u001b[0;31mTypeError\u001b[0m                                 Traceback (most recent call last)",
      "Cell \u001b[0;32mIn[2], line 3\u001b[0m\n\u001b[1;32m      1\u001b[0m my_tuple \u001b[38;5;241m=\u001b[39m (\u001b[38;5;241m1\u001b[39m, \u001b[38;5;241m2.5\u001b[39m, \u001b[38;5;124m'\u001b[39m\u001b[38;5;124mapple\u001b[39m\u001b[38;5;124m'\u001b[39m, [\u001b[38;5;241m3\u001b[39m, \u001b[38;5;241m4\u001b[39m, \u001b[38;5;241m5\u001b[39m], {\u001b[38;5;124m'\u001b[39m\u001b[38;5;124mage\u001b[39m\u001b[38;5;124m'\u001b[39m: \u001b[38;5;241m25\u001b[39m}, \u001b[38;5;124m'\u001b[39m\u001b[38;5;124mapple\u001b[39m\u001b[38;5;124m'\u001b[39m, \u001b[38;5;28;01mTrue\u001b[39;00m)\n\u001b[1;32m      2\u001b[0m \u001b[38;5;66;03m# Attempting to modify an element of a tuple results in an error:\u001b[39;00m\n\u001b[0;32m----> 3\u001b[0m my_tuple[\u001b[38;5;241m1\u001b[39m] \u001b[38;5;241m=\u001b[39m \u001b[38;5;124m'\u001b[39m\u001b[38;5;124mNew\u001b[39m\u001b[38;5;124m'\u001b[39m\n",
      "\u001b[0;31mTypeError\u001b[0m: 'tuple' object does not support item assignment"
     ]
    }
   ],
   "source": [
    "my_tuple = (1, 2.5, 'apple', [3, 4, 5], {'age': 25}, 'apple', True)\n",
    "# Attempting to modify an element of a tuple results in an error:\n",
    "my_tuple[1] = 'New'  # This will raise an error"
   ]
  },
  {
   "cell_type": "markdown",
   "id": "1068cc62",
   "metadata": {},
   "source": [
    "**Workaround:** <br>\n",
    "You can convert a tuple to a list, make modifications, and convert it back to a tuple."
   ]
  },
  {
   "cell_type": "code",
   "execution_count": 3,
   "id": "475bbc62",
   "metadata": {},
   "outputs": [
    {
     "name": "stdout",
     "output_type": "stream",
     "text": [
      "(1, 'New', 'apple', [3, 4, 5], {'age': 25}, 'apple', True)\n"
     ]
    }
   ],
   "source": [
    "my_tuple = (1, 2.5, 'apple', [3, 4, 5], {'age': 25}, 'apple', True)\n",
    "my_list = list(my_tuple)  # Convert tuple to list\n",
    "my_list[1] = 'New'  # Modify the list\n",
    "my_tuple = tuple(my_list)  # Convert list back to tuple\n",
    "print(my_tuple)"
   ]
  },
  {
   "cell_type": "markdown",
   "id": "2ef3ba34",
   "metadata": {},
   "source": [
    "2. **Syntax:** <br>\n",
    "- **Tuples:** Defined using parentheses **()**. <br>\n",
    "- **Lists:** Defined using square brackets **[]**. <br>\n",
    "\n",
    "3. **Performance and Size:**\n",
    "- **Tuples:** Tuples are more memory-efficient and faster than lists because they are immutable and have a fixed size. <br>\n",
    "- **Lists:** Lists, being mutable, require more memory and are slower when compared to tuples. <br>\n",
    "\n",
    "### Tuple Packing and Unpacking\n",
    "- **Packing:** Assigning multiple values to a tuple. <br>\n",
    "- **Unpacking:** Extracting the values from a tuple into separate variables. <br>\n",
    "\n",
    "**Example:**"
   ]
  },
  {
   "cell_type": "code",
   "execution_count": 4,
   "id": "d5cc3101",
   "metadata": {},
   "outputs": [
    {
     "name": "stdout",
     "output_type": "stream",
     "text": [
      "1\n",
      "2.5\n",
      "apple\n",
      "[3, 4, 5]\n"
     ]
    }
   ],
   "source": [
    "my_tuple = (1, 2.5, 'apple', [3, 4, 5])  # Tuple packing\n",
    "\n",
    "(number1, number2, fruit, my_list) = my_tuple  # Tuple unpacking\n",
    "print(number1)  # Output: 1\n",
    "print(number2)  # Output: 2.5\n",
    "print(fruit)    # Output: apple\n",
    "print(my_list)  # Output: [3, 4, 5]"
   ]
  },
  {
   "cell_type": "markdown",
   "id": "2088e0d8",
   "metadata": {},
   "source": [
    "If the number of variables does not match the number of items in the tuple, use the * operator to collect the remaining values."
   ]
  },
  {
   "cell_type": "code",
   "execution_count": 5,
   "id": "9c628611",
   "metadata": {},
   "outputs": [
    {
     "name": "stdout",
     "output_type": "stream",
     "text": [
      "1\n",
      "2.5\n",
      "[[8, 9, 10], [3, 4, 5]]\n"
     ]
    }
   ],
   "source": [
    "my_tuple = (1, 2.5, [8, 9, 10], [3, 4, 5])\n",
    "(number1, number2, *my_list) = my_tuple  # Unpacking with an asterisk\n",
    "print(number1)  # Output: 1\n",
    "print(number2)  # Output: 2.5\n",
    "print(my_list)  # Output: [[8, 9, 10], [3, 4, 5]]  # Remaining values packed into a list"
   ]
  },
  {
   "cell_type": "markdown",
   "id": "12f6b23d",
   "metadata": {},
   "source": [
    "### Joining Tuples\n",
    "You can join (concatenate) two or more tuples using the **+** operator. <br>\n",
    "\n",
    "**Example:**"
   ]
  },
  {
   "cell_type": "code",
   "execution_count": 6,
   "id": "32664910",
   "metadata": {},
   "outputs": [
    {
     "name": "stdout",
     "output_type": "stream",
     "text": [
      "(1, 2.5, 'apple', True, [3, 4, 5], {'age': 25})\n"
     ]
    }
   ],
   "source": [
    "tuple1 = (1, 2.5, 'apple', True)\n",
    "tuple2 = ([3, 4, 5], {'age': 25})\n",
    "\n",
    "new_tuple = tuple1 + tuple2\n",
    "print(new_tuple)  # Output: (1, 2.5, 'apple', True, [3, 4, 5], {'age': 25})"
   ]
  },
  {
   "cell_type": "markdown",
   "id": "3f30d5d5",
   "metadata": {},
   "source": [
    "### Repeating Tuples\n",
    "You can repeat a tuple a specified number of times using the * operator.\n",
    "\n",
    "**Example:**"
   ]
  },
  {
   "cell_type": "code",
   "execution_count": 7,
   "id": "3c1d85fc",
   "metadata": {},
   "outputs": [
    {
     "name": "stdout",
     "output_type": "stream",
     "text": [
      "(1, 2.5, 'apple', True, 1, 2.5, 'apple', True)\n"
     ]
    }
   ],
   "source": [
    "tuple1 = (1, 2.5, 'apple', True)\n",
    "new_tuple = tuple1 * 2  # Repeats the tuple twice\n",
    "print(new_tuple)  # Output: (1, 2.5, 'apple', True, 1, 2.5, 'apple', True)"
   ]
  },
  {
   "cell_type": "markdown",
   "id": "451e620c",
   "metadata": {},
   "source": [
    "### Conclusion\n",
    "Tuples are a highly useful data type when you want to store multiple items that you don't want to change throughout the execution of a program. They provide a more memory-efficient and faster alternative to lists and are ideal for handling fixed collections of data."
   ]
  }
 ],
 "metadata": {
  "kernelspec": {
   "display_name": "Python 3 (ipykernel)",
   "language": "python",
   "name": "python3"
  },
  "language_info": {
   "codemirror_mode": {
    "name": "ipython",
    "version": 3
   },
   "file_extension": ".py",
   "mimetype": "text/x-python",
   "name": "python",
   "nbconvert_exporter": "python",
   "pygments_lexer": "ipython3",
   "version": "3.11.5"
  }
 },
 "nbformat": 4,
 "nbformat_minor": 5
}
