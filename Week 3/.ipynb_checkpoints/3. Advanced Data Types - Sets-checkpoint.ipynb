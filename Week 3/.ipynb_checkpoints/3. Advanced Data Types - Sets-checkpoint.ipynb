{
 "cells": [
  {
   "cell_type": "markdown",
   "id": "148207a0",
   "metadata": {},
   "source": [
    "<img src=\"LaeCodes.png\" \n",
    "     align=\"center\" \n",
    "     width=\"100\" />"
   ]
  },
  {
   "cell_type": "markdown",
   "id": "e2c2354e",
   "metadata": {},
   "source": [
    "# Advanced Data Types: Sets\n",
    "A set in Python is an unordered collection of unique items. This means that every item in a set must be unique, and sets are used to store items without duplicates. Sets are particularly useful when you need to ensure that no item appears more than once in a collection.\n",
    "\n",
    "### Key Properties of Sets:\n",
    "- **Uniqueness:** A set cannot contain duplicate elements. If you try to add a duplicate item, Python will ignore it. <br>\n",
    "- **Unordered:** The elements in a set do not maintain any specific order. Since sets are unordered, they do not support indexing. <br>\n",
    "- **Mutable:** You can add or remove items from a set after it has been created. <br>\n",
    "- **Defined with Curly Braces {}:** Sets are typically created using curly braces, but you can also use the set() constructor. To create an empty set, you must use set(), as {} creates an empty dictionary. <br>\n",
    "\n",
    "### Basic Operations with Sets\n",
    "- **Creating a Set:**"
   ]
  },
  {
   "cell_type": "code",
   "execution_count": 1,
   "id": "acb1682b",
   "metadata": {},
   "outputs": [],
   "source": [
    "set1 = {0, 1, 2, 3, 4, 5}\n",
    "set2 = set([5, 6.3, 'No', False, 9])  # False and 0 are considered the same value"
   ]
  },
  {
   "cell_type": "markdown",
   "id": "8cc6fe0e",
   "metadata": {},
   "source": [
    "- **Set Union:** <br>\n",
    "The **union()** method returns a new set with all items from both sets, without duplicates."
   ]
  },
  {
   "cell_type": "code",
   "execution_count": 2,
   "id": "94b9aba6",
   "metadata": {},
   "outputs": [
    {
     "name": "stdout",
     "output_type": "stream",
     "text": [
      "{0, 1, 2, 3, 4, 5, 'No', 6.3, 9}\n"
     ]
    }
   ],
   "source": [
    "set_union = set1.union(set2)\n",
    "print(set_union)  # Combines set1 and set2"
   ]
  },
  {
   "cell_type": "markdown",
   "id": "a887af10",
   "metadata": {},
   "source": [
    "- **Set Update:** <br>\n",
    "The **update()** method adds items from another set or iterable (like lists, tuples) into the set."
   ]
  },
  {
   "cell_type": "code",
   "execution_count": 3,
   "id": "796a9a48",
   "metadata": {},
   "outputs": [
    {
     "name": "stdout",
     "output_type": "stream",
     "text": [
      "{0, 1, 2, 3, 4, 5, 'No', 6.3, 9}\n"
     ]
    }
   ],
   "source": [
    "set1.update(set2)\n",
    "print(set1)  # set1 is updated with elements from set2"
   ]
  },
  {
   "cell_type": "markdown",
   "id": "9d6bf19f",
   "metadata": {},
   "source": [
    "- **Set Intersection:** <br>\n",
    "The **intersection()** method returns a new set that contains the common elements between two sets."
   ]
  },
  {
   "cell_type": "code",
   "execution_count": 4,
   "id": "8c75dd50",
   "metadata": {},
   "outputs": [
    {
     "name": "stdout",
     "output_type": "stream",
     "text": [
      "{False, 'No', 5, 6.3, 9}\n"
     ]
    }
   ],
   "source": [
    "set_intersection = set1.intersection(set2)\n",
    "print(set_intersection)  # Common items between set1 and set2"
   ]
  },
  {
   "cell_type": "markdown",
   "id": "34b72a76",
   "metadata": {},
   "source": [
    "- **Intersection Update:** <br>\n",
    "The **intersection_update()** method modifies the set to only keep the common elements with another set."
   ]
  },
  {
   "cell_type": "code",
   "execution_count": 5,
   "id": "8932750e",
   "metadata": {},
   "outputs": [
    {
     "name": "stdout",
     "output_type": "stream",
     "text": [
      "{False, 'No', 5, 6.3, 9}\n"
     ]
    }
   ],
   "source": [
    "set1.intersection_update(set2)\n",
    "print(set1)  # set1 now only contains common elements with set2"
   ]
  },
  {
   "cell_type": "markdown",
   "id": "d044c110",
   "metadata": {},
   "source": [
    "- **Symmetric Difference:** <br>\n",
    "The **symmetric_difference()** method returns a new set that contains only the elements that are not present in both sets."
   ]
  },
  {
   "cell_type": "code",
   "execution_count": 6,
   "id": "6bc82499",
   "metadata": {},
   "outputs": [
    {
     "name": "stdout",
     "output_type": "stream",
     "text": [
      "set()\n"
     ]
    }
   ],
   "source": [
    "my_set = set1.symmetric_difference(set2)\n",
    "print(my_set)  # Items not present in both sets"
   ]
  },
  {
   "cell_type": "markdown",
   "id": "f7a01317",
   "metadata": {},
   "source": [
    "- **Symmetric Difference Update:** <br>\n",
    "The **symmetric_difference_update()** method modifies the original set, keeping only the elements not present in both sets."
   ]
  },
  {
   "cell_type": "code",
   "execution_count": 7,
   "id": "33be696f",
   "metadata": {},
   "outputs": [
    {
     "name": "stdout",
     "output_type": "stream",
     "text": [
      "set()\n"
     ]
    }
   ],
   "source": [
    "set1.symmetric_difference_update(set2)\n",
    "print(set1)"
   ]
  },
  {
   "cell_type": "markdown",
   "id": "9ab1a150",
   "metadata": {},
   "source": [
    "### Common Set Methods\n",
    "\n",
    "- **add(item):** Adds an item to the set. <br>\n",
    "- **remove(item):** Removes an item from the set, raises an error if the item does not exist. <br>\n",
    "- **discard(item):** Removes an item, does not raise an error if the item does not exist. <br>\n",
    "- **pop():** Removes and returns a random item from the set. <br>\n",
    "- **clear():** Removes all elements from the set, leaving it empty. <br>\n",
    "- **union():** Returns the union of two sets. <br>\n",
    "- **intersection():** Returns the intersection of two sets. <br>\n",
    "- **symmetric_difference():** Returns the symmetric difference of two sets (elements not present in both). <br>\n",
    "- **issubset():** Checks if a set is a subset of another set. <br>\n",
    "- **issuperset():** Checks if a set is a superset of another set."
   ]
  },
  {
   "cell_type": "markdown",
   "id": "d1b36104",
   "metadata": {},
   "source": [
    "**Examples of Set Methods:**"
   ]
  },
  {
   "cell_type": "code",
   "execution_count": 8,
   "id": "eddd19e5",
   "metadata": {},
   "outputs": [
    {
     "name": "stdout",
     "output_type": "stream",
     "text": [
      "{False, 'No', 5, 6.3, 9, 20}\n",
      "False\n",
      "6\n",
      "<class 'set'>\n"
     ]
    }
   ],
   "source": [
    "set1 = {0, 1, 2, 3, 4, 5}\n",
    "set2 = set([5, 6.3, 'No', False, 9])  # False and 0 are considered the same value\n",
    "\n",
    "# Add an item to set2\n",
    "set2.add(20)\n",
    "print(set2)  # Output includes 20\n",
    "\n",
    "# Check if set1 is a subset of set2\n",
    "print(set1.issubset(set2))  # False\n",
    "\n",
    "# Check the length of set2\n",
    "print(len(set2))  # Returns the number of elements in set2\n",
    "\n",
    "# Check the type of set1\n",
    "print(type(set1))  # <class 'set'>"
   ]
  },
  {
   "cell_type": "markdown",
   "id": "c3be6261",
   "metadata": {},
   "source": [
    "### Accessing Set Items:\n",
    "Since sets are unordered, there is no index-based access. However, you can loop through the set to access each item individually, or use the in keyword to check if an item exists in the set.\n",
    "\n",
    "**Using a For Loop:**"
   ]
  },
  {
   "cell_type": "code",
   "execution_count": 9,
   "id": "21bf855e",
   "metadata": {},
   "outputs": [
    {
     "name": "stdout",
     "output_type": "stream",
     "text": [
      "0\n",
      "1\n",
      "2\n",
      "3\n",
      "4\n",
      "5\n"
     ]
    }
   ],
   "source": [
    "set1 = {0, 1, 2, 3, 4, 5}\n",
    "for item in set1:\n",
    "    print(item)"
   ]
  },
  {
   "cell_type": "markdown",
   "id": "ff04e566",
   "metadata": {},
   "source": [
    "**Using the in Keyword:**"
   ]
  },
  {
   "cell_type": "code",
   "execution_count": 10,
   "id": "ddf6eb65",
   "metadata": {},
   "outputs": [
    {
     "name": "stdout",
     "output_type": "stream",
     "text": [
      "True\n",
      "False\n"
     ]
    }
   ],
   "source": [
    "print(1 in set1)  # True\n",
    "print(6 in set1)  # False"
   ]
  },
  {
   "cell_type": "markdown",
   "id": "94b7d179",
   "metadata": {},
   "source": [
    "### Adding Items to a Set:\n",
    "You can add elements to a set using the **add()** method."
   ]
  },
  {
   "cell_type": "code",
   "execution_count": 11,
   "id": "eb052f55",
   "metadata": {},
   "outputs": [
    {
     "name": "stdout",
     "output_type": "stream",
     "text": [
      "{0, 1, 2, 3, 4, 5, 'orange'}\n"
     ]
    }
   ],
   "source": [
    "set1.add('orange')\n",
    "print(set1)  # 'orange' is added to set1"
   ]
  },
  {
   "cell_type": "markdown",
   "id": "437fc19e",
   "metadata": {},
   "source": [
    "### Removing Items from a Set:\n",
    "**remove():** <br>\n",
    "Removes the specified item from the set. If the item does not exist, it raises an error."
   ]
  },
  {
   "cell_type": "code",
   "execution_count": 12,
   "id": "23208da3",
   "metadata": {},
   "outputs": [
    {
     "ename": "KeyError",
     "evalue": "9",
     "output_type": "error",
     "traceback": [
      "\u001b[0;31m---------------------------------------------------------------------------\u001b[0m",
      "\u001b[0;31mKeyError\u001b[0m                                  Traceback (most recent call last)",
      "Cell \u001b[0;32mIn[12], line 1\u001b[0m\n\u001b[0;32m----> 1\u001b[0m my_set\u001b[38;5;241m.\u001b[39mremove(\u001b[38;5;241m9\u001b[39m)\n",
      "\u001b[0;31mKeyError\u001b[0m: 9"
     ]
    }
   ],
   "source": [
    "my_set.remove(9)"
   ]
  },
  {
   "cell_type": "markdown",
   "id": "c5dca572",
   "metadata": {},
   "source": [
    "**discard():** <br>\n",
    "Removes the specified item from the set. If the item does not exist, no error is raised."
   ]
  },
  {
   "cell_type": "code",
   "execution_count": 13,
   "id": "de82da23",
   "metadata": {},
   "outputs": [],
   "source": [
    "my_set.discard(19)  # No error raised even if 19 is not in the set"
   ]
  },
  {
   "cell_type": "markdown",
   "id": "dfed3f08",
   "metadata": {},
   "source": [
    "**pop():** <br>\n",
    "Removes a random item from the set."
   ]
  },
  {
   "cell_type": "code",
   "execution_count": 14,
   "id": "f9d9bfc8",
   "metadata": {},
   "outputs": [
    {
     "ename": "KeyError",
     "evalue": "'pop from an empty set'",
     "output_type": "error",
     "traceback": [
      "\u001b[0;31m---------------------------------------------------------------------------\u001b[0m",
      "\u001b[0;31mKeyError\u001b[0m                                  Traceback (most recent call last)",
      "Cell \u001b[0;32mIn[14], line 1\u001b[0m\n\u001b[0;32m----> 1\u001b[0m my_set\u001b[38;5;241m.\u001b[39mpop()\n",
      "\u001b[0;31mKeyError\u001b[0m: 'pop from an empty set'"
     ]
    }
   ],
   "source": [
    "my_set.pop()  # Removes any random item from the set"
   ]
  },
  {
   "cell_type": "markdown",
   "id": "ccc9f7c8",
   "metadata": {},
   "source": [
    "**clear():** <br>\n",
    "Removes all items from the set, making it an empty set."
   ]
  },
  {
   "cell_type": "markdown",
   "id": "dbcdb2cf",
   "metadata": {},
   "source": [
    "### Conclusion\n",
    "Sets are extremely useful when you need a collection of unique items and are not concerned with their order. They provide efficient operations for checking membership, eliminating duplicates, and performing common set operations like union, intersection, and difference."
   ]
  }
 ],
 "metadata": {
  "kernelspec": {
   "display_name": "Python 3 (ipykernel)",
   "language": "python",
   "name": "python3"
  },
  "language_info": {
   "codemirror_mode": {
    "name": "ipython",
    "version": 3
   },
   "file_extension": ".py",
   "mimetype": "text/x-python",
   "name": "python",
   "nbconvert_exporter": "python",
   "pygments_lexer": "ipython3",
   "version": "3.11.5"
  }
 },
 "nbformat": 4,
 "nbformat_minor": 5
}
