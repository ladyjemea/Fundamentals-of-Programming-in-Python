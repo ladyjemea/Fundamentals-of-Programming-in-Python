{
 "cells": [
  {
   "cell_type": "markdown",
   "id": "d8af5797",
   "metadata": {},
   "source": [
    "<img src=\"LaeCodes.png\" \n",
    "align=\"center\" \n",
    "width=\"100\" />"
   ]
  },
  {
   "cell_type": "markdown",
   "id": "85f6ac2f",
   "metadata": {},
   "source": [
    "# Weekly Assessment\n",
    "\n",
    "### Lists\n",
    "1. What is the main difference between lists and tuples in Python? Provide an example of each.\n",
    "The main difference between lists and tuples is that lists are mutable (can be modified after creation) while tuples are immutable (cannot be modified after creation).\n",
    "Example of a List (mutable):\n",
    "\n"
   ]
  }
 ],
 "metadata": {
  "kernelspec": {
   "display_name": "Python 3 (ipykernel)",
   "language": "python",
   "name": "python3"
  },
  "language_info": {
   "codemirror_mode": {
    "name": "ipython",
    "version": 3
   },
   "file_extension": ".py",
   "mimetype": "text/x-python",
   "name": "python",
   "nbconvert_exporter": "python",
   "pygments_lexer": "ipython3",
   "version": "3.11.5"
  }
 },
 "nbformat": 4,
 "nbformat_minor": 5
}
