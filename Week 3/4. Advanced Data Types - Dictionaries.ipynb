{
 "cells": [
  {
   "cell_type": "markdown",
   "id": "e63b7b10",
   "metadata": {},
   "source": [
    "<img src=\"LaeCodes.png\" \n",
    "     align=\"center\" \n",
    "     width=\"100\" />"
   ]
  },
  {
   "cell_type": "markdown",
   "id": "38b72f53",
   "metadata": {},
   "source": [
    "# Advanced Data Types: Dictionaries\n",
    "\n",
    "A dictionary in Python is an **unordered** collection of **key-value pairs**. Each **key** in a dictionary must be **unique**, and it is associated with a value. Dictionaries are extremely useful for storing data pairs where a key is used to retrieve the corresponding value.\n",
    "\n",
    "Dictionaries are defined using **curly braces {}** and contain comma-separated key-value pairs, where the key and value are separated by a colon :.\n",
    "\n",
    "### Key Features of Dictionaries:\n",
    "- **Unordered:** Unlike lists or tuples, dictionaries do not maintain any specific order for the elements. <br>\n",
    "- **Key-Value Pairs:** Each item in a dictionary is a key-value pair where the key must be immutable (like a string, number, or tuple), and the value can be any data type. <br>\n",
    "- **Unique Keys:** Each key in a dictionary must be unique. If you add a duplicate key, the existing value for that key will be overridden. <br>\n",
    "- **Mutable:** Dictionaries are mutable, meaning you can change, add, or remove key-value pairs after the dictionary is created. <br>\n",
    "- **Faster Lookup:** Dictionaries provide fast lookup times when searching for values using keys, making them highly efficient. <br>\n",
    "\n",
    "### Creating a Dictionary:\n",
    "You can create a dictionary using curly braces **{}** or by using the **dict()** constructor."
   ]
  },
  {
   "cell_type": "code",
   "execution_count": 1,
   "id": "562fbd27",
   "metadata": {},
   "outputs": [
    {
     "name": "stdout",
     "output_type": "stream",
     "text": [
      "Sarah\n",
      "45\n"
     ]
    }
   ],
   "source": [
    "# Creating a dictionary\n",
    "my_dict = {\n",
    "    'name': 'Sarah', \n",
    "    'age': 45, \n",
    "    'city': 'Paris'\n",
    "}\n",
    "\n",
    "# Accessing values using keys\n",
    "print(my_dict['name'])  # Output: Sarah\n",
    "print(my_dict['age'])   # Output: 45"
   ]
  },
  {
   "cell_type": "markdown",
   "id": "fdda97ef",
   "metadata": {},
   "source": [
    "You can also use the **dict()** constructor to create dictionaries."
   ]
  },
  {
   "cell_type": "code",
   "execution_count": 2,
   "id": "36da6e60",
   "metadata": {},
   "outputs": [
    {
     "name": "stdout",
     "output_type": "stream",
     "text": [
      "{'name': 'Sarah', 'age': 45, 'city': 'Paris'}\n"
     ]
    }
   ],
   "source": [
    "my_dict = dict(name='Sarah', age=45, city='Paris')\n",
    "print(my_dict)"
   ]
  },
  {
   "cell_type": "markdown",
   "id": "b82bd028",
   "metadata": {},
   "source": [
    "### Modifying a Dictionary:\n",
    "Dictionaries are mutable, so you can modify the values, add new key-value pairs, or remove existing pairs.\n",
    "\n",
    "**Modifying Values:**"
   ]
  },
  {
   "cell_type": "code",
   "execution_count": 3,
   "id": "c6b7680a",
   "metadata": {},
   "outputs": [
    {
     "name": "stdout",
     "output_type": "stream",
     "text": [
      "46\n"
     ]
    }
   ],
   "source": [
    "my_dict['age'] = 46  # Update the value associated with the key 'age'\n",
    "print(my_dict['age'])  # Output: 46"
   ]
  },
  {
   "cell_type": "markdown",
   "id": "c7b57329",
   "metadata": {},
   "source": [
    "**Adding a New Key-Value Pair:**"
   ]
  },
  {
   "cell_type": "code",
   "execution_count": 4,
   "id": "430b44bc",
   "metadata": {},
   "outputs": [
    {
     "name": "stdout",
     "output_type": "stream",
     "text": [
      "{'name': 'Sarah', 'age': 46, 'city': 'Paris', 'occupation': 'Teacher'}\n"
     ]
    }
   ],
   "source": [
    "my_dict['occupation'] = 'Teacher'  # Adds a new key-value pair\n",
    "print(my_dict)  # Output: {'name': 'Sarah', 'age': 46, 'city': 'Paris', 'occupation': 'Teacher'}"
   ]
  },
  {
   "cell_type": "markdown",
   "id": "4c5e2728",
   "metadata": {},
   "source": [
    "**Deleting a Key-Value Pair:**"
   ]
  },
  {
   "cell_type": "code",
   "execution_count": 5,
   "id": "1b013258",
   "metadata": {},
   "outputs": [
    {
     "name": "stdout",
     "output_type": "stream",
     "text": [
      "{'name': 'Sarah', 'age': 46, 'occupation': 'Teacher'}\n"
     ]
    }
   ],
   "source": [
    "del my_dict['city']  # Deletes the key 'city' and its associated value\n",
    "print(my_dict)  # Output: {'name': 'Sarah', 'age': 46, 'occupation': 'Teacher'}"
   ]
  },
  {
   "cell_type": "markdown",
   "id": "ae62a91f",
   "metadata": {},
   "source": [
    "### No Duplicate Keys:\n",
    "If you add a key that already exists in the dictionary, it will override the existing value for that key."
   ]
  },
  {
   "cell_type": "code",
   "execution_count": 6,
   "id": "216e5179",
   "metadata": {},
   "outputs": [
    {
     "name": "stdout",
     "output_type": "stream",
     "text": [
      "{'name': 'Sarah', 'age': 45, 'city': 'London'}\n"
     ]
    }
   ],
   "source": [
    "my_dict = {\n",
    "    'name': 'Sarah', \n",
    "    'age': 45, \n",
    "    'city': 'Paris',\n",
    "    'city': 'London'  # The key 'city' already exists, so it will be overridden\n",
    "}\n",
    "\n",
    "print(my_dict)  # Output: {'name': 'Sarah', 'age': 45, 'city': 'London'}"
   ]
  },
  {
   "cell_type": "markdown",
   "id": "db3f2f0a",
   "metadata": {},
   "source": [
    "### Dictionary Methods:\n",
    "\n",
    "Dictionaries come with several useful methods to retrieve keys, values, and items, and to update or remove key-value pairs."
   ]
  },
  {
   "cell_type": "code",
   "execution_count": 7,
   "id": "23a5eeb7",
   "metadata": {},
   "outputs": [
    {
     "name": "stdout",
     "output_type": "stream",
     "text": [
      "dict_keys(['name', 'age', 'city'])\n",
      "dict_values(['Sarah', 45, 'Paris'])\n",
      "dict_items([('name', 'Sarah'), ('age', 45), ('city', 'Paris')])\n",
      "3\n"
     ]
    }
   ],
   "source": [
    "my_dict = {\n",
    "    'name': 'Sarah', \n",
    "    'age': 45, \n",
    "    'city': 'Paris'\n",
    "}\n",
    "\n",
    "print(my_dict.keys())  # Returns a view of the dictionary's keys\n",
    "print(my_dict.values())  # Returns a view of the dictionary's values\n",
    "print(my_dict.items())  # Returns a view of the dictionary's key-value pairs\n",
    "print(len(my_dict))  # Returns the number of key-value pairs"
   ]
  },
  {
   "cell_type": "markdown",
   "id": "e8ed97df",
   "metadata": {},
   "source": [
    "**Updating a Dictionary:** <br>\n",
    "You can update a dictionary with key-value pairs from another dictionary or iterable using the **update()** method."
   ]
  },
  {
   "cell_type": "code",
   "execution_count": 8,
   "id": "3fd54eec",
   "metadata": {},
   "outputs": [
    {
     "name": "stdout",
     "output_type": "stream",
     "text": [
      "{'name': 'Sarah', 'age': 51, 'city': 'New York'}\n"
     ]
    }
   ],
   "source": [
    "update_dict = {'city': 'New York', 'age': 51}\n",
    "my_dict.update(update_dict)  # Updates the dictionary with new values\n",
    "print(my_dict)  # Output: {'name': 'Sarah', 'age': 51, 'city': 'New York'}"
   ]
  },
  {
   "cell_type": "markdown",
   "id": "23e9d86b",
   "metadata": {},
   "source": [
    "**Removing a Key-Value Pair:** <br>\n",
    "The **pop()** method removes a key-value pair from the dictionary and returns the value of the removed key."
   ]
  },
  {
   "cell_type": "code",
   "execution_count": 9,
   "id": "ddb864f1",
   "metadata": {},
   "outputs": [
    {
     "name": "stdout",
     "output_type": "stream",
     "text": [
      "51\n",
      "{'name': 'Sarah', 'city': 'New York'}\n"
     ]
    }
   ],
   "source": [
    "removed_value = my_dict.pop('age')\n",
    "print(removed_value)  # Output: 51\n",
    "print(my_dict)  # Output: {'name': 'Sarah', 'city': 'New York'}"
   ]
  },
  {
   "cell_type": "markdown",
   "id": "fd931465",
   "metadata": {},
   "source": [
    "**Retrieving Values with get():** <br>\n",
    "The **get()** method is used to retrieve a value for a given key. If the key is not found, it returns None or a specified default value."
   ]
  },
  {
   "cell_type": "code",
   "execution_count": 10,
   "id": "afc2df26",
   "metadata": {},
   "outputs": [
    {
     "name": "stdout",
     "output_type": "stream",
     "text": [
      "None\n",
      "Unknown\n"
     ]
    }
   ],
   "source": [
    "print(my_dict.get('age'))  # Output: None (because 'age' was popped)\n",
    "\n",
    "# Using a default value\n",
    "occupation = my_dict.get('occupation', 'Unknown')  # If 'occupation' is not found, return 'Unknown'\n",
    "print(occupation)  # Output: 'Unknown'"
   ]
  },
  {
   "cell_type": "markdown",
   "id": "eed375bc",
   "metadata": {},
   "source": [
    "### Stacked Index/Key Calls:\n",
    "Dictionaries can store various data types as values, including lists and other dictionaries. You can use stacked indexing to access values nested inside dictionaries."
   ]
  },
  {
   "cell_type": "code",
   "execution_count": 11,
   "id": "4b2f81fa",
   "metadata": {},
   "outputs": [
    {
     "name": "stdout",
     "output_type": "stream",
     "text": [
      "['English', 'French', 'Computer Science']\n",
      "Computer Science\n",
      "COMPUTER SCIENCE\n",
      "95\n"
     ]
    }
   ],
   "source": [
    "my_dict = {\n",
    "    'name': 'Sarah', \n",
    "    'age': 45, \n",
    "    'city': 'Paris',\n",
    "    'courses': ['English', 'French', 'Computer Science'],\n",
    "    'results': {'English': 90, 'French': 95, 'Computer Science': 98}\n",
    "}\n",
    "\n",
    "print(my_dict['courses'])  # Output: ['English', 'French', 'Computer Science']\n",
    "print(my_dict['courses'][2])  # Accesses the third item in the 'courses' list\n",
    "print(my_dict['courses'][2].upper())  # Converts the third item to uppercase\n",
    "print(my_dict['results']['French'])  # Accesses the value for 'French' in the 'results' dictionary"
   ]
  },
  {
   "cell_type": "markdown",
   "id": "45cd00ab",
   "metadata": {},
   "source": [
    "### Ordered and Changeable:\n",
    "- **Ordered:** Starting from Python 3.7, dictionaries maintain the order in which items are inserted. <br>\n",
    "- **Changeable:** You can change, add, or remove items after the dictionary is created."
   ]
  },
  {
   "cell_type": "markdown",
   "id": "4b54c724",
   "metadata": {},
   "source": [
    "### Conclusion\n",
    "Dictionaries are a highly flexible and efficient way to store key-value pairs in Python. They offer fast lookups, allow you to store a wide range of data types, and provide powerful methods for manipulating data. Dictionaries are ideal for scenarios where you need to map unique keys to values and access them efficiently."
   ]
  }
 ],
 "metadata": {
  "kernelspec": {
   "display_name": "Python 3 (ipykernel)",
   "language": "python",
   "name": "python3"
  },
  "language_info": {
   "codemirror_mode": {
    "name": "ipython",
    "version": 3
   },
   "file_extension": ".py",
   "mimetype": "text/x-python",
   "name": "python",
   "nbconvert_exporter": "python",
   "pygments_lexer": "ipython3",
   "version": "3.11.5"
  }
 },
 "nbformat": 4,
 "nbformat_minor": 5
}
