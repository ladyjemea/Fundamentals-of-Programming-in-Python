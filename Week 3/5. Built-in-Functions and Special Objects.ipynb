{
 "cells": [
  {
   "cell_type": "markdown",
   "id": "bd3c2b1f",
   "metadata": {},
   "source": [
    "<img src=\"LaeCodes.png\" \n",
    "     align=\"center\" \n",
    "     width=\"100\" />"
   ]
  },
  {
   "cell_type": "markdown",
   "id": "e5439905",
   "metadata": {},
   "source": [
    "# Built-in Functions and Special Objects in Python\n",
    "\n",
    "Python provides a large number of built-in functions that are always available for use. These built-in functions allow you to perform common tasks without the need for importing external libraries. Some of the most commonly used built-in functions include len(), int(), float(), str(), type(), and more. Additionally, Python has special objects like None and magic methods (also called dunder methods) such as __str__() and __name__.\n",
    "\n",
    "1. **Built-in Functions** <br>\n",
    "- **len():** <br>\n",
    "The **len()** function returns the number of items in an object. It is commonly used for sequences like lists, tuples, and strings."
   ]
  },
  {
   "cell_type": "code",
   "execution_count": 1,
   "id": "0c429001",
   "metadata": {},
   "outputs": [
    {
     "name": "stdout",
     "output_type": "stream",
     "text": [
      "4\n"
     ]
    }
   ],
   "source": [
    "my_list = [1, 2, 3, 4]\n",
    "print(len(my_list))  # Output: 4"
   ]
  },
  {
   "cell_type": "markdown",
   "id": "8d5873b1",
   "metadata": {},
   "source": [
    "- **int():** <br>\n",
    "The **int()** function converts a given value to an integer type. If the value cannot be converted, a ValueError is raised."
   ]
  },
  {
   "cell_type": "code",
   "execution_count": 2,
   "id": "0b3ac929",
   "metadata": {},
   "outputs": [
    {
     "name": "stdout",
     "output_type": "stream",
     "text": [
      "3\n",
      "10\n"
     ]
    }
   ],
   "source": [
    "print(int(3.5))  # Output: 3\n",
    "print(int(\"10\"))  # Output: 10"
   ]
  },
  {
   "cell_type": "markdown",
   "id": "07344dab",
   "metadata": {},
   "source": [
    "- **float():** <br>\n",
    "The **float()** function converts a value to a floating-point number. Like int(), if the conversion is not possible, an error will be raised."
   ]
  },
  {
   "cell_type": "code",
   "execution_count": 2,
   "id": "76061077",
   "metadata": {},
   "outputs": [
    {
     "name": "stdout",
     "output_type": "stream",
     "text": [
      "3.0\n",
      "10.5\n"
     ]
    }
   ],
   "source": [
    "print(float(3))  # Output: 3.0\n",
    "print(float(\"10.5\"))  # Output: 10.5"
   ]
  },
  {
   "cell_type": "markdown",
   "id": "9d24cdad",
   "metadata": {},
   "source": [
    "- **str():** <br>\n",
    "The **str()** function converts a value to a string. It is useful when you need to concatenate or format data that may not already be a string."
   ]
  },
  {
   "cell_type": "code",
   "execution_count": 4,
   "id": "79a6fab0",
   "metadata": {},
   "outputs": [
    {
     "name": "stdout",
     "output_type": "stream",
     "text": [
      "123\n"
     ]
    }
   ],
   "source": [
    "num = 123\n",
    "print(str(num))  # Output: '123'"
   ]
  },
  {
   "cell_type": "markdown",
   "id": "4c44011a",
   "metadata": {},
   "source": [
    "- **type():** <br>\n",
    "The **type()** function returns the type of an object. It is used to determine the data type of variables and objects."
   ]
  },
  {
   "cell_type": "code",
   "execution_count": 6,
   "id": "0df07f92",
   "metadata": {},
   "outputs": [
    {
     "name": "stdout",
     "output_type": "stream",
     "text": [
      "<class 'int'>\n",
      "<class 'list'>\n"
     ]
    }
   ],
   "source": [
    "print(type(10))  # Output: <class 'int'>\n",
    "print(type([1, 2, 3]))  # Output: <class 'list'>"
   ]
  },
  {
   "cell_type": "markdown",
   "id": "5dc18a95",
   "metadata": {},
   "source": [
    "- **range():** <br>\n",
    "The range() function returns a sequence of numbers. It is commonly used for iterating over a series of numbers in loops."
   ]
  },
  {
   "cell_type": "code",
   "execution_count": 7,
   "id": "103fa9b1",
   "metadata": {},
   "outputs": [
    {
     "name": "stdout",
     "output_type": "stream",
     "text": [
      "0\n",
      "1\n",
      "2\n",
      "3\n",
      "4\n"
     ]
    }
   ],
   "source": [
    "for i in range(5):\n",
    "    print(i)\n",
    "# Output: 0 1 2 3 4"
   ]
  },
  {
   "cell_type": "markdown",
   "id": "0cfe97f7",
   "metadata": {},
   "source": [
    "2. **Built-in Functions for Object Inspection** <br>\n",
    "\n",
    "- **id():** <br>\n",
    "The **id()** function returns the unique identifier for an object. In Python, this unique identifier is the memory address where the object is stored."
   ]
  },
  {
   "cell_type": "code",
   "execution_count": 8,
   "id": "6bfa2248",
   "metadata": {},
   "outputs": [
    {
     "name": "stdout",
     "output_type": "stream",
     "text": [
      "4335857272\n"
     ]
    }
   ],
   "source": [
    "x = 10\n",
    "print(id(x))  # Output: Memory address of x"
   ]
  },
  {
   "cell_type": "markdown",
   "id": "df934f9d",
   "metadata": {},
   "source": [
    "- **dir():** <br>\n",
    "The **dir()** function returns a list of the attributes and methods associated with an object. It is useful for discovering what methods are available for a given object."
   ]
  },
  {
   "cell_type": "code",
   "execution_count": 9,
   "id": "5d2fb5fd",
   "metadata": {},
   "outputs": [
    {
     "name": "stdout",
     "output_type": "stream",
     "text": [
      "['__add__', '__class__', '__class_getitem__', '__contains__', '__delattr__', '__delitem__', '__dir__', '__doc__', '__eq__', '__format__', '__ge__', '__getattribute__', '__getitem__', '__getstate__', '__gt__', '__hash__', '__iadd__', '__imul__', '__init__', '__init_subclass__', '__iter__', '__le__', '__len__', '__lt__', '__mul__', '__ne__', '__new__', '__reduce__', '__reduce_ex__', '__repr__', '__reversed__', '__rmul__', '__setattr__', '__setitem__', '__sizeof__', '__str__', '__subclasshook__', 'append', 'clear', 'copy', 'count', 'extend', 'index', 'insert', 'pop', 'remove', 'reverse', 'sort']\n"
     ]
    }
   ],
   "source": [
    "print(dir([]))  # Returns the list of methods available for lists"
   ]
  },
  {
   "cell_type": "markdown",
   "id": "a25774b7",
   "metadata": {},
   "source": [
    "3. **Special Objects** <br>\n",
    "- **None:** <br>\n",
    "None is a special constant in Python that represents the absence of a value or a null value. It is similar to null in other programming languages."
   ]
  },
  {
   "cell_type": "code",
   "execution_count": 10,
   "id": "e225fd03",
   "metadata": {},
   "outputs": [
    {
     "name": "stdout",
     "output_type": "stream",
     "text": [
      "x is None\n"
     ]
    }
   ],
   "source": [
    "x = None\n",
    "if x is None:\n",
    "    print(\"x is None\")  # Output: x is None"
   ]
  },
  {
   "cell_type": "markdown",
   "id": "10676645",
   "metadata": {},
   "source": [
    "4. **Dunder (Double Underscore) Methods (Magic Methods)** <br>\n",
    "Dunder methods are special methods in Python that start and end with double underscores (__). These methods are used internally by Python to define the behavior of objects in different contexts, such as when you print an object or perform arithmetic operations. Two commonly used dunder methods are `__str__()` and `__name__`.\n",
    "\n",
    "- **`__str__()`:** <br>\n",
    "The `__str__()` method defines how an object should be represented as a string. When you use print() on an object, Python calls the object's `__str__()` method. You can customize this method for your own classes."
   ]
  },
  {
   "cell_type": "code",
   "execution_count": 11,
   "id": "851514b5",
   "metadata": {},
   "outputs": [
    {
     "name": "stdout",
     "output_type": "stream",
     "text": [
      "This is a custom string representation of MyClass.\n"
     ]
    }
   ],
   "source": [
    "class MyClass:\n",
    "    def __str__(self):\n",
    "        return \"This is a custom string representation of MyClass.\"\n",
    "\n",
    "my_obj = MyClass()\n",
    "print(my_obj)  # Output: This is a custom string representation of MyClass."
   ]
  },
  {
   "cell_type": "markdown",
   "id": "27d555a3",
   "metadata": {},
   "source": [
    "- **`__name__`:** <br>\n",
    "The __name__ attribute is a special built-in attribute that defines the name of the module. When a Python file is run directly, the `__name__` attribute is set to \"`__main__`\". If the file is imported as a module, it takes the name of the module."
   ]
  },
  {
   "cell_type": "code",
   "execution_count": 12,
   "id": "7dbf4bdc",
   "metadata": {},
   "outputs": [
    {
     "name": "stdout",
     "output_type": "stream",
     "text": [
      "This code is running directly.\n"
     ]
    }
   ],
   "source": [
    "if __name__ == \"__main__\":\n",
    "    print(\"This code is running directly.\")"
   ]
  },
  {
   "cell_type": "markdown",
   "id": "6d448e3f",
   "metadata": {},
   "source": [
    "### Summary\n",
    "- **Built-in Functions:** Python offers built-in functions like len(), int(), float(), str(), type(), range(), id(), and dir() that allow for common operations on objects, types, and sequences. <br>\n",
    "- **None:** A special object representing the absence of a value. <br>\n",
    "- **Dunder Methods:** Special methods like `__str__()` for string representation and `__name__` for identifying if a script is being run directly or imported. <br>\n",
    "\n",
    "These built-in functions and special objects form the foundation of Python’s functionality and allow for easy manipulation of variables, objects, and data structures in your code."
   ]
  }
 ],
 "metadata": {
  "kernelspec": {
   "display_name": "Python 3 (ipykernel)",
   "language": "python",
   "name": "python3"
  },
  "language_info": {
   "codemirror_mode": {
    "name": "ipython",
    "version": 3
   },
   "file_extension": ".py",
   "mimetype": "text/x-python",
   "name": "python",
   "nbconvert_exporter": "python",
   "pygments_lexer": "ipython3",
   "version": "3.11.5"
  }
 },
 "nbformat": 4,
 "nbformat_minor": 5
}
