{
 "cells": [
  {
   "cell_type": "markdown",
   "id": "8125e7bd",
   "metadata": {},
   "source": [
    "<img src=\"LaeCodes.png\" \n",
    "     align=\"center\" \n",
    "     width=\"100\" />"
   ]
  },
  {
   "cell_type": "markdown",
   "id": "2eb636b0",
   "metadata": {},
   "source": [
    "## Class Exercises\n",
    "\n",
    "1) Write a function called count_words that takes a string as an argument and returns the number of words in the string.\n",
    "\n",
    "2) Write a function called list_sum that takes a list of numbers as an argument and returns the sum of all the numbers in the list.\n",
    "\n",
    "3) Write a function called find_max that takes a list of numbers as an argument and returns the largest number in the list."
   ]
  }
 ],
 "metadata": {
  "kernelspec": {
   "display_name": "Python 3 (ipykernel)",
   "language": "python",
   "name": "python3"
  },
  "language_info": {
   "codemirror_mode": {
    "name": "ipython",
    "version": 3
   },
   "file_extension": ".py",
   "mimetype": "text/x-python",
   "name": "python",
   "nbconvert_exporter": "python",
   "pygments_lexer": "ipython3",
   "version": "3.11.5"
  }
 },
 "nbformat": 4,
 "nbformat_minor": 5
}
