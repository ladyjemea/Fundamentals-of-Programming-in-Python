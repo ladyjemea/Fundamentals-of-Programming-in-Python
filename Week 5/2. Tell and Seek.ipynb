{
 "cells": [
  {
   "cell_type": "markdown",
   "id": "36d87464",
   "metadata": {},
   "source": [
    "<img src=\"LaeCodes.png\" \n",
    "align=\"center\" \n",
    "width=\"100\" />"
   ]
  },
  {
   "attachments": {
    "image.png": {
     "image/png": "[encoded data removed]"
    }
   },
   "cell_type": "markdown",
   "id": "a9b4f186",
   "metadata": {},
   "source": [
    "## The tell() and seek() Methods in File Handling\n",
    "\n",
    "When working with files in Python, the **tell()** and **seek()** methods are used to manage the file pointer, which keeps track of the current position in the file. These methods are essential for advanced file operations, such as navigating to specific parts of a file for reading or writing.\n",
    "\n",
    "### The tell() Method\n",
    "The **tell()** method is used to determine the current position of the file pointer in the file. The position is represented as the number of bytes from the beginning of the file.\n",
    "\n",
    "**Syntax**\n",
    "![image.png](attachment:image.png)\n",
    "\n",
    "**Usage Example**"
   ]
  },
  {
   "cell_type": "code",
   "execution_count": 2,
   "id": "fa02067f",
   "metadata": {},
   "outputs": [
    {
     "name": "stdout",
     "output_type": "stream",
     "text": [
      "Current position in the file: 5\n"
     ]
    }
   ],
   "source": [
    "with open(\"example.txt\", \"r\") as file:\n",
    "    content = file.read(5)  # Read the first 5 characters\n",
    "    position = file.tell()  # Get the current file pointer position\n",
    "    print(f\"Current position in the file: {position}\")"
   ]
  },
  {
   "attachments": {
    "image.png": {
     "image/png": "[encoded data removed]"
    }
   },
   "cell_type": "markdown",
   "id": "dbf53009",
   "metadata": {},
   "source": [
    "### The seek() Method\n",
    "The **seek()** method is used to move the file pointer to a specified position in the file. This is useful for random access to the file content.\n",
    "\n",
    "**Syntax**\n",
    "![image.png](attachment:image.png)"
   ]
  },
  {
   "cell_type": "markdown",
   "id": "719872c9",
   "metadata": {},
   "source": [
    "- **offset:** The number of bytes to move the file pointer.\n",
    "- **whence:** Optional parameter that specifies the reference point for offset:\n",
    "    - 0 (default): Beginning of the file.\n",
    "    - 1: Current position of the file pointer.\n",
    "    - 2: End of the file.\n",
    "        \n",
    "**Usage Example**\n",
    "1. **Move to a Specific Position**"
   ]
  },
  {
   "cell_type": "code",
   "execution_count": 3,
   "id": "bf9750c8",
   "metadata": {},
   "outputs": [
    {
     "name": "stdout",
     "output_type": "stream",
     "text": [
      "world\n"
     ]
    }
   ],
   "source": [
    "with open(\"example.txt\", \"r\") as file:\n",
    "    file.seek(7)  # Move to the 7th byte in the file\n",
    "    print(file.read(5))  # Read 5 characters from the new position"
   ]
  },
  {
   "cell_type": "markdown",
   "id": "f2e8b113",
   "metadata": {},
   "source": [
    "2. **Move Relative to the Current Position**"
   ]
  },
  {
   "cell_type": "code",
   "execution_count": 12,
   "id": "6e25b850",
   "metadata": {},
   "outputs": [
    {
     "name": "stdout",
     "output_type": "stream",
     "text": [
      "After seek: Hello\n"
     ]
    }
   ],
   "source": [
    "with open(\"example.txt\", \"r\") as file:\n",
    "    file.seek(0)  # Move back to the beginning\n",
    "    print(\"After seek:\", file.read(5))"
   ]
  },
  {
   "cell_type": "markdown",
   "id": "33ddd31c",
   "metadata": {},
   "source": [
    "3. **Move Relative to the End of the File**"
   ]
  },
  {
   "cell_type": "code",
   "execution_count": 13,
   "id": "e79521df",
   "metadata": {},
   "outputs": [
    {
     "name": "stdout",
     "output_type": "stream",
     "text": [
      "world!\n"
     ]
    }
   ],
   "source": [
    "with open(\"example.txt\", \"rb\") as file:\n",
    "    file.seek(-6, 2)  # Move 6 bytes backward from the end of the file\n",
    "    print(file.read().decode())"
   ]
  },
  {
   "cell_type": "markdown",
   "id": "44e5542b",
   "metadata": {},
   "source": [
    "**Practical Application**\n",
    "The combination of tell() and seek() is useful for:\n",
    "\n",
    "- Resuming file reading or writing at a specific position.\n",
    "- Navigating to specific sections in large files.\n",
    "- Skipping parts of the file during processing.\n",
    "\n",
    "**Example:** Random Access in a File"
   ]
  },
  {
   "cell_type": "code",
   "execution_count": 10,
   "id": "463aa557",
   "metadata": {},
   "outputs": [
    {
     "name": "stdout",
     "output_type": "stream",
     "text": [
      "Initial content: Hello\n",
      "Current position: 5\n",
      "After seek: Hello\n"
     ]
    }
   ],
   "source": [
    "with open(\"example.txt\", \"r\") as file:\n",
    "    print(\"Initial content:\", file.read(5))  # Read first 5 bytes\n",
    "    print(\"Current position:\", file.tell())  # Get position\n",
    "    file.seek(0)  # Move back to the beginning\n",
    "    print(\"After seek:\", file.read(5))  # Read first 5 bytes again"
   ]
  },
  {
   "cell_type": "markdown",
   "id": "2aa11ed2",
   "metadata": {},
   "source": [
    "### Summary\n",
    "- tell(): Gives the current byte position of the file pointer.\n",
    "- seek(): Moves the file pointer to a specified position based on the given offset and reference point.\n",
    "- When using seek() with whence=1 or whence=2, the file must be opened in binary mode ('rb' or 'wb')."
   ]
  }
 ],
 "metadata": {
  "kernelspec": {
   "display_name": "Python 3 (ipykernel)",
   "language": "python",
   "name": "python3"
  },
  "language_info": {
   "codemirror_mode": {
    "name": "ipython",
    "version": 3
   },
   "file_extension": ".py",
   "mimetype": "text/x-python",
   "name": "python",
   "nbconvert_exporter": "python",
   "pygments_lexer": "ipython3",
   "version": "3.11.5"
  }
 },
 "nbformat": 4,
 "nbformat_minor": 5
}
