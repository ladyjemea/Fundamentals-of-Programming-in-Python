{
 "cells": [
  {
   "cell_type": "markdown",
   "id": "9827c5a8",
   "metadata": {},
   "source": [
    "<img src=\"LaeCodes.png\" \n",
    "     align=\"center\" \n",
    "     width=\"100\" />"
   ]
  },
  {
   "cell_type": "markdown",
   "id": "c714153d",
   "metadata": {},
   "source": [
    "## Weekly Assessment\n",
    "\n",
    "1) What is the difference between a module and a package in Python? Provide an example of each.\n",
    "\n",
    "2) Write a Python script to create a new directory named test_dir, navigate into it, and list its contents.\n",
    "\n",
    "3) Using the math module, calculate and print:\n",
    "The square root of 49.\n",
    "\n",
    "4) Using the datetime Module <br>\n",
    "Write a Python script to display:\n",
    "- The current date and time.\n",
    "- The date exactly 7 days from now.\n",
    "\n",
    "5) Given the dictionary {\"name\": \"John\", \"age\": 30, \"city\": \"New York\"}, write Python code to:\n",
    "- Convert it to a JSON string.\n",
    "- Save it to a file named data.json.\n",
    "\n",
    "6) Write a Python script to:\n",
    "- Create a file named sample.txt.\n",
    "- Write the text \"Python is fun!\" to it.\n",
    "- Read and print the content of the file.\n",
    "\n",
    "7) Using the statistics Module <br>\n",
    "Given the list of numbers [10, 20, 30, 40, 50], calculate and print:\n",
    "- The mean.\n",
    "- The median.\n",
    "- The mode (explain what happens if there is no mode)."
   ]
  }
 ],
 "metadata": {
  "kernelspec": {
   "display_name": "Python 3 (ipykernel)",
   "language": "python",
   "name": "python3"
  },
  "language_info": {
   "codemirror_mode": {
    "name": "ipython",
    "version": 3
   },
   "file_extension": ".py",
   "mimetype": "text/x-python",
   "name": "python",
   "nbconvert_exporter": "python",
   "pygments_lexer": "ipython3",
   "version": "3.11.5"
  }
 },
 "nbformat": 4,
 "nbformat_minor": 5
}
