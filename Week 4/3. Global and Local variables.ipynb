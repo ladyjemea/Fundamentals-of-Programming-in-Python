{
 "cells": [
  {
   "cell_type": "markdown",
   "id": "35721fb2",
   "metadata": {},
   "source": [
    "<img src=\"LaeCodes.png\" \n",
    "     align=\"center\" \n",
    "     width=\"100\" />"
   ]
  },
  {
   "cell_type": "markdown",
   "id": "2482d6e3",
   "metadata": {},
   "source": [
    "# Global vs. Local Variables in Python\n",
    "\n",
    "In Python, the scope of a variable determines where it can be accessed or modified. A variable can be classified as global or local depending on where it is declared.\n",
    "\n",
    "### Global Variables\n",
    "Global variables are variables that are declared outside of any function. They can be accessed both inside and outside of functions.\n",
    "\n",
    "**Example:**"
   ]
  },
  {
   "cell_type": "code",
   "execution_count": 1,
   "id": "0ea4e8cf",
   "metadata": {},
   "outputs": [
    {
     "name": "stdout",
     "output_type": "stream",
     "text": [
      "My name is Lucy\n"
     ]
    }
   ],
   "source": [
    "name = 'Lucy'  # Global variable\n",
    "\n",
    "def name_func():\n",
    "    print('My name is ' + name)  # Accessing global variable inside the function\n",
    "\n",
    "name_func()  # Output: My name is Lucy"
   ]
  },
  {
   "cell_type": "markdown",
   "id": "7342d10f",
   "metadata": {},
   "source": [
    "In the above example, name is a global variable. The function name_func() can access and use the global variable name, even though it was declared outside of the function. <br>\n",
    "\n",
    "**Key Points about Global Variables:**\n",
    "\n",
    "- **Global variables** are accessible from anywhere in the program, including inside functions.\n",
    "- Any changes to a global variable outside of a function affect its value globally.\n",
    "\n",
    "### Local Variables\n",
    "Local variables are variables that are declared inside a function. They can only be accessed within the function in which they are declared. You cannot access a local variable from outside its function.\n",
    "\n",
    "**Example:**"
   ]
  },
  {
   "cell_type": "code",
   "execution_count": 3,
   "id": "2d54aac1",
   "metadata": {},
   "outputs": [
    {
     "name": "stdout",
     "output_type": "stream",
     "text": [
      "My name is Bianca\n",
      "My name is Lucy\n"
     ]
    }
   ],
   "source": [
    "name = 'Lucy'  # Global variable\n",
    "\n",
    "def name_func():\n",
    "    name = 'Bianca'  # Local variable\n",
    "    print('My name is ' + name)  # Accessing local variable inside the function\n",
    "    \n",
    "\n",
    "def name_two():\n",
    "    #name = 'Charles'\n",
    "    print('My name is ' + name)\n",
    "\n",
    "name_func()  # Output: My name is Bianca\n",
    "name_two()"
   ]
  },
  {
   "cell_type": "markdown",
   "id": "d7453286",
   "metadata": {},
   "source": [
    "In this case, the variable name inside name_func() is a local variable. It only exists within the function and does not affect the global variable name. After the function runs, the global variable name remains unchanged.\n",
    "\n",
    "### Global vs Local with the Same Name\n",
    "If a global variable and a local variable have the same name, Python will use the local variable inside the function and the global variable outside of it.\n",
    "\n",
    "**Example:**"
   ]
  },
  {
   "cell_type": "code",
   "execution_count": 3,
   "id": "3efeb33b",
   "metadata": {},
   "outputs": [
    {
     "name": "stdout",
     "output_type": "stream",
     "text": [
      "My name is Bianca\n",
      "My name is Lucy\n"
     ]
    }
   ],
   "source": [
    "name = 'Lucy'  # Global variable\n",
    "\n",
    "def name_func():\n",
    "    name = 'Bianca'  # Local variable (overrides global inside this function)\n",
    "    print('My name is ' + name)  # Prints the local variable\n",
    "\n",
    "name_func()  # Output: My name is Bianca\n",
    "print('My name is ' + name)  # Outputs: My name is Lucy"
   ]
  },
  {
   "cell_type": "markdown",
   "id": "99504c60",
   "metadata": {},
   "source": [
    "Here, inside the name_func() function, the local variable name = 'Bianca' is used, but outside the function, the global variable name = 'Lucy' is used. The local and global variables with the same name do not interfere with each other."
   ]
  },
  {
   "cell_type": "markdown",
   "id": "da730d4f",
   "metadata": {},
   "source": [
    "### Using the global Keyword\n",
    "\n",
    "You can modify a global variable inside a function using the global keyword. This tells Python that you want to refer to the global variable, not create a new local one.\n",
    "\n",
    "**Example:**"
   ]
  },
  {
   "cell_type": "code",
   "execution_count": 4,
   "id": "4e6ae28b",
   "metadata": {},
   "outputs": [
    {
     "name": "stdout",
     "output_type": "stream",
     "text": [
      "My name is Bianca\n",
      "My name is Bianca\n"
     ]
    }
   ],
   "source": [
    "def name_func():\n",
    "    global name  # Declaring the global variable\n",
    "    name = 'Bianca'  # Modifying the global variable\n",
    "    print('My name is ' + name)\n",
    "\n",
    "name_func()  # Output: My name is Bianca\n",
    "print('My name is ' + name)  # Outputs: My name is Bianca"
   ]
  },
  {
   "cell_type": "markdown",
   "id": "945e9bc4",
   "metadata": {},
   "source": [
    "Here, by using the global keyword inside the function, we modify the global variable name. As a result, the global variable's value is changed globally, and both name_func() and the final print() statement output 'Bianca'. <br>\n",
    "\n",
    "**Key Points about global:** <br>\n",
    "- The **global** keyword allows you to modify a global variable inside a function.\n",
    "- Without the global keyword, any assignment to a variable inside a function will create a local variable, leaving the global variable unchanged.\n",
    "\n",
    "#### Global Keyword Example"
   ]
  },
  {
   "cell_type": "code",
   "execution_count": 5,
   "id": "aeabcd83",
   "metadata": {},
   "outputs": [
    {
     "name": "stdout",
     "output_type": "stream",
     "text": [
      "My name is Bianca\n",
      "My name is Bianca\n"
     ]
    }
   ],
   "source": [
    "name = 'Lucy'  # Global variable\n",
    "\n",
    "def name_func():\n",
    "    global name  # Declare 'name' as a global variable\n",
    "    name = 'Bianca'  # Change the global variable inside the function\n",
    "    print('My name is ' + name)  # Outputs: My name is Bianca\n",
    "\n",
    "name_func()  # Output: My name is Bianca\n",
    "print('My name is ' + name)  # Outputs: My name is Bianca"
   ]
  },
  {
   "cell_type": "markdown",
   "id": "247f1fe2",
   "metadata": {},
   "source": [
    "In this example:\n",
    "\n",
    "- The global variable name is modified inside the function using the global keyword.\n",
    "- The global value of name is updated to 'Bianca', and the change is reflected both inside and outside the function."
   ]
  }
 ],
 "metadata": {
  "kernelspec": {
   "display_name": "Python 3 (ipykernel)",
   "language": "python",
   "name": "python3"
  },
  "language_info": {
   "codemirror_mode": {
    "name": "ipython",
    "version": 3
   },
   "file_extension": ".py",
   "mimetype": "text/x-python",
   "name": "python",
   "nbconvert_exporter": "python",
   "pygments_lexer": "ipython3",
   "version": "3.11.5"
  }
 },
 "nbformat": 4,
 "nbformat_minor": 5
}
