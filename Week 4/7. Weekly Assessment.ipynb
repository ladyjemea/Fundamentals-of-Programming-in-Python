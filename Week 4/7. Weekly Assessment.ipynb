{
 "cells": [
  {
   "cell_type": "markdown",
   "id": "b2cf285d",
   "metadata": {},
   "source": [
    "<img src=\"LaeCodes.png\" \n",
    "     align=\"center\" \n",
    "     width=\"100\" />"
   ]
  },
  {
   "cell_type": "markdown",
   "id": "673e6d9a",
   "metadata": {},
   "source": [
    "# Weekly Assessment\n",
    "\n",
    "1) Write a function called count_vowels that takes a string as an argument and returns the number of vowels (a, e, i, o, u) in the string, ignoring case.\n",
    "\n",
    "2) Write a function called is_prime that takes a number as an argument and returns True if the number is prime, otherwise returns False.\n",
    "\n",
    "3) Write a function called find_max that takes three numbers as arguments and returns the largest number among them.\n",
    "\n",
    "4) Write a function called celsius_to_fahrenheit that takes a temperature in Celsius as an argument and returns the equivalent temperature in Fahrenheit. The formula is: Fahrenheit = (Celsius * 9/5) + 32\n",
    "\n",
    "5) Write a function called reverse_string that takes a string as an argument and returns the string in reverse order."
   ]
  }
 ],
 "metadata": {
  "kernelspec": {
   "display_name": "Python 3 (ipykernel)",
   "language": "python",
   "name": "python3"
  },
  "language_info": {
   "codemirror_mode": {
    "name": "ipython",
    "version": 3
   },
   "file_extension": ".py",
   "mimetype": "text/x-python",
   "name": "python",
   "nbconvert_exporter": "python",
   "pygments_lexer": "ipython3",
   "version": "3.11.5"
  }
 },
 "nbformat": 4,
 "nbformat_minor": 5
}
