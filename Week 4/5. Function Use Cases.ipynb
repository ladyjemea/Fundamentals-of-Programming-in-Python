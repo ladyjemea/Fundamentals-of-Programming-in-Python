{
 "cells": [
  {
   "cell_type": "markdown",
   "id": "7fa92932",
   "metadata": {},
   "source": [
    "<img src=\"LaeCodes.png\" \n",
    "     align=\"center\" \n",
    "     width=\"100\" />"
   ]
  },
  {
   "cell_type": "markdown",
   "id": "acc103d4",
   "metadata": {},
   "source": [
    "## Function Use Cases\n",
    "\n",
    "1) Mathematical Calculations"
   ]
  },
  {
   "cell_type": "code",
   "execution_count": 1,
   "id": "5e293a42",
   "metadata": {},
   "outputs": [
    {
     "name": "stdout",
     "output_type": "stream",
     "text": [
      "78.53975\n",
      "20\n"
     ]
    }
   ],
   "source": [
    "def calculate_area_circle(radius):\n",
    "    pi = 3.14159\n",
    "    return pi * radius ** 2\n",
    "\n",
    "def calculate_area_rectangle(length, width):\n",
    "    return length * width\n",
    "\n",
    "print(calculate_area_circle(5)) \n",
    "print(calculate_area_rectangle(4, 5))"
   ]
  },
  {
   "cell_type": "markdown",
   "id": "a699f3b7",
   "metadata": {},
   "source": [
    "2. Data Validation"
   ]
  },
  {
   "cell_type": "code",
   "execution_count": 2,
   "id": "b53beac1",
   "metadata": {},
   "outputs": [
    {
     "name": "stdout",
     "output_type": "stream",
     "text": [
      "True\n",
      "False\n"
     ]
    }
   ],
   "source": [
    "def is_valid_age(age):\n",
    "    return age > 0 and age < 120\n",
    "\n",
    "print(is_valid_age(25)) \n",
    "print(is_valid_age(-5))"
   ]
  },
  {
   "cell_type": "markdown",
   "id": "14d40976",
   "metadata": {},
   "source": [
    "3. String Formatting and Manipulation"
   ]
  },
  {
   "cell_type": "code",
   "execution_count": 3,
   "id": "30299ea6",
   "metadata": {},
   "outputs": [
    {
     "name": "stdout",
     "output_type": "stream",
     "text": [
      "John Doe\n"
     ]
    }
   ],
   "source": [
    "def format_name(first_name, last_name):\n",
    "    return f\"{first_name.capitalize()} {last_name.capitalize()}\"\n",
    "\n",
    "print(format_name(\"john\", \"doe\"))"
   ]
  },
  {
   "cell_type": "markdown",
   "id": "beaec695",
   "metadata": {},
   "source": [
    "4. Data Aggregation"
   ]
  },
  {
   "cell_type": "code",
   "execution_count": 4,
   "id": "02bf309b",
   "metadata": {},
   "outputs": [
    {
     "name": "stdout",
     "output_type": "stream",
     "text": [
      "12\n"
     ]
    }
   ],
   "source": [
    "def sum_of_even(numbers):\n",
    "    return sum(num for num in numbers if num % 2 == 0)\n",
    "\n",
    "print(sum_of_even([1, 2, 3, 4, 5, 6])) "
   ]
  },
  {
   "cell_type": "markdown",
   "id": "0fb57e1e",
   "metadata": {},
   "source": [
    "5. User Authentication"
   ]
  },
  {
   "cell_type": "code",
   "execution_count": 5,
   "id": "f59849a8",
   "metadata": {},
   "outputs": [
    {
     "name": "stdout",
     "output_type": "stream",
     "text": [
      "True\n",
      "False\n"
     ]
    }
   ],
   "source": [
    "def authenticate(username, password):\n",
    "    user_data = {\"user1\": \"password123\", \"user2\": \"password456\"}\n",
    "    return user_data.get(username) == password\n",
    "\n",
    "print(authenticate(\"user1\", \"password123\")) \n",
    "print(authenticate(\"user2\", \"wrongpassword\")) "
   ]
  },
  {
   "cell_type": "markdown",
   "id": "bf40c315",
   "metadata": {},
   "source": [
    "6. Recursive Functions <br>\n",
    "Recursive functions call themselves to solve problems that can be broken down into smaller subproblems, such as calculating factorials."
   ]
  },
  {
   "cell_type": "code",
   "execution_count": 7,
   "id": "47cbe4db",
   "metadata": {},
   "outputs": [
    {
     "name": "stdout",
     "output_type": "stream",
     "text": [
      "120\n"
     ]
    }
   ],
   "source": [
    "def factorial(n):\n",
    "    if n == 0:\n",
    "        return 1\n",
    "    else:\n",
    "        return n * factorial(n - 1)\n",
    "\n",
    "print(factorial(5))"
   ]
  },
  {
   "cell_type": "markdown",
   "id": "42960053",
   "metadata": {},
   "source": [
    "7. Higher-Order Functions <br>\n",
    "Functions that accept other functions as arguments or return them as results, like using map() and filter()."
   ]
  },
  {
   "cell_type": "code",
   "execution_count": 9,
   "id": "8c4c3103",
   "metadata": {},
   "outputs": [
    {
     "name": "stdout",
     "output_type": "stream",
     "text": [
      "[1, 4, 9, 16]\n"
     ]
    }
   ],
   "source": [
    "def square(x):\n",
    "    return x * x\n",
    "\n",
    "numbers = [1, 2, 3, 4]\n",
    "squares = list(map(square, numbers))\n",
    "print(squares)"
   ]
  }
 ],
 "metadata": {
  "kernelspec": {
   "display_name": "Python 3 (ipykernel)",
   "language": "python",
   "name": "python3"
  },
  "language_info": {
   "codemirror_mode": {
    "name": "ipython",
    "version": 3
   },
   "file_extension": ".py",
   "mimetype": "text/x-python",
   "name": "python",
   "nbconvert_exporter": "python",
   "pygments_lexer": "ipython3",
   "version": "3.11.5"
  }
 },
 "nbformat": 4,
 "nbformat_minor": 5
}
