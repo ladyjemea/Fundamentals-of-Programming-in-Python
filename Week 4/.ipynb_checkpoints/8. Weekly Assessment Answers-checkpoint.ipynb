{
 "cells": [
  {
   "cell_type": "markdown",
   "id": "b6d1d69f",
   "metadata": {},
   "source": [
    "<img src=\"LaeCodes.png\" \n",
    "     align=\"center\" \n",
    "     width=\"100\" />"
   ]
  },
  {
   "cell_type": "markdown",
   "id": "6f6c33f0",
   "metadata": {},
   "source": [
    "1) Write a function called count_vowels that takes a string as an argument and returns the number of vowels (a, e, i, o, u) in the string, ignoring case."
   ]
  },
  {
   "cell_type": "code",
   "execution_count": 1,
   "id": "e53d0a4b",
   "metadata": {},
   "outputs": [
    {
     "name": "stdout",
     "output_type": "stream",
     "text": [
      "3\n"
     ]
    }
   ],
   "source": [
    "def count_vowels(s):\n",
    "    vowels = \"aeiou\"\n",
    "    count = 0\n",
    "    for char in s.lower():\n",
    "        if char in vowels:\n",
    "            count += 1\n",
    "    return count\n",
    "\n",
    "print(count_vowels(\"Hello World\"))"
   ]
  },
  {
   "cell_type": "markdown",
   "id": "f4e73eee",
   "metadata": {},
   "source": [
    "2) Write a function called is_prime that takes a number as an argument and returns True if the number is prime, otherwise returns False."
   ]
  },
  {
   "cell_type": "code",
   "execution_count": 2,
   "id": "a7158a8e",
   "metadata": {},
   "outputs": [
    {
     "name": "stdout",
     "output_type": "stream",
     "text": [
      "True\n",
      "False\n"
     ]
    }
   ],
   "source": [
    "def is_prime(num):\n",
    "    if num <= 1:\n",
    "        return False\n",
    "    for i in range(2, int(num ** 0.5) + 1):\n",
    "        if num % i == 0:\n",
    "            return False\n",
    "    return True\n",
    "\n",
    "print(is_prime(11))\n",
    "print(is_prime(10)) "
   ]
  },
  {
   "cell_type": "markdown",
   "id": "7363e46a",
   "metadata": {},
   "source": [
    "3) Write a function called find_max that takes three numbers as arguments and returns the largest number among them."
   ]
  },
  {
   "cell_type": "code",
   "execution_count": 3,
   "id": "925f7896",
   "metadata": {},
   "outputs": [
    {
     "name": "stdout",
     "output_type": "stream",
     "text": [
      "7\n"
     ]
    }
   ],
   "source": [
    "def find_max(a, b, c):\n",
    "    return max(a, b, c)\n",
    "\n",
    "print(find_max(3, 7, 5))"
   ]
  },
  {
   "cell_type": "markdown",
   "id": "9b0d6d77",
   "metadata": {},
   "source": [
    "4) Write a function called celsius_to_fahrenheit that takes a temperature in Celsius as an argument and returns the equivalent temperature in Fahrenheit. The formula is: Fahrenheit = (Celsius * 9/5) + 32"
   ]
  },
  {
   "cell_type": "code",
   "execution_count": 4,
   "id": "44987c81",
   "metadata": {},
   "outputs": [
    {
     "name": "stdout",
     "output_type": "stream",
     "text": [
      "77.0\n"
     ]
    }
   ],
   "source": [
    "def celsius_to_fahrenheit(celsius):\n",
    "    return (celsius * 9/5) + 32\n",
    "\n",
    "print(celsius_to_fahrenheit(25))"
   ]
  },
  {
   "cell_type": "markdown",
   "id": "717b2cc5",
   "metadata": {},
   "source": [
    "5) Write a function called reverse_string that takes a string as an argument and returns the string in reverse order."
   ]
  },
  {
   "cell_type": "code",
   "execution_count": 5,
   "id": "574ffcfb",
   "metadata": {},
   "outputs": [
    {
     "name": "stdout",
     "output_type": "stream",
     "text": [
      "nohtyP\n"
     ]
    }
   ],
   "source": [
    "def reverse_string(s):\n",
    "    return s[::-1]\n",
    "\n",
    "print(reverse_string(\"Python\"))"
   ]
  },
  {
   "cell_type": "code",
   "execution_count": 6,
   "id": "5750a71a",
   "metadata": {},
   "outputs": [
    {
     "name": "stdout",
     "output_type": "stream",
     "text": [
      "nohtyP\n"
     ]
    }
   ],
   "source": [
    "def reverse_string(s):\n",
    "    reversed_str = \"\"\n",
    "    for char in s:\n",
    "        reversed_str = char + reversed_str\n",
    "    return reversed_str\n",
    "\n",
    "print(reverse_string(\"Python\"))"
   ]
  }
 ],
 "metadata": {
  "kernelspec": {
   "display_name": "Python 3 (ipykernel)",
   "language": "python",
   "name": "python3"
  },
  "language_info": {
   "codemirror_mode": {
    "name": "ipython",
    "version": 3
   },
   "file_extension": ".py",
   "mimetype": "text/x-python",
   "name": "python",
   "nbconvert_exporter": "python",
   "pygments_lexer": "ipython3",
   "version": "3.11.5"
  }
 },
 "nbformat": 4,
 "nbformat_minor": 5
}
