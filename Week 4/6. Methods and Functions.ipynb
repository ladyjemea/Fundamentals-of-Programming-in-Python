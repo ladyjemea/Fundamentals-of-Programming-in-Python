{
 "cells": [
  {
   "cell_type": "markdown",
   "id": "594d621e",
   "metadata": {},
   "source": [
    "<img src=\"LaeCodes.png\" \n",
    "     align=\"center\" \n",
    "     width=\"100\" />"
   ]
  },
  {
   "cell_type": "markdown",
   "id": "5ec20ebb",
   "metadata": {},
   "source": [
    "# Methods and Functions\n",
    "Methods and functions are both blocks of code designed to accomplish specific tasks, but they have distinct roles and contexts in programming. Here’s a breakdown of their key differences:\n",
    "\n",
    "- **Definition and Invocation:** Functions are defined outside of any class and are called directly by their name. Methods, however, are defined within a class and are invoked on an object, which is automatically passed to the method.\n",
    "\n",
    "- **Relationship to Objects:** Functions can exist independently and are not tied to any specific object, whereas methods are inherently tied to an object or a class.\n",
    "\n",
    "- **Parameters:** In a method, the first parameter must represent the instance of the class, conventionally named self, which allows access to the object’s attributes and other methods. Functions, on the other hand, do not require a reference to an object by default.\n",
    "\n",
    "- **Scope and Purpose:** Functions are general-purpose tools for performing tasks or calculations that don’t require any specific object, while methods are used to modify or access the internal state of an object or to perform actions related to it."
   ]
  }
 ],
 "metadata": {
  "kernelspec": {
   "display_name": "Python 3 (ipykernel)",
   "language": "python",
   "name": "python3"
  },
  "language_info": {
   "codemirror_mode": {
    "name": "ipython",
    "version": 3
   },
   "file_extension": ".py",
   "mimetype": "text/x-python",
   "name": "python",
   "nbconvert_exporter": "python",
   "pygments_lexer": "ipython3",
   "version": "3.11.5"
  }
 },
 "nbformat": 4,
 "nbformat_minor": 5
}
