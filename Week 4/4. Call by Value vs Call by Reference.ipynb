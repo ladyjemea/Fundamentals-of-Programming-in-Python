{
 "cells": [
  {
   "cell_type": "markdown",
   "id": "c98cb3e8",
   "metadata": {},
   "source": [
    "<img src=\"LaeCodes.png\" \n",
    "     align=\"center\" \n",
    "     width=\"100\" />"
   ]
  },
  {
   "cell_type": "markdown",
   "id": "966083ab",
   "metadata": {},
   "source": [
    "## Call by Value vs Call by Reference\n",
    "In programming, call by value and call by reference are two methods of passing arguments to functions. They determine how changes to the arguments affect the original data.\n",
    "\n",
    "### Call by Value\n",
    "In call by value, a copy of the argument is passed to the function. Any modifications made to the parameter within the function do not affect the original argument/variable outside the function. Instead, changes are applied to the copied value.\n",
    "\n",
    "- Example of Call by Value (often applies to immutable data types in Python, like numbers and strings):"
   ]
  },
  {
   "cell_type": "code",
   "execution_count": 4,
   "id": "9bbd910e",
   "metadata": {},
   "outputs": [
    {
     "name": "stdout",
     "output_type": "stream",
     "text": [
      "Inside function: 10\n",
      "Outside function: 5\n"
     ]
    }
   ],
   "source": [
    "def modify_value(x):\n",
    "    x = 10  # This only changes the local copy of `x`, not the original\n",
    "    print(\"Inside function:\", x)\n",
    "\n",
    "num = 5\n",
    "modify_value(num)\n",
    "print(\"Outside function:\",num)  # Outputs: 5, since `num` remains unchanged"
   ]
  },
  {
   "cell_type": "markdown",
   "id": "943a0953",
   "metadata": {},
   "source": [
    "Explanation: The function creates a new variable x that’s a copy of num. Modifying x doesn’t affect num since integers in Python are immutable. So, num remains 5 outside the function."
   ]
  },
  {
   "cell_type": "markdown",
   "id": "c35c09cd",
   "metadata": {},
   "source": [
    "### Call by Reference\n",
    "In call by reference, a function receives a reference (or memory address) to the actual parameter, not just a copy. As a result, modifications within the function can directly affect the original variable.\n",
    "\n",
    "- Example of Call by Reference (applies to mutable data types in Python, like lists and dictionaries):"
   ]
  },
  {
   "cell_type": "code",
   "execution_count": 5,
   "id": "7e72ab8b",
   "metadata": {},
   "outputs": [
    {
     "name": "stdout",
     "output_type": "stream",
     "text": [
      "Inside function: [1, 2, 3, 4]\n",
      "Outside function: [1, 2, 3, 4]\n"
     ]
    }
   ],
   "source": [
    "def modify_list(my_list):\n",
    "    my_list.append(4)  # Modifies the original list\n",
    "    print(\"Inside function:\", my_list)\n",
    "\n",
    "numbers = [1, 2, 3]\n",
    "modify_list(numbers)\n",
    "print(\"Outside function:\",numbers)  # Outputs: [1, 2, 3, 4], since the original list was modified"
   ]
  },
  {
   "cell_type": "markdown",
   "id": "ab41dc31",
   "metadata": {},
   "source": [
    "Here, numbers is modified directly within the function, as both my_list in the function and numbers outside refer to the same list."
   ]
  },
  {
   "cell_type": "markdown",
   "id": "70f2af79",
   "metadata": {},
   "source": [
    "### Call by Object Reference in Python\n",
    "Python doesn’t use strict call-by-value or call-by-reference; instead, it employs call by object reference. Here’s how it works:\n",
    "\n",
    "1) Immutable objects (like integers, floats, strings, and tuples):\n",
    "\n",
    "- These are passed by value, as they cannot be altered in place.\n",
    "- Any changes inside the function create a new object, leaving the original data outside the function unaffected.\n",
    "\n",
    "2) Mutable objects (like lists, dictionaries, and sets):\n",
    "\n",
    "- These are passed by reference.\n",
    "- Modifications made to the object within the function are reflected outside the function as well.\n",
    "\n",
    "**Example of Both Behaviors:**"
   ]
  },
  {
   "cell_type": "code",
   "execution_count": 3,
   "id": "bbef4a89",
   "metadata": {},
   "outputs": [
    {
     "name": "stdout",
     "output_type": "stream",
     "text": [
      "5\n",
      "[1, 2, 3, 10]\n"
     ]
    }
   ],
   "source": [
    "def modify_data(num, my_list):\n",
    "    num += 10         # This does not affect the original `num`\n",
    "    my_list.append(10) # This modifies the original `my_list`\n",
    "\n",
    "value = 5\n",
    "data = [1, 2, 3]\n",
    "modify_data(value, data)\n",
    "\n",
    "print(value)  # Outputs: 5\n",
    "print(data)   # Outputs: [1, 2, 3, 10]"
   ]
  },
  {
   "cell_type": "markdown",
   "id": "e620a411",
   "metadata": {},
   "source": [
    "Here, value remains 5 (immutable, call by value behavior), while data changes to [1, 2, 3, 10] (mutable, call by reference behavior)."
   ]
  }
 ],
 "metadata": {
  "kernelspec": {
   "display_name": "Python 3 (ipykernel)",
   "language": "python",
   "name": "python3"
  },
  "language_info": {
   "codemirror_mode": {
    "name": "ipython",
    "version": 3
   },
   "file_extension": ".py",
   "mimetype": "text/x-python",
   "name": "python",
   "nbconvert_exporter": "python",
   "pygments_lexer": "ipython3",
   "version": "3.11.5"
  }
 },
 "nbformat": 4,
 "nbformat_minor": 5
}
