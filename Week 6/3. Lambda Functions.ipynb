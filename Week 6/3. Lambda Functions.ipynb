{
 "cells": [
  {
   "cell_type": "markdown",
   "id": "08c3f22f",
   "metadata": {},
   "source": [
    "<img src=\"LaeCodes.png\" \n",
    "     align=\"center\" \n",
    "     width=\"100\" />"
   ]
  },
  {
   "attachments": {
    "image.png": {
     "image/png": "[encoded data removed]"
    }
   },
   "cell_type": "markdown",
   "id": "52bf28b2",
   "metadata": {},
   "source": [
    "# Lambda Functions\n",
    "Lambda functions are small, anonymous functions defined using the **lambda** keyword. They’re useful for short, one-time-use functions and are commonly used with functions like **map()**, **filter()**, and **sorted()**.\n",
    "\n",
    "#### Syntax\n",
    "![image.png](attachment:image.png)\n",
    "\n",
    "Examples:"
   ]
  },
  {
   "cell_type": "code",
   "execution_count": 2,
   "id": "345bc0b5",
   "metadata": {},
   "outputs": [
    {
     "name": "stdout",
     "output_type": "stream",
     "text": [
      "8\n"
     ]
    }
   ],
   "source": [
    "add = lambda x, y: x + y\n",
    "print(add(5, 3))"
   ]
  },
  {
   "cell_type": "markdown",
   "id": "e4bbdff1",
   "metadata": {},
   "source": [
    "**Lambda with map():** <br>\n",
    "map() applies the lambda function to all elements of the input list."
   ]
  },
  {
   "cell_type": "code",
   "execution_count": 3,
   "id": "fc2e31f0",
   "metadata": {},
   "outputs": [
    {
     "name": "stdout",
     "output_type": "stream",
     "text": [
      "[1, 4, 9, 16]\n"
     ]
    }
   ],
   "source": [
    "numbers = [1, 2, 3, 4]\n",
    "squared = list(map(lambda x: x**2, numbers))\n",
    "print(squared)"
   ]
  },
  {
   "cell_type": "markdown",
   "id": "fae599a2",
   "metadata": {},
   "source": [
    "**Lambda with filter():** <br>\n",
    "filter() uses the lambda function to filter elements from the list."
   ]
  },
  {
   "cell_type": "code",
   "execution_count": 4,
   "id": "6cee4654",
   "metadata": {},
   "outputs": [
    {
     "name": "stdout",
     "output_type": "stream",
     "text": [
      "[2, 4, 6]\n"
     ]
    }
   ],
   "source": [
    "numbers = [1, 2, 3, 4, 5, 6]\n",
    "even = list(filter(lambda x: x % 2 == 0, numbers))\n",
    "print(even)"
   ]
  },
  {
   "cell_type": "markdown",
   "id": "6648ba97",
   "metadata": {},
   "source": [
    "**Lambda with sorted():** <br>\n",
    "This example sorts the list based on the second value of each tuple."
   ]
  },
  {
   "cell_type": "code",
   "execution_count": 2,
   "id": "788cc8a5",
   "metadata": {},
   "outputs": [
    {
     "name": "stdout",
     "output_type": "stream",
     "text": [
      "[(4, 'four'), (1, 'one'), (3, 'three'), (2, 'two')]\n"
     ]
    }
   ],
   "source": [
    "pairs = [(1, 'one'), (2, 'two'), (3, 'three'), (4, 'four')]\n",
    "sorted_pairs = sorted(pairs, key=lambda x: x[1])\n",
    "print(sorted_pairs)"
   ]
  },
  {
   "cell_type": "markdown",
   "id": "ad6b9c26",
   "metadata": {},
   "source": [
    "The sorted() function will sort the list in ascending order. The key parameter is allows you to pass a function that will be called on each element in the list to determine the criteria for sorting. "
   ]
  }
 ],
 "metadata": {
  "kernelspec": {
   "display_name": "Python 3 (ipykernel)",
   "language": "python",
   "name": "python3"
  },
  "language_info": {
   "codemirror_mode": {
    "name": "ipython",
    "version": 3
   },
   "file_extension": ".py",
   "mimetype": "text/x-python",
   "name": "python",
   "nbconvert_exporter": "python",
   "pygments_lexer": "ipython3",
   "version": "3.11.5"
  }
 },
 "nbformat": 4,
 "nbformat_minor": 5
}
