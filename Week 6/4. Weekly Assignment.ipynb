{
 "cells": [
  {
   "cell_type": "markdown",
   "id": "20a71436",
   "metadata": {},
   "source": [
    "<img src=\"LaeCodes.png\" \n",
    "     align=\"center\" \n",
    "     width=\"100\" />"
   ]
  },
  {
   "cell_type": "markdown",
   "id": "565261a7",
   "metadata": {},
   "source": [
    "# Weekly Assessment\n",
    "\n",
    "1. Write a program to handle a FileNotFoundError when trying to read a file that does not exist.\n",
    "2. Create a function that raises a custom exception if the input number is negative.\n",
    "3. Implement a program that accepts user input and handles both ValueError and ZeroDivisionError.\n",
    "4. Define a custom exception class and use it to raise and handle exceptions.\n",
    "5. Write a program that uses a try-except-else-finally block to divide two numbers entered by the user."
   ]
  }
 ],
 "metadata": {
  "kernelspec": {
   "display_name": "Python 3 (ipykernel)",
   "language": "python",
   "name": "python3"
  },
  "language_info": {
   "codemirror_mode": {
    "name": "ipython",
    "version": 3
   },
   "file_extension": ".py",
   "mimetype": "text/x-python",
   "name": "python",
   "nbconvert_exporter": "python",
   "pygments_lexer": "ipython3",
   "version": "3.11.5"
  }
 },
 "nbformat": 4,
 "nbformat_minor": 5
}
