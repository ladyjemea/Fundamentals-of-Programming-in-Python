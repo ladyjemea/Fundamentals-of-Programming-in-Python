{
 "cells": [
  {
   "cell_type": "markdown",
   "id": "011afc6e",
   "metadata": {},
   "source": [
    "<img src=\"LaeCodes.png\" \n",
    "     align=\"center\" \n",
    "     width=\"100\" />"
   ]
  },
  {
   "cell_type": "markdown",
   "id": "519011b2",
   "metadata": {},
   "source": [
    "# Functional Programming in Python\n",
    "\n",
    "Functional programming is a programming paradigm that treats computation as the evaluation of mathematical functions and avoids changing state or mutable data. It emphasizes the use of pure functions, higher-order functions, and immutability, making programs easier to reason about, debug, and maintain.\n",
    "\n",
    "It is a style of coding where you think in terms of functions. Instead of focusing on how something should be done (step-by-step instructions), you focus on what you want to do.\n",
    "\n",
    "Here are the key ideas:\n",
    "\n",
    "1) **Mathematical Functions:** Think of functions in math, like 𝑓(𝑥) = 𝑥 + 2. Every time you give \n",
    "𝑓 a number, it always gives the same result without doing anything else (like changing a variable somewhere). This is a \"pure function.\"\n",
    "\n",
    "2) **No Changes (Immutable Data):** Once you create something, like a list or a number, you don’t change it directly. Instead, you create a new version with the changes.\n",
    "\n",
    "3) **Reusable and Easy to Debug:** If a function doesn’t depend on anything outside it, it’s easy to test and reuse. You can just call it with some inputs and check the result.\n",
    "\n",
    "### Key Concepts in Functional Programming\n",
    "1. **Pure Functions** <br>\n",
    "A pure function is a function where the output is determined solely by its input values and has no side effects (e.g., modifying global variables or interacting with external systems like files or databases).\n",
    "\n",
    "**Example: Pure Function**"
   ]
  },
  {
   "cell_type": "code",
   "execution_count": 1,
   "id": "54b4bcd7",
   "metadata": {},
   "outputs": [
    {
     "name": "stdout",
     "output_type": "stream",
     "text": [
      "5\n"
     ]
    }
   ],
   "source": [
    "# Pure function\n",
    "def add(a, b):\n",
    "    return a + b\n",
    "\n",
    "print(add(2, 3))"
   ]
  },
  {
   "cell_type": "markdown",
   "id": "82dfc02a",
   "metadata": {},
   "source": [
    "**Non-pure Function**"
   ]
  },
  {
   "cell_type": "code",
   "execution_count": 2,
   "id": "c219f203",
   "metadata": {},
   "outputs": [
    {
     "name": "stdout",
     "output_type": "stream",
     "text": [
      "5\n"
     ]
    }
   ],
   "source": [
    "# Non-pure function (modifies external state)\n",
    "result = 0\n",
    "\n",
    "def add(a, b):\n",
    "    global result\n",
    "    result = a + b\n",
    "    return result\n",
    "\n",
    "add(2, 3)\n",
    "print(result)  # Output: 5 (state modified)"
   ]
  },
  {
   "cell_type": "markdown",
   "id": "04a7a46d",
   "metadata": {},
   "source": [
    "2. **Immutability** <br>\n",
    "In functional programming, data structures are immutable, meaning they cannot be modified after they are created. Instead of modifying existing data, new data structures are created.\n",
    "\n",
    "**Example: Immutable Approach**"
   ]
  },
  {
   "cell_type": "code",
   "execution_count": 3,
   "id": "64ab2253",
   "metadata": {},
   "outputs": [
    {
     "name": "stdout",
     "output_type": "stream",
     "text": [
      "[1, 2, 3]\n",
      "[2, 4, 6]\n"
     ]
    }
   ],
   "source": [
    "original_list = [1, 2, 3]\n",
    "\n",
    "# Create a new list with a transformation\n",
    "new_list = [x * 2 for x in original_list]\n",
    "\n",
    "print(original_list)  # Output: [1, 2, 3] (unchanged)\n",
    "print(new_list)       # Output: [2, 4, 6]"
   ]
  },
  {
   "cell_type": "markdown",
   "id": "e25e07ef",
   "metadata": {},
   "source": [
    "3. **Higher-Order Functions** <br>\n",
    "A higher-order function is a function that either:\n",
    "- Takes one or more functions as arguments, or\n",
    "- Returns a function as its result.\n",
    "\n",
    "**Example: Higher-Order Functions**"
   ]
  },
  {
   "cell_type": "code",
   "execution_count": 4,
   "id": "5bb43421",
   "metadata": {},
   "outputs": [
    {
     "name": "stdout",
     "output_type": "stream",
     "text": [
      "25\n"
     ]
    }
   ],
   "source": [
    "# Function that takes another function as an argument\n",
    "def apply_function(func, value):\n",
    "    return func(value)\n",
    "\n",
    "# Example usage\n",
    "square = lambda x: x ** 2\n",
    "print(apply_function(square, 5))  # Output: 25"
   ]
  },
  {
   "cell_type": "markdown",
   "id": "673acfce",
   "metadata": {},
   "source": [
    "4. **First-Class Functions** <br>\n",
    "\n",
    "Functions are treated as first-class citizens, meaning they can be assigned to variables, passed as arguments, or returned from other functions.\n",
    "\n",
    "**Example: First-Class Functions**"
   ]
  },
  {
   "cell_type": "code",
   "execution_count": 5,
   "id": "9e1882d8",
   "metadata": {},
   "outputs": [
    {
     "name": "stdout",
     "output_type": "stream",
     "text": [
      "Hello, Alice!\n"
     ]
    }
   ],
   "source": [
    "# Assign a function to a variable\n",
    "def greet(name):\n",
    "    return f\"Hello, {name}!\"\n",
    "\n",
    "say_hello = greet\n",
    "print(say_hello(\"Alice\"))"
   ]
  },
  {
   "cell_type": "markdown",
   "id": "2aa641c1",
   "metadata": {},
   "source": [
    "5. **Recursion** <br>\n",
    "\n",
    "Functional programming relies on recursion instead of loops for iteration. A recursive function calls itself to solve smaller subproblems of a larger problem.\n",
    "\n",
    "**Example: Recursion**"
   ]
  },
  {
   "cell_type": "code",
   "execution_count": 6,
   "id": "abf1ebe2",
   "metadata": {},
   "outputs": [
    {
     "name": "stdout",
     "output_type": "stream",
     "text": [
      "120\n"
     ]
    }
   ],
   "source": [
    "# Recursive function to calculate factorial\n",
    "def factorial(n):\n",
    "    if n == 0:\n",
    "        return 1\n",
    "    return n * factorial(n - 1)\n",
    "\n",
    "print(factorial(5))  # Output: 120"
   ]
  },
  {
   "cell_type": "markdown",
   "id": "708a454f",
   "metadata": {},
   "source": [
    "6. **Map, Filter, and Reduce** <br>\n",
    "\n",
    "These are functional programming tools used for applying transformations and aggregations to collections.\n",
    "\n",
    "- Map: Applies a function to every element in a collection.\n",
    "- Filter: Filters elements based on a condition.\n",
    "- Reduce: Reduces a collection to a single value.\n",
    "\n",
    "**Examples: Map, Filter, and Reduce**"
   ]
  },
  {
   "cell_type": "code",
   "execution_count": 7,
   "id": "5df128af",
   "metadata": {},
   "outputs": [
    {
     "name": "stdout",
     "output_type": "stream",
     "text": [
      "[1, 4, 9, 16]\n",
      "[2, 4]\n",
      "10\n"
     ]
    }
   ],
   "source": [
    "from functools import reduce\n",
    "\n",
    "# Map\n",
    "numbers = [1, 2, 3, 4]\n",
    "squared = list(map(lambda x: x ** 2, numbers))\n",
    "print(squared)  # Output: [1, 4, 9, 16]\n",
    "\n",
    "# Filter\n",
    "even_numbers = list(filter(lambda x: x % 2 == 0, numbers))\n",
    "print(even_numbers)  # Output: [2, 4]\n",
    "\n",
    "# Reduce\n",
    "sum_of_numbers = reduce(lambda x, y: x + y, numbers)\n",
    "print(sum_of_numbers)  # Output: 10"
   ]
  },
  {
   "cell_type": "markdown",
   "id": "05982fa1",
   "metadata": {},
   "source": [
    "7. **Anonymous Functions (Lambda)** <br>\n",
    "\n",
    "Lambda functions are small, unnamed functions defined using the lambda keyword. They are often used for short-lived operations.\n",
    "\n",
    "**Example: Lambda Function**"
   ]
  },
  {
   "cell_type": "code",
   "execution_count": 8,
   "id": "d1f2b25e",
   "metadata": {},
   "outputs": [
    {
     "name": "stdout",
     "output_type": "stream",
     "text": [
      "25\n",
      "[2, 4, 6, 8]\n"
     ]
    }
   ],
   "source": [
    "# Lambda function to calculate the square of a number\n",
    "square = lambda x: x ** 2\n",
    "print(square(5))  # Output: 25\n",
    "\n",
    "# Using lambda in a list comprehension\n",
    "numbers = [1, 2, 3, 4]\n",
    "doubled = list(map(lambda x: x * 2, numbers))\n",
    "print(doubled)  # Output: [2, 4, 6, 8]"
   ]
  },
  {
   "cell_type": "markdown",
   "id": "7f7fd459",
   "metadata": {},
   "source": [
    "### Benefits of Functional Programming\n",
    "\n",
    "- **Predictable Behavior:** Pure functions always produce the same output for the same input, making them easier to test and debug.\n",
    "- **Improved Modularity:** Functions are reusable and composable, promoting modular code design.\n",
    "- **Concurrency-Friendly:** Immutability and statelessness make functional programs easier to parallelize.\n",
    "- **Code Readability:** The declarative style emphasizes what to do rather than how to do it, making code more readable.\n",
    "\n",
    "### Functional Programming in Python: Use Cases\n",
    "1. Data Transformation Functional programming is ideal for tasks like transforming or aggregating large datasets."
   ]
  },
  {
   "cell_type": "code",
   "execution_count": 9,
   "id": "a8146ff7",
   "metadata": {},
   "outputs": [
    {
     "name": "stdout",
     "output_type": "stream",
     "text": [
      "[1, 4, 9, 16, 25]\n",
      "15\n"
     ]
    }
   ],
   "source": [
    "numbers = [1, 2, 3, 4, 5]\n",
    "\n",
    "# Transform: Square each number\n",
    "squared_numbers = list(map(lambda x: x ** 2, numbers))\n",
    "\n",
    "# Aggregate: Sum of all numbers\n",
    "sum_of_numbers = reduce(lambda x, y: x + y, numbers)\n",
    "\n",
    "print(squared_numbers)  # Output: [1, 4, 9, 16, 25]\n",
    "print(sum_of_numbers)   # Output: 15"
   ]
  },
  {
   "cell_type": "markdown",
   "id": "7594220f",
   "metadata": {},
   "source": [
    "2. Pipeline Processing Create a pipeline of transformations using functional tools."
   ]
  },
  {
   "cell_type": "code",
   "execution_count": 10,
   "id": "42c5cc72",
   "metadata": {},
   "outputs": [
    {
     "name": "stdout",
     "output_type": "stream",
     "text": [
      "HELLO PYTHON\n"
     ]
    }
   ],
   "source": [
    "# A pipeline to clean and format text\n",
    "text = \"   hello world   \"\n",
    "pipeline = lambda x: x.strip().upper().replace(\"WORLD\", \"PYTHON\")\n",
    "result = pipeline(text)\n",
    "\n",
    "print(result)  # Output: HELLO PYTHON"
   ]
  },
  {
   "cell_type": "markdown",
   "id": "a1362267",
   "metadata": {},
   "source": [
    "3. Event Handling Functional programming is useful for event-driven systems."
   ]
  },
  {
   "cell_type": "code",
   "execution_count": 11,
   "id": "f7feead9",
   "metadata": {},
   "outputs": [
    {
     "name": "stdout",
     "output_type": "stream",
     "text": [
      "Event occurred!\n"
     ]
    }
   ],
   "source": [
    "def on_event(callback):\n",
    "    # Simulate an event\n",
    "    event_data = {\"message\": \"Event occurred!\"}\n",
    "    callback(event_data)\n",
    "\n",
    "# Define the callback function\n",
    "handle_event = lambda data: print(data[\"message\"])\n",
    "\n",
    "on_event(handle_event)  # Output: Event occurred!"
   ]
  },
  {
   "cell_type": "markdown",
   "id": "90a548b5",
   "metadata": {},
   "source": [
    "### Limitations of Functional Programming in Python\n",
    "\n",
    "- **Performance:** Python's implementation of recursion has a limit on stack depth, making deep recursion impractical.\n",
    "- **Not Purely Functional:** Python supports multiple paradigms, and it's not designed as a pure functional language.\n",
    "- **Readability:** Overuse of lambda functions and higher-order functions can sometimes make the code harder to read.\n",
    "\n",
    "### Conclusion\n",
    "\n",
    "Functional programming in Python provides powerful tools for writing clean, efficient, and maintainable code. While Python is not a purely functional language, its support for functional constructs like lambda functions, map, filter, and reduce makes it versatile for functional programming. By combining functional techniques with Python's flexibility, developers can achieve a balance between clarity and efficiency."
   ]
  }
 ],
 "metadata": {
  "kernelspec": {
   "display_name": "Python 3 (ipykernel)",
   "language": "python",
   "name": "python3"
  },
  "language_info": {
   "codemirror_mode": {
    "name": "ipython",
    "version": 3
   },
   "file_extension": ".py",
   "mimetype": "text/x-python",
   "name": "python",
   "nbconvert_exporter": "python",
   "pygments_lexer": "ipython3",
   "version": "3.11.5"
  }
 },
 "nbformat": 4,
 "nbformat_minor": 5
}
