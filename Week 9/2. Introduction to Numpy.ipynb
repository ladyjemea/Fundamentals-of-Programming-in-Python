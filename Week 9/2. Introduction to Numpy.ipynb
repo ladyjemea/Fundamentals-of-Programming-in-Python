{
 "cells": [
  {
   "cell_type": "markdown",
   "id": "0981ae7f",
   "metadata": {},
   "source": [
    "<img src=\"LaeCodes.png\" \n",
    "     align=\"center\" \n",
    "     width=\"100\" />"
   ]
  },
  {
   "cell_type": "markdown",
   "id": "c60afab6",
   "metadata": {},
   "source": [
    "# Introduction to NumPy \n",
    "\n",
    "NumPy, short for Numerical Python, is a fundamental library for numerical computing in Python. It is widely used in data science for its powerful array-processing capabilities, which allow for efficient manipulation and operations on large datasets. NumPy provides support for large multi-dimensional arrays and matrices, along with a collection of mathematical functions to operate on these arrays. \n",
    "\n",
    "**Key Features of NumPy**\n",
    "\n",
    "- **Ndarray (N-Dimensional Array):** \n",
    "    - The core of NumPy is the ndarray object, which is a multi-dimensional array of homogeneous data types (elements are of the same type). \n",
    "    - It supports arrays of arbitrary dimensions (1D, 2D, 3D, etc.), making it highly versatile for various types of data. \n",
    "\n",
    "- **Mathematical Functions:**\n",
    "    - NumPy includes a wide range of mathematical functions for operations on arrays, including basic arithmetic operations, statistical functions, linear algebra operations, and more. \n",
    "\n",
    "- **Vectorization:**\n",
    "    - NumPy allows vectorized operations, which means you can perform element-wise operations on entire arrays without the need for explicit loops, leading to more concise and faster code. \n",
    "\n",
    "- **Broadcasting:**\n",
    "    - Broadcasting is a powerful mechanism that allows NumPy to perform operations on arrays of different shapes by automatically expanding their dimensions to be compatible. \n",
    "\n",
    "- **Integration with Other Libraries:** \n",
    "    - NumPy integrates seamlessly with other scientific and data analysis libraries such as SciPy, pandas, matplotlib, and scikit-learn. \n",
    "\n",
    "**Common Uses of NumPy in Data Science**\n",
    "\n",
    "- **Data Manipulation:**\n",
    "    - Creating, reshaping, and slicing arrays for data manipulation. \n",
    "    - Efficiently handling large datasets due to its optimized performance. \n",
    "\n",
    "- **Mathematical Computations:** \n",
    "    - Performing complex mathematical operations on arrays, such as matrix multiplication, dot product, and element-wise operations. \n",
    "\n",
    "- **Statistical Analysis:** \n",
    "    - Computing statistical measures like mean, median, variance, and standard deviation on datasets. \n",
    "\n",
    "- **Data Preparation:**\n",
    "    - Preprocessing data, including normalization, scaling, and transforming data into a suitable format for machine learning algorithms. \n",
    "\n",
    "- **Integration with Machine Learning:** \n",
    "    - Serving as a foundational library for machine learning frameworks and tools, aiding in the implementation of algorithms and models. \n",
    "\n",
    "- **NumPy vs. Python Lists:** \n",
    "    - NumPy arrays are more efficient, faster, and provide more functionality compared to Python lists. \n",
    "\n",
    "**Creating NumPy Arrays:** \n",
    "\n",
    "- From Lists:"
   ]
  },
  {
   "cell_type": "code",
   "execution_count": 1,
   "id": "91ceef86",
   "metadata": {},
   "outputs": [],
   "source": [
    "import numpy as np\n",
    "arr = np.array([1, 2, 3, 4, 5])"
   ]
  },
  {
   "cell_type": "markdown",
   "id": "d5d6a2e5",
   "metadata": {},
   "source": [
    "- Using NumPy Functions:"
   ]
  },
  {
   "cell_type": "code",
   "execution_count": 2,
   "id": "043d8c59",
   "metadata": {},
   "outputs": [
    {
     "data": {
      "text/plain": [
       "array([1.        , 1.44444444, 1.88888889, 2.33333333, 2.77777778,\n",
       "       3.22222222, 3.66666667, 4.11111111, 4.55555556, 5.        ])"
      ]
     },
     "execution_count": 2,
     "metadata": {},
     "output_type": "execute_result"
    }
   ],
   "source": [
    "np.zeros((3, 3))  # Creates a 3x3 array of zeros\n",
    "np.ones((2, 4))   # Creates a 2x4 array of ones\n",
    "np.arange(10)     # Creates an array with values from 0 to 9\n",
    "np.linspace(1, 5, 10)  # Creates an array with 10 values between 1 and 5"
   ]
  },
  {
   "cell_type": "markdown",
   "id": "a61dadb8",
   "metadata": {},
   "source": [
    "- **Array Attributes:**\n",
    "\n",
    "    - shape: Returns the dimensions of the array.\n",
    "    - dtype: Returns the data type of the array elements. \n",
    "    - ndim: Returns the number of dimensions. \n",
    "    - size: Returns the total number of elements. \n",
    "\n",
    "- **Array Indexing and Slicing:**\n",
    "    - Accessing elements using indices:"
   ]
  },
  {
   "cell_type": "code",
   "execution_count": 3,
   "id": "6ac23faf",
   "metadata": {},
   "outputs": [
    {
     "data": {
      "text/plain": [
       "5"
      ]
     },
     "execution_count": 3,
     "metadata": {},
     "output_type": "execute_result"
    }
   ],
   "source": [
    "arr = np.array([1, 2, 3, 4, 5])\n",
    "arr[0]\n",
    "arr[-1]"
   ]
  },
  {
   "cell_type": "markdown",
   "id": "a9b722ad",
   "metadata": {},
   "source": [
    "- Slicing arrays:"
   ]
  },
  {
   "cell_type": "code",
   "execution_count": 4,
   "id": "b40bcc22",
   "metadata": {},
   "outputs": [
    {
     "data": {
      "text/plain": [
       "array([1, 3, 5])"
      ]
     },
     "execution_count": 4,
     "metadata": {},
     "output_type": "execute_result"
    }
   ],
   "source": [
    "arr[1:3]\n",
    "arr[:3]\n",
    "arr[::2]"
   ]
  },
  {
   "cell_type": "markdown",
   "id": "96a31bdd",
   "metadata": {},
   "source": [
    "**Indexing with Arrays and Boolean Arrays:**\n",
    "- Using arrays to index:"
   ]
  },
  {
   "cell_type": "code",
   "execution_count": 5,
   "id": "da816605",
   "metadata": {},
   "outputs": [
    {
     "data": {
      "text/plain": [
       "array([1, 3, 5])"
      ]
     },
     "execution_count": 5,
     "metadata": {},
     "output_type": "execute_result"
    }
   ],
   "source": [
    "arr = np.array([1, 2, 3, 4, 5])\n",
    "idx = np.array([0, 2, 4])\n",
    "arr[idx]"
   ]
  },
  {
   "cell_type": "markdown",
   "id": "34844ccc",
   "metadata": {},
   "source": [
    "- Using Boolean arrays:"
   ]
  },
  {
   "cell_type": "code",
   "execution_count": 6,
   "id": "004e6b2c",
   "metadata": {},
   "outputs": [],
   "source": [
    "arr = [arr > 2] #Returns array ([3, 4, 5])"
   ]
  },
  {
   "cell_type": "markdown",
   "id": "97ceb610",
   "metadata": {},
   "source": [
    "**Fancy Indexing:**\n",
    "- Using arrays of indices to access multiple array elements:"
   ]
  },
  {
   "cell_type": "code",
   "execution_count": 7,
   "id": "074e7902",
   "metadata": {},
   "outputs": [
    {
     "data": {
      "text/plain": [
       "array([10, 30, 40])"
      ]
     },
     "execution_count": 7,
     "metadata": {},
     "output_type": "execute_result"
    }
   ],
   "source": [
    "arr = np.array([10, 20, 30, 40, 50])\n",
    "idx = [0, 2, 3]\n",
    "arr[idx]"
   ]
  },
  {
   "cell_type": "markdown",
   "id": "35cb200f",
   "metadata": {},
   "source": [
    "**Modifying Array Values through Indexing:**\n",
    "- Assigning values to specific positions:"
   ]
  },
  {
   "cell_type": "code",
   "execution_count": 8,
   "id": "0f4438bb",
   "metadata": {},
   "outputs": [],
   "source": [
    "arr = np.array([1, 2, 3, 4, 5])\n",
    "arr[0] = 10\n",
    "arr[1:3] = [20, 30]"
   ]
  },
  {
   "cell_type": "markdown",
   "id": "df4eda8b",
   "metadata": {},
   "source": [
    "**Basic Arithmetic Operations:**\n",
    "- Element-wise operations"
   ]
  },
  {
   "cell_type": "code",
   "execution_count": 9,
   "id": "44e04364",
   "metadata": {},
   "outputs": [
    {
     "data": {
      "text/plain": [
       "array([ 4, 10, 18])"
      ]
     },
     "execution_count": 9,
     "metadata": {},
     "output_type": "execute_result"
    }
   ],
   "source": [
    "arr1 = np.array([1, 2, 3])\n",
    "arr2 = np.array([4, 5, 6])\n",
    "arr1 + arr2 #Returns array ([5, 7, 9])\n",
    "arr1 * arr2 #Returns array ([4, 10, 18])"
   ]
  },
  {
   "cell_type": "markdown",
   "id": "af770921",
   "metadata": {},
   "source": [
    "**Universal Functions (ufuncs):**\n",
    "- Applying functions element-wise:"
   ]
  },
  {
   "cell_type": "code",
   "execution_count": 10,
   "id": "ea4ef771",
   "metadata": {},
   "outputs": [
    {
     "data": {
      "text/plain": [
       "array([ 2.71828183,  7.3890561 , 20.08553692])"
      ]
     },
     "execution_count": 10,
     "metadata": {},
     "output_type": "execute_result"
    }
   ],
   "source": [
    "np.sqrt(arr1) #Returns array([1.0, 1.41, 1.73])\n",
    "np.exp(arr1) #Returns array([2.71, 7.39, 20.08])"
   ]
  },
  {
   "cell_type": "markdown",
   "id": "a31538f8",
   "metadata": {},
   "source": [
    "**Aggregation Functions:**\n",
    "- Computing summary statistics:"
   ]
  },
  {
   "cell_type": "code",
   "execution_count": 11,
   "id": "cd0d66c0",
   "metadata": {},
   "outputs": [
    {
     "data": {
      "text/plain": [
       "5"
      ]
     },
     "execution_count": 11,
     "metadata": {},
     "output_type": "execute_result"
    }
   ],
   "source": [
    "arr = np.array([1, 2, 3, 4, 5])\n",
    "arr.sum()    #Returns 15\n",
    "arr.mean()   #Returns 3.0\n",
    "arr.std()    #Returns 1.41\n",
    "arr.min()    #Returns 1\n",
    "arr.max()    #Returns 5"
   ]
  },
  {
   "cell_type": "markdown",
   "id": "e538c214",
   "metadata": {},
   "source": [
    "**Axis-wise Operations:**\n",
    "- Applying functions along specific axes:"
   ]
  },
  {
   "cell_type": "code",
   "execution_count": 12,
   "id": "fea015ce",
   "metadata": {},
   "outputs": [
    {
     "data": {
      "text/plain": [
       "array([ 6, 15])"
      ]
     },
     "execution_count": 12,
     "metadata": {},
     "output_type": "execute_result"
    }
   ],
   "source": [
    "arr = np.array([[1, 2, 3], [4, 5, 6]])\n",
    "arr.sum(axis=0)  #Returns array ([5, 7, 9])\n",
    "arr.sum(axis=1)  #Returns array ([6, 15])"
   ]
  },
  {
   "cell_type": "markdown",
   "id": "1a0fbb87",
   "metadata": {},
   "source": [
    "**Broadcasting and Vectorized Operations**\n",
    "\n",
    "**What is Broadcasting?** \n",
    "- Broadcasting is the process by which NumPy treats arrays with different shapes during arithmetic operations. \n",
    "\n",
    "**Rules of Broadcasting:**\n",
    "- Rule 1: If the arrays do not have the same rank, prepend the shape of the lower-rank array with ones until both shapes have the same length.\n",
    "- Rule 2: The two arrays are compatible in a dimension if they have the same size in that dimension or if one of them has size 1 in that dimension. \n",
    "\n",
    "**Examples of Broadcasting:**\n",
    "- Adding a scalar to an array:"
   ]
  },
  {
   "cell_type": "code",
   "execution_count": 13,
   "id": "2c83a48d",
   "metadata": {},
   "outputs": [
    {
     "data": {
      "text/plain": [
       "array([6, 7, 8])"
      ]
     },
     "execution_count": 13,
     "metadata": {},
     "output_type": "execute_result"
    }
   ],
   "source": [
    "arr = np.array([1, 2, 3])\n",
    "arr + 5 #Returns array ([6,7,8])"
   ]
  },
  {
   "cell_type": "markdown",
   "id": "ddd4ad15",
   "metadata": {},
   "source": [
    "- Adding two arrays of different shapes:"
   ]
  },
  {
   "cell_type": "code",
   "execution_count": 22,
   "id": "aa700da6",
   "metadata": {},
   "outputs": [
    {
     "data": {
      "text/plain": [
       "array([[2, 4, 6],\n",
       "       [5, 7, 9]])"
      ]
     },
     "execution_count": 22,
     "metadata": {},
     "output_type": "execute_result"
    }
   ],
   "source": [
    "arr1 = np.array([[1, 2, 3], [4, 5, 6]])\n",
    "arr2 = np.array([1, 2, 3])\n",
    "arr1 + arr2 #Returns array ([[2, 4, 6], [5, 7, 9]])"
   ]
  },
  {
   "cell_type": "markdown",
   "id": "3be48f8a",
   "metadata": {},
   "source": [
    "**Vectorized Operations**\n",
    "\n",
    "**Benefits of Vectorization:**\n",
    "- Vectorization allows operations to be applied element-wise to arrays, leading to more concise and readable code. \n",
    "- It also improves performance by utilizing optimized C and Fortran libraries in NumPy.\n",
    "\n",
    "**Applying Vectorized Operations to Arrays:** \n",
    "- Example of vectorized operations:"
   ]
  },
  {
   "cell_type": "code",
   "execution_count": 23,
   "id": "2630213d",
   "metadata": {},
   "outputs": [
    {
     "data": {
      "text/plain": [
       "array([0.        , 0.69314718, 1.09861229])"
      ]
     },
     "execution_count": 23,
     "metadata": {},
     "output_type": "execute_result"
    }
   ],
   "source": [
    "arr2 = np.array([1, 2, 3, 4, 5])\n",
    "np.exp(arr) #Returns array ([2.71, 7.39, 20.08, 54.60, 148.41])\n",
    "np.log(arr) #Returns array ([0.0, 0.69, 1.09, 1.39, 1.61])"
   ]
  },
  {
   "cell_type": "markdown",
   "id": "0ac66bee",
   "metadata": {},
   "source": [
    "**I/O with NumPy**\n",
    "- **Reading Data from Files:**\n",
    "- **Using np.loadtxt():**"
   ]
  },
  {
   "cell_type": "code",
   "execution_count": 17,
   "id": "cc91e4f0",
   "metadata": {},
   "outputs": [
    {
     "name": "stdout",
     "output_type": "stream",
     "text": [
      "[[1. 2. 3.]\n",
      " [4. 5. 6.]\n",
      " [7. 8. 9.]]\n"
     ]
    }
   ],
   "source": [
    "import numpy as np\n",
    "data = np.loadtxt('data.txt')\n",
    "print(data)"
   ]
  },
  {
   "cell_type": "markdown",
   "id": "6442a1aa",
   "metadata": {},
   "source": [
    "- **Using np.genfromtxt():** <br>\n",
    "Handles missing values and different delimiters:"
   ]
  },
  {
   "cell_type": "code",
   "execution_count": 18,
   "id": "c884b021",
   "metadata": {},
   "outputs": [
    {
     "name": "stdout",
     "output_type": "stream",
     "text": [
      "[[16.99  1.01   nan   nan   nan   nan  2.  ]\n",
      " [10.34  1.66   nan   nan   nan   nan  3.  ]\n",
      " [21.01  3.5    nan   nan   nan   nan  3.  ]\n",
      " [23.68  3.31   nan   nan   nan   nan  2.  ]\n",
      " [24.59  3.61   nan   nan   nan   nan  4.  ]\n",
      " [  nan   nan   nan   nan   nan   nan   nan]]\n"
     ]
    }
   ],
   "source": [
    "data = np.genfromtxt('data.csv', delimiter=';', dtype=float, skip_header=1)\n",
    "print(data)"
   ]
  },
  {
   "cell_type": "markdown",
   "id": "3afe8c4c",
   "metadata": {},
   "source": [
    "- **Writing Data to Files:** <br>\n",
    "Using np.savetxt():"
   ]
  },
  {
   "cell_type": "code",
   "execution_count": 19,
   "id": "9926b4cb",
   "metadata": {},
   "outputs": [],
   "source": [
    "np.savetxt('output.txt', data)"
   ]
  },
  {
   "cell_type": "markdown",
   "id": "03625e8a",
   "metadata": {},
   "source": [
    "- **Using np.save() and np.load():** <br>\n",
    "For binary format (more efficient storage):"
   ]
  },
  {
   "cell_type": "code",
   "execution_count": 20,
   "id": "21747cb6",
   "metadata": {},
   "outputs": [],
   "source": [
    "np.save('data.npy', data)\n",
    "loaded_data = np.load('data.npy')"
   ]
  },
  {
   "cell_type": "markdown",
   "id": "475cb34a",
   "metadata": {},
   "source": [
    "- **Using np.savez():** <br>\n",
    "Saving multiple arrays in a compressed format:"
   ]
  },
  {
   "cell_type": "code",
   "execution_count": 29,
   "id": "8bced861",
   "metadata": {},
   "outputs": [
    {
     "name": "stdout",
     "output_type": "stream",
     "text": [
      "[1 2 3]\n",
      "[4 5 6]\n"
     ]
    }
   ],
   "source": [
    "# Defining two arrays\n",
    "data1 = np.array([1, 2, 3])\n",
    "data2 = np.array([4, 5, 6])\n",
    "\n",
    "# Saving multiple arrays in a compressed format\n",
    "np.savez('data.npz', arr1=data1, arr2=data2)\n",
    "\n",
    "# Loading and accessing saved arrays\n",
    "loaded = np.load('data.npz')\n",
    "print(loaded['arr1'])  # Outputs: [1 2 3]\n",
    "print(loaded['arr2'])  # Outputs: [4 5 6]"
   ]
  }
 ],
 "metadata": {
  "kernelspec": {
   "display_name": "Python 3 (ipykernel)",
   "language": "python",
   "name": "python3"
  },
  "language_info": {
   "codemirror_mode": {
    "name": "ipython",
    "version": 3
   },
   "file_extension": ".py",
   "mimetype": "text/x-python",
   "name": "python",
   "nbconvert_exporter": "python",
   "pygments_lexer": "ipython3",
   "version": "3.11.5"
  }
 },
 "nbformat": 4,
 "nbformat_minor": 5
}
