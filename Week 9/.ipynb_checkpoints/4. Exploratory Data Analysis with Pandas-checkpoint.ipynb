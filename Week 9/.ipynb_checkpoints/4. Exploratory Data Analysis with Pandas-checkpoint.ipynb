{
 "cells": [
  {
   "cell_type": "markdown",
   "id": "dc90198c",
   "metadata": {},
   "source": [
    "<img src=\"LaeCodes.png\" \n",
    "     align=\"center\" \n",
    "     width=\"100\" />"
   ]
  },
  {
   "cell_type": "markdown",
   "id": "3c741838",
   "metadata": {},
   "source": [
    "## Exploratory Data Analysis (EDA)\n",
    "\n",
    "**Descriptive Statistics:**\n",
    "- Perform basic statistical analysis to understand the dataset:"
   ]
  },
  {
   "cell_type": "code",
   "execution_count": 1,
   "id": "2fba2517",
   "metadata": {},
   "outputs": [
    {
     "name": "stdout",
     "output_type": "stream",
     "text": [
      "         A    B\n",
      "count  3.0  3.0\n",
      "mean   2.0  5.0\n",
      "std    1.0  1.0\n",
      "min    1.0  4.0\n",
      "25%    1.5  4.5\n",
      "50%    2.0  5.0\n",
      "75%    2.5  5.5\n",
      "max    3.0  6.0\n",
      "Mean of column A: 2.0\n",
      "Median of column A: 2.0\n",
      "Mode of column A: 1\n"
     ]
    }
   ],
   "source": [
    "import pandas as pd\n",
    "\n",
    "data = {'A': [1, 2, 3], 'B': [4, 5, 6]}\n",
    "df = pd.DataFrame(data)\n",
    "\n",
    "# Descriptive statistics\n",
    "print(df.describe())\n",
    "print(\"Mean of column A:\", df['A'].mean())\n",
    "print(\"Median of column A:\", df['A'].median())\n",
    "print(\"Mode of column A:\", df['A'].mode()[0])  # Mode returns a Series"
   ]
  },
  {
   "cell_type": "markdown",
   "id": "1974eacb",
   "metadata": {},
   "source": [
    "**Data Visualization with Pandas:**\n",
    "- Basic plotting:"
   ]
  },
  {
   "cell_type": "code",
   "execution_count": 3,
   "id": "464caa13",
   "metadata": {},
   "outputs": [
    {
     "data": {
      "text/plain": [
       "<Axes: title={'center': 'Boxplot of A'}, ylabel='Frequency'>"
      ]
     },
     "execution_count": 3,
     "metadata": {},
     "output_type": "execute_result"
    },
    {
     "data": {
      "image/png": "[encoded data removed]",
      "text/plain": [
       "<Figure size 640x480 with 1 Axes>"
      ]
     },
     "metadata": {},
     "output_type": "display_data"
    }
   ],
   "source": [
    "# Line plot\n",
    "df['A'].plot(kind='line', title='Line Plot of A')\n",
    "\n",
    "# Histogram\n",
    "df['A'].plot(kind='hist', title='Histogram of A')\n",
    "\n",
    "# Boxplot\n",
    "df['A'].plot(kind='box', title='Boxplot of A')"
   ]
  },
  {
   "cell_type": "markdown",
   "id": "6bc2ddbc",
   "metadata": {},
   "source": [
    "**Pivot Tables and Cross-Tabulations:**\n",
    "- Creating pivot tables:"
   ]
  },
  {
   "cell_type": "code",
   "execution_count": 7,
   "id": "b2eca4f8",
   "metadata": {},
   "outputs": [
    {
     "name": "stdout",
     "output_type": "stream",
     "text": [
      "C    7    8    9\n",
      "B               \n",
      "4  1.0  NaN  NaN\n",
      "5  NaN  2.0  NaN\n",
      "6  NaN  NaN  3.0\n",
      "----------\n",
      "----------\n",
      "B  4  5  6\n",
      "A         \n",
      "1  1  0  0\n",
      "2  0  1  0\n",
      "3  0  0  1\n"
     ]
    }
   ],
   "source": [
    "import pandas as pd\n",
    "\n",
    "data1 = {'A': [1, 2, 3], 'B': [4, 5, 6]}\n",
    "data2 = {'C': [7, 8, 9], 'D': [10, 11, 12]}\n",
    "df1 = pd.DataFrame(data1)\n",
    "df2 = pd.DataFrame(data2)\n",
    "\n",
    "# Concatenate the DataFrames column-wise\n",
    "df = pd.concat([df1, df2], axis=1)\n",
    "\n",
    "# Creating a pivot table\n",
    "print(df.pivot_table(values='A', index='B', columns='C'))\n",
    "\n",
    "print('----------')\n",
    "print('----------')\n",
    "\n",
    "# Cross-tabulation\n",
    "print(pd.crosstab(df['A'], df['B']))"
   ]
  },
  {
   "cell_type": "markdown",
   "id": "eaa12306",
   "metadata": {},
   "source": [
    "**Advanced Data Manipulation** \n",
    "- **Working with Dates and Times:**\n",
    "    - **Handle date and time data:**"
   ]
  },
  {
   "cell_type": "code",
   "execution_count": 9,
   "id": "c966afd8",
   "metadata": {},
   "outputs": [
    {
     "name": "stdout",
     "output_type": "stream",
     "text": [
      "        date  value  year  month  day\n",
      "0 2024-07-01     10  2024      7    1\n",
      "1 2024-07-02     20  2024      7    2\n",
      "2 2024-07-03     30  2024      7    3\n"
     ]
    }
   ],
   "source": [
    "import pandas as pd\n",
    "\n",
    "# Parsing dates\n",
    "data = {'date': ['2024-07-01', '2024-07-02', '2024-07-03'], 'value': [10, 20, 30]}\n",
    "df = pd.DataFrame(data)\n",
    "df['date'] = pd.to_datetime(df['date'])\n",
    "\n",
    "# Extracting components\n",
    "df['year'] = df['date'].dt.year\n",
    "df['month'] = df['date'].dt.month\n",
    "df['day'] = df['date'].dt.day\n",
    "print(df)"
   ]
  },
  {
   "cell_type": "markdown",
   "id": "e01f0ebb",
   "metadata": {},
   "source": [
    "**Handling Categorical Data:**\n",
    "- **Optimize and analyze categorical variables:**"
   ]
  },
  {
   "cell_type": "code",
   "execution_count": 10,
   "id": "81bfff6f",
   "metadata": {},
   "outputs": [
    {
     "name": "stdout",
     "output_type": "stream",
     "text": [
      "Categories: Index(['A', 'B', 'C'], dtype='object')\n",
      "Category codes: 0    0\n",
      "1    1\n",
      "2    0\n",
      "3    2\n",
      "dtype: int8\n"
     ]
    }
   ],
   "source": [
    "# Convert to categorical data type\n",
    "data = {'category': ['A', 'B', 'A', 'C'], 'value': [10, 20, 30, 40]}\n",
    "df = pd.DataFrame(data)\n",
    "df['category'] = df['category'].astype('category')\n",
    "\n",
    "# Inspect categories\n",
    "print(\"Categories:\", df['category'].cat.categories)\n",
    "print(\"Category codes:\", df['category'].cat.codes)"
   ]
  },
  {
   "cell_type": "markdown",
   "id": "6a29f70a",
   "metadata": {},
   "source": [
    "**Applying Functions to Data:**\n",
    "- **Transform data using apply, map, and applymap:**"
   ]
  },
  {
   "cell_type": "code",
   "execution_count": 12,
   "id": "0faa9150",
   "metadata": {},
   "outputs": [
    {
     "name": "stdout",
     "output_type": "stream",
     "text": [
      "            A   B\n",
      "0      TwoTwo   8\n",
      "1  ThreeThree  10\n",
      "2         NaN  12\n"
     ]
    }
   ],
   "source": [
    "# Using apply, map, and applymap\n",
    "data = {'A': [1, 2, 3], 'B': [4, 5, 6]}\n",
    "df = pd.DataFrame(data)\n",
    "\n",
    "df['A'] = df['A'].apply(lambda x: x + 1)  # Add 1 to each value in column A\n",
    "df['A'] = df['A'].map({2: 'Two', 3: 'Three'})  # Map specific values\n",
    "df[['A', 'B']] = df[['A', 'B']].applymap(lambda x: x * 2)  # Multiply all values by 2\n",
    "print(df)"
   ]
  },
  {
   "cell_type": "markdown",
   "id": "781cbd1f",
   "metadata": {},
   "source": [
    "**Basic DataFrame Operations**\n",
    "- **An example demonstrating some basic functionalities of Pandas:**"
   ]
  },
  {
   "cell_type": "code",
   "execution_count": 13,
   "id": "a67d082e",
   "metadata": {},
   "outputs": [
    {
     "name": "stdout",
     "output_type": "stream",
     "text": [
      "Ages:\n",
      " 0    24\n",
      "1    27\n",
      "2    22\n",
      "3    32\n",
      "Name: Age, dtype: int64\n",
      "\n",
      "High Salary:\n",
      "       Name  Age  Salary\n",
      "1      Bob   27   60000\n",
      "2  Charlie   22   55000\n",
      "\n",
      "DataFrame with new column:\n",
      "       Name  Age  Salary  Salary in K\n",
      "0    Alice   24   50000         50.0\n",
      "1      Bob   27   60000         60.0\n",
      "2  Charlie   22   55000         55.0\n",
      "3    David   32   45000         45.0\n",
      "\n",
      "Grouped by Age:\n",
      "       Salary  Salary in K\n",
      "Age                      \n",
      "22   55000.0         55.0\n",
      "24   50000.0         50.0\n",
      "27   60000.0         60.0\n",
      "32   45000.0         45.0\n"
     ]
    }
   ],
   "source": [
    "import pandas as pd\n",
    "\n",
    "# Creating a DataFrame\n",
    "data = {\n",
    "    'Name': ['Alice', 'Bob', 'Charlie', 'David'],\n",
    "    'Age': [24, 27, 22, 32],\n",
    "    'Salary': [50000, 60000, 55000, 45000]\n",
    "}\n",
    "df = pd.DataFrame(data)\n",
    "\n",
    "# Selecting a column\n",
    "print(\"Ages:\\n\", df['Age'])\n",
    "\n",
    "# Filtering rows\n",
    "high_salary = df[df['Salary'] > 50000]\n",
    "print(\"\\nHigh Salary:\\n\", high_salary)\n",
    "\n",
    "# Adding a new column\n",
    "df['Salary in K'] = df['Salary'] / 1000\n",
    "print(\"\\nDataFrame with new column:\\n\", df)\n",
    "\n",
    "# Grouping and aggregating data\n",
    "age_groups = df.groupby('Age')[['Salary', 'Salary in K']].mean()\n",
    "print(\"\\nGrouped by Age:\\n\", age_groups)"
   ]
  }
 ],
 "metadata": {
  "kernelspec": {
   "display_name": "Python 3 (ipykernel)",
   "language": "python",
   "name": "python3"
  },
  "language_info": {
   "codemirror_mode": {
    "name": "ipython",
    "version": 3
   },
   "file_extension": ".py",
   "mimetype": "text/x-python",
   "name": "python",
   "nbconvert_exporter": "python",
   "pygments_lexer": "ipython3",
   "version": "3.11.5"
  }
 },
 "nbformat": 4,
 "nbformat_minor": 5
}
