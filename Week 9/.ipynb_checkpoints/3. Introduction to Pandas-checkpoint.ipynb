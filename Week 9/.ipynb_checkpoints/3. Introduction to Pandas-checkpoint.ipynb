{
 "cells": [
  {
   "cell_type": "markdown",
   "id": "ccd4b066",
   "metadata": {},
   "source": [
    "<img src=\"LaeCodes.png\" \n",
    "     align=\"center\" \n",
    "     width=\"100\" />"
   ]
  },
  {
   "cell_type": "markdown",
   "id": "10096c34",
   "metadata": {},
   "source": [
    "# Introduction to Pandas \n",
    "\n",
    "Pandas is a flexible open-source data analysis and manipulation library for Python. It is widely used in data science for working with structured data due to its easy-to-use data structures and robust functionality. Pandas provides tools for reading and writing data, cleaning and preparing data, and performing complex data analysis.\n",
    "\n",
    "**Key Features of Pandas**\n",
    "\n",
    "**1)Data Structures:** <br>\n",
    "**Series:** A one-dimensional labeled array capable of holding any data type."
   ]
  },
  {
   "cell_type": "code",
   "execution_count": 2,
   "id": "a9974d32",
   "metadata": {},
   "outputs": [],
   "source": [
    "import pandas as pd\n",
    "s = pd.Series([1, 2, 3, 4, 5])"
   ]
  },
  {
   "cell_type": "markdown",
   "id": "9137dee0",
   "metadata": {},
   "source": [
    "**Attributes:** <br>\n",
    "- **values:** Returns the values in the series. <br>\n",
    "- **index:** Returns the index of the series. <br>\n",
    "\n",
    "**DataFrame:** A two-dimensional labeled data structure with columns of potentially different types. It is similar to a table in a relational database or an Excel spreadsheet."
   ]
  },
  {
   "cell_type": "code",
   "execution_count": 3,
   "id": "552290a6",
   "metadata": {},
   "outputs": [
    {
     "name": "stdout",
     "output_type": "stream",
     "text": [
      "   A  B\n",
      "0  1  4\n",
      "1  2  5\n",
      "2  3  6\n"
     ]
    }
   ],
   "source": [
    "data = {'A': [1, 2, 3], 'B': [4, 5, 6]}\n",
    "df = pd.DataFrame(data)\n",
    "print(df)"
   ]
  },
  {
   "cell_type": "markdown",
   "id": "b07e2190",
   "metadata": {},
   "source": [
    "**Attributes:** <br>\n",
    "- **columns:** Returns the column labels.\n",
    "- **index:** Returns the row labels. <br>\n",
    "- **values:** Returns the underlying data as a NumPy array. \n",
    "\n",
    "**2) Data Handling and Manipulation:**\n",
    "- Reading/Writing Data: Easily read from and write to various file formats, including CSV, Excel, SQL, and JSON. \n",
    "- Data Cleaning: Handling missing data, removing duplicates, and filtering data.\n",
    "- Data Transformation: Applying functions, merging/joining datasets, grouping data, and pivoting tables.\n",
    "\n",
    "**3) Indexing and Selection:**\n",
    "- Powerful tools for selecting, filtering, and slicing data, allowing for intuitive data access and manipulation. \n",
    "\n",
    "**4) Time Series Handling:**\n",
    "- Specialized functions and tools to work with time series data, including date range generation, frequency conversion, and resampling.\n",
    "\n",
    "**5) Integration with Other Libraries:**\n",
    "- Works seamlessly with NumPy for numerical operations and matplotlib for data visualization.\n",
    "\n",
    "**Common Uses of Pandas in Data Science**\n",
    "- **Data Cleaning and Preparation:**\n",
    "    - Handling missing values, converting data types, and normalizing data.\n",
    "    - Removing duplicates and handling outliers.\n",
    "- **Exploratory Data Analysis (EDA):**\n",
    "    - Summarizing data, calculating statistics, and generating descriptive statistics.\n",
    "    - Visualizing data distributions and relationships using plots.\n",
    "- **Data Transformation:**\n",
    "    - Applying functions to data, grouping and aggregating data, and reshaping data structures.\n",
    "    - Creating new calculated columns based on existing data.\n",
    "- **Merging and Joining Data:**\n",
    "    - Combining multiple datasets through joins and merges, similar to SQL operations.\n",
    "- **Time Series Analysis:**\n",
    "    - Handling date-time data, performing rolling window calculations, and resampling time series data. <br>\n",
    "\n",
    "\n",
    "**Creating DataFrames from Various Data Sources** <br>\n",
    "- **From Dictionaries:**"
   ]
  },
  {
   "cell_type": "code",
   "execution_count": 4,
   "id": "784fab48",
   "metadata": {},
   "outputs": [],
   "source": [
    "data = {'A': [1, 2, 3], 'B': [4, 5, 6]}\n",
    "df = pd.DataFrame(data)"
   ]
  },
  {
   "cell_type": "markdown",
   "id": "04b43354",
   "metadata": {},
   "source": [
    "• **From CSV Files:**"
   ]
  },
  {
   "cell_type": "code",
   "execution_count": 5,
   "id": "7ecab26c",
   "metadata": {},
   "outputs": [
    {
     "name": "stdout",
     "output_type": "stream",
     "text": [
      "   total_bill   tip     sex smoker  day    time  size\n",
      "0       16.99  1.01  Female     No  Sun  Dinner   2.0\n",
      "1       10.34  1.66    Male     No  Sun  Dinner   3.0\n",
      "2       21.01  3.50    Male     No  Sun  Dinner   3.0\n",
      "3       23.68  3.31    Male     No  Sun  Dinner   2.0\n",
      "4       24.59  3.61  Female     No  Sun  Dinner   4.0\n",
      "5         NaN   NaN     NaN    NaN  NaN     NaN   NaN\n"
     ]
    }
   ],
   "source": [
    "df = pd.read_csv('data.csv', delimiter=';')\n",
    "print(df)"
   ]
  },
  {
   "cell_type": "markdown",
   "id": "9a4b42db",
   "metadata": {},
   "source": [
    "• **From Excel Files:**"
   ]
  },
  {
   "cell_type": "code",
   "execution_count": 8,
   "id": "807c385a",
   "metadata": {},
   "outputs": [
    {
     "name": "stdout",
     "output_type": "stream",
     "text": [
      "   A  B  C   D\n",
      "0  1  4  7  10\n",
      "1  2  5  8  11\n",
      "2  3  6  9  12\n"
     ]
    }
   ],
   "source": [
    "import pandas as pd\n",
    "\n",
    "df = pd.read_excel('data.xlsx', engine='openpyxl')\n",
    "\n",
    "print(df.head())"
   ]
  },
  {
   "cell_type": "markdown",
   "id": "7fb8cb0b",
   "metadata": {},
   "source": [
    "• **From JSON Files:**"
   ]
  },
  {
   "cell_type": "code",
   "execution_count": 24,
   "id": "79e1ea5e",
   "metadata": {},
   "outputs": [
    {
     "name": "stdout",
     "output_type": "stream",
     "text": [
      "File Content: {'name': ['Alice', 'Bob', 'Charlie'], 'age': [25, 30, 35], 'city': ['New York', 'Los Angeles', 'Chicago']}\n",
      "      name  age         city\n",
      "0    Alice   25     New York\n",
      "1      Bob   30  Los Angeles\n",
      "2  Charlie   35      Chicago\n"
     ]
    }
   ],
   "source": [
    "import json\n",
    "import pandas as pd\n",
    "\n",
    "# Define the file path\n",
    "file_path = 'data.json'\n",
    "\n",
    "# Step 1: Read the JSON file\n",
    "try:\n",
    "    with open(file_path, 'r', encoding='utf-8-sig') as file:\n",
    "        content = json.load(file)\n",
    "        print(\"File Content:\", content)\n",
    "except FileNotFoundError:\n",
    "    print(f\"The file {file_path} does not exist.\")\n",
    "    content = None\n",
    "except json.JSONDecodeError:\n",
    "    print(\"Invalid JSON format.\")\n",
    "    content = None\n",
    "\n",
    "# Step 2: Convert to DataFrame if content is valid\n",
    "if content:\n",
    "    try:\n",
    "        df = pd.DataFrame(content)\n",
    "        print(df.head())\n",
    "    except ValueError:\n",
    "        print(\"JSON format not suitable for a DataFrame.\")"
   ]
  },
  {
   "cell_type": "markdown",
   "id": "88b3a190",
   "metadata": {},
   "source": [
    "• **From SQL Databases:**"
   ]
  },
  {
   "cell_type": "code",
   "execution_count": 31,
   "id": "7e668fe1",
   "metadata": {},
   "outputs": [
    {
     "name": "stdout",
     "output_type": "stream",
     "text": [
      "Creating database...\n",
      "Database created with sample data!\n",
      "\n",
      "Querying database...\n",
      "Data retrieved from the database:\n",
      "   id     name  age   department\n",
      "0   1    Alice   25           HR\n",
      "1   2      Bob   30  Engineering\n",
      "2   3  Charlie   35    Marketing\n",
      "3   4    Alice   25           HR\n",
      "4   5      Bob   30  Engineering\n",
      "5   6  Charlie   35    Marketing\n"
     ]
    }
   ],
   "source": [
    "import sqlite3\n",
    "import pandas as pd\n",
    "\n",
    "# Step 1: Create a database and insert sample data\n",
    "def create_database():\n",
    "    # Connect to SQLite database (creates the file if it doesn't exist)\n",
    "    conn = sqlite3.connect('database.db')\n",
    "    cursor = conn.cursor()\n",
    "\n",
    "    # Create a sample table\n",
    "    cursor.execute('''\n",
    "    CREATE TABLE IF NOT EXISTS employees (\n",
    "        id INTEGER PRIMARY KEY,\n",
    "        name TEXT,\n",
    "        age INTEGER,\n",
    "        department TEXT\n",
    "    )\n",
    "    ''')\n",
    "\n",
    "    # Insert sample data\n",
    "    cursor.executemany('''\n",
    "    INSERT INTO employees (name, age, department)\n",
    "    VALUES (?, ?, ?)\n",
    "    ''', [\n",
    "        ('Alice', 25, 'HR'),\n",
    "        ('Bob', 30, 'Engineering'),\n",
    "        ('Charlie', 35, 'Marketing')\n",
    "    ])\n",
    "\n",
    "    # Commit changes and close the connection\n",
    "    conn.commit()\n",
    "    conn.close()\n",
    "    print(\"Database created with sample data!\")\n",
    "\n",
    "# Step 2: Connect to the database and read data\n",
    "def query_database():\n",
    "    # Connect to the SQLite database\n",
    "    conn = sqlite3.connect('database.db')\n",
    "\n",
    "    # Query the data using pandas\n",
    "    try:\n",
    "        df = pd.read_sql_query(\"SELECT * FROM employees\", conn)\n",
    "        print(\"Data retrieved from the database:\")\n",
    "        print(df)\n",
    "    except Exception as e:\n",
    "        print(f\"Error querying database: {e}\")\n",
    "    finally:\n",
    "        conn.close()\n",
    "\n",
    "# Main script execution\n",
    "if __name__ == '__main__':\n",
    "    print(\"Creating database...\")\n",
    "    create_database()\n",
    "\n",
    "    print(\"\\nQuerying database...\")\n",
    "    query_database()"
   ]
  },
  {
   "cell_type": "markdown",
   "id": "8197fd27",
   "metadata": {},
   "source": [
    "**DataFrame Indexing and Slicing**\n",
    "- **Selecting Data by Label:**\n",
    "    - **Using loc for label-based indexing:**"
   ]
  },
  {
   "cell_type": "code",
   "execution_count": 33,
   "id": "112563d3",
   "metadata": {},
   "outputs": [
    {
     "data": {
      "text/plain": [
       "A    1\n",
       "B    4\n",
       "Name: 0, dtype: int64"
      ]
     },
     "execution_count": 33,
     "metadata": {},
     "output_type": "execute_result"
    }
   ],
   "source": [
    "data = {'A': [1, 2, 3], 'B': [4, 5, 6]}\n",
    "df = pd.DataFrame(data)\n",
    "\n",
    "df.loc[0, 'A']  # Access element at row 0, column 'A'\n",
    "df.loc[:, 'A']  # Access all rows of column 'A'\n",
    "df.loc[0]       # Access all columns of row 0"
   ]
  },
  {
   "cell_type": "markdown",
   "id": "05f0ca61",
   "metadata": {},
   "source": [
    "- **Selecting Data by Position:**\n",
    "    - **Using iloc for position-based indexing:**"
   ]
  },
  {
   "cell_type": "code",
   "execution_count": 34,
   "id": "8ddd754c",
   "metadata": {},
   "outputs": [
    {
     "data": {
      "text/plain": [
       "A    1\n",
       "B    4\n",
       "Name: 0, dtype: int64"
      ]
     },
     "execution_count": 34,
     "metadata": {},
     "output_type": "execute_result"
    }
   ],
   "source": [
    "data = {'A': [1, 2, 3], 'B': [4, 5, 6]}\n",
    "df = pd.DataFrame(data)\n",
    "\n",
    "df.iloc[0, 0]   # Access element at first row, first column\n",
    "df.iloc[:, 0]   # Access all rows of first column\n",
    "df.iloc[0]      # Access all columns of first row"
   ]
  },
  {
   "cell_type": "markdown",
   "id": "7c87d8d0",
   "metadata": {},
   "source": [
    "- **Boolean Indexing:**\n",
    "    - **Using conditions to filter data:**"
   ]
  },
  {
   "cell_type": "code",
   "execution_count": 35,
   "id": "6c005d83",
   "metadata": {},
   "outputs": [
    {
     "data": {
      "text/html": [
       "<div>\n",
       "<style scoped>\n",
       "    .dataframe tbody tr th:only-of-type {\n",
       "        vertical-align: middle;\n",
       "    }\n",
       "\n",
       "    .dataframe tbody tr th {\n",
       "        vertical-align: top;\n",
       "    }\n",
       "\n",
       "    .dataframe thead th {\n",
       "        text-align: right;\n",
       "    }\n",
       "</style>\n",
       "<table border=\"1\" class=\"dataframe\">\n",
       "  <thead>\n",
       "    <tr style=\"text-align: right;\">\n",
       "      <th></th>\n",
       "      <th>A</th>\n",
       "      <th>B</th>\n",
       "    </tr>\n",
       "  </thead>\n",
       "  <tbody>\n",
       "    <tr>\n",
       "      <th>2</th>\n",
       "      <td>3</td>\n",
       "      <td>6</td>\n",
       "    </tr>\n",
       "  </tbody>\n",
       "</table>\n",
       "</div>"
      ],
      "text/plain": [
       "   A  B\n",
       "2  3  6"
      ]
     },
     "execution_count": 35,
     "metadata": {},
     "output_type": "execute_result"
    }
   ],
   "source": [
    "df[df['A'] > 2]  # Returns rows where column 'A' values are greater than 2"
   ]
  },
  {
   "cell_type": "markdown",
   "id": "61ff2d0d",
   "metadata": {},
   "source": [
    "- **Setting Values:**\n",
    "    - **Modifying values based on index:**"
   ]
  },
  {
   "cell_type": "code",
   "execution_count": 36,
   "id": "5184c1b1",
   "metadata": {},
   "outputs": [],
   "source": [
    "df.loc[0, 'A'] = 10  # Set value at row 0, column 'A' to 10"
   ]
  },
  {
   "cell_type": "markdown",
   "id": "447ff9a7",
   "metadata": {},
   "source": [
    "**Basic Operations on DataFrames**\n",
    "- **Adding and Removing Columns:** \n",
    "    - **Adding a new column:**"
   ]
  },
  {
   "cell_type": "code",
   "execution_count": 37,
   "id": "171d11d2",
   "metadata": {},
   "outputs": [
    {
     "name": "stdout",
     "output_type": "stream",
     "text": [
      "    A  B  C\n",
      "0  10  4  7\n",
      "1   2  5  8\n",
      "2   3  6  9\n"
     ]
    }
   ],
   "source": [
    "df['C'] = [7, 8, 9]\n",
    "print(df)"
   ]
  },
  {
   "cell_type": "markdown",
   "id": "f00131f3",
   "metadata": {},
   "source": [
    "   - **Removing a column:**"
   ]
  },
  {
   "cell_type": "code",
   "execution_count": 38,
   "id": "31af2ee1",
   "metadata": {},
   "outputs": [
    {
     "name": "stdout",
     "output_type": "stream",
     "text": [
      "    A  B\n",
      "0  10  4\n",
      "1   2  5\n",
      "2   3  6\n"
     ]
    }
   ],
   "source": [
    "df.drop('C', axis=1, inplace=True)\n",
    "print(df)"
   ]
  },
  {
   "cell_type": "markdown",
   "id": "41df67df",
   "metadata": {},
   "source": [
    "- **Filtering Rows:**\n",
    "    - **Filtering based on conditions:**"
   ]
  },
  {
   "cell_type": "code",
   "execution_count": 39,
   "id": "a6ddfbb9",
   "metadata": {},
   "outputs": [],
   "source": [
    "filtered_df = df[df['A'] > 1]"
   ]
  },
  {
   "cell_type": "markdown",
   "id": "99f5465a",
   "metadata": {},
   "source": [
    "- **Sorting Data:**\n",
    "    - **Sorting by column values:**"
   ]
  },
  {
   "cell_type": "code",
   "execution_count": 43,
   "id": "35811080",
   "metadata": {},
   "outputs": [
    {
     "data": {
      "text/html": [
       "<div>\n",
       "<style scoped>\n",
       "    .dataframe tbody tr th:only-of-type {\n",
       "        vertical-align: middle;\n",
       "    }\n",
       "\n",
       "    .dataframe tbody tr th {\n",
       "        vertical-align: top;\n",
       "    }\n",
       "\n",
       "    .dataframe thead th {\n",
       "        text-align: right;\n",
       "    }\n",
       "</style>\n",
       "<table border=\"1\" class=\"dataframe\">\n",
       "  <thead>\n",
       "    <tr style=\"text-align: right;\">\n",
       "      <th></th>\n",
       "      <th>A</th>\n",
       "      <th>B</th>\n",
       "    </tr>\n",
       "  </thead>\n",
       "  <tbody>\n",
       "    <tr>\n",
       "      <th>1</th>\n",
       "      <td>2</td>\n",
       "      <td>5</td>\n",
       "    </tr>\n",
       "    <tr>\n",
       "      <th>2</th>\n",
       "      <td>3</td>\n",
       "      <td>6</td>\n",
       "    </tr>\n",
       "    <tr>\n",
       "      <th>0</th>\n",
       "      <td>10</td>\n",
       "      <td>4</td>\n",
       "    </tr>\n",
       "  </tbody>\n",
       "</table>\n",
       "</div>"
      ],
      "text/plain": [
       "    A  B\n",
       "1   2  5\n",
       "2   3  6\n",
       "0  10  4"
      ]
     },
     "execution_count": 43,
     "metadata": {},
     "output_type": "execute_result"
    }
   ],
   "source": [
    "df.sort_values(by='A', ascending=True)"
   ]
  },
  {
   "cell_type": "markdown",
   "id": "0fc9e86c",
   "metadata": {},
   "source": [
    "- **Sorting by index:**"
   ]
  },
  {
   "cell_type": "code",
   "execution_count": 44,
   "id": "97f778d3",
   "metadata": {},
   "outputs": [
    {
     "data": {
      "text/html": [
       "<div>\n",
       "<style scoped>\n",
       "    .dataframe tbody tr th:only-of-type {\n",
       "        vertical-align: middle;\n",
       "    }\n",
       "\n",
       "    .dataframe tbody tr th {\n",
       "        vertical-align: top;\n",
       "    }\n",
       "\n",
       "    .dataframe thead th {\n",
       "        text-align: right;\n",
       "    }\n",
       "</style>\n",
       "<table border=\"1\" class=\"dataframe\">\n",
       "  <thead>\n",
       "    <tr style=\"text-align: right;\">\n",
       "      <th></th>\n",
       "      <th>A</th>\n",
       "      <th>B</th>\n",
       "    </tr>\n",
       "  </thead>\n",
       "  <tbody>\n",
       "    <tr>\n",
       "      <th>0</th>\n",
       "      <td>10</td>\n",
       "      <td>4</td>\n",
       "    </tr>\n",
       "    <tr>\n",
       "      <th>1</th>\n",
       "      <td>2</td>\n",
       "      <td>5</td>\n",
       "    </tr>\n",
       "    <tr>\n",
       "      <th>2</th>\n",
       "      <td>3</td>\n",
       "      <td>6</td>\n",
       "    </tr>\n",
       "  </tbody>\n",
       "</table>\n",
       "</div>"
      ],
      "text/plain": [
       "    A  B\n",
       "0  10  4\n",
       "1   2  5\n",
       "2   3  6"
      ]
     },
     "execution_count": 44,
     "metadata": {},
     "output_type": "execute_result"
    }
   ],
   "source": [
    "df.sort_index()"
   ]
  },
  {
   "cell_type": "markdown",
   "id": "f1b1db51",
   "metadata": {},
   "source": [
    "- **Descriptive Statistics:**\n",
    "    - **Summary statistics for DataFrame:**"
   ]
  },
  {
   "cell_type": "code",
   "execution_count": 45,
   "id": "cf0e9241",
   "metadata": {},
   "outputs": [
    {
     "data": {
      "text/html": [
       "<div>\n",
       "<style scoped>\n",
       "    .dataframe tbody tr th:only-of-type {\n",
       "        vertical-align: middle;\n",
       "    }\n",
       "\n",
       "    .dataframe tbody tr th {\n",
       "        vertical-align: top;\n",
       "    }\n",
       "\n",
       "    .dataframe thead th {\n",
       "        text-align: right;\n",
       "    }\n",
       "</style>\n",
       "<table border=\"1\" class=\"dataframe\">\n",
       "  <thead>\n",
       "    <tr style=\"text-align: right;\">\n",
       "      <th></th>\n",
       "      <th>A</th>\n",
       "      <th>B</th>\n",
       "    </tr>\n",
       "  </thead>\n",
       "  <tbody>\n",
       "    <tr>\n",
       "      <th>count</th>\n",
       "      <td>3.000000</td>\n",
       "      <td>3.0</td>\n",
       "    </tr>\n",
       "    <tr>\n",
       "      <th>mean</th>\n",
       "      <td>5.000000</td>\n",
       "      <td>5.0</td>\n",
       "    </tr>\n",
       "    <tr>\n",
       "      <th>std</th>\n",
       "      <td>4.358899</td>\n",
       "      <td>1.0</td>\n",
       "    </tr>\n",
       "    <tr>\n",
       "      <th>min</th>\n",
       "      <td>2.000000</td>\n",
       "      <td>4.0</td>\n",
       "    </tr>\n",
       "    <tr>\n",
       "      <th>25%</th>\n",
       "      <td>2.500000</td>\n",
       "      <td>4.5</td>\n",
       "    </tr>\n",
       "    <tr>\n",
       "      <th>50%</th>\n",
       "      <td>3.000000</td>\n",
       "      <td>5.0</td>\n",
       "    </tr>\n",
       "    <tr>\n",
       "      <th>75%</th>\n",
       "      <td>6.500000</td>\n",
       "      <td>5.5</td>\n",
       "    </tr>\n",
       "    <tr>\n",
       "      <th>max</th>\n",
       "      <td>10.000000</td>\n",
       "      <td>6.0</td>\n",
       "    </tr>\n",
       "  </tbody>\n",
       "</table>\n",
       "</div>"
      ],
      "text/plain": [
       "               A    B\n",
       "count   3.000000  3.0\n",
       "mean    5.000000  5.0\n",
       "std     4.358899  1.0\n",
       "min     2.000000  4.0\n",
       "25%     2.500000  4.5\n",
       "50%     3.000000  5.0\n",
       "75%     6.500000  5.5\n",
       "max    10.000000  6.0"
      ]
     },
     "execution_count": 45,
     "metadata": {},
     "output_type": "execute_result"
    }
   ],
   "source": [
    "df.describe()"
   ]
  },
  {
   "cell_type": "markdown",
   "id": "e7512dad",
   "metadata": {},
   "source": [
    "**Data Cleaning and Preparation**\n",
    "- **Handling Missing Data:**\n",
    "    - **Detecting missing values:**"
   ]
  },
  {
   "cell_type": "code",
   "execution_count": 61,
   "id": "22cb4390",
   "metadata": {},
   "outputs": [
    {
     "data": {
      "text/html": [
       "<div>\n",
       "<style scoped>\n",
       "    .dataframe tbody tr th:only-of-type {\n",
       "        vertical-align: middle;\n",
       "    }\n",
       "\n",
       "    .dataframe tbody tr th {\n",
       "        vertical-align: top;\n",
       "    }\n",
       "\n",
       "    .dataframe thead th {\n",
       "        text-align: right;\n",
       "    }\n",
       "</style>\n",
       "<table border=\"1\" class=\"dataframe\">\n",
       "  <thead>\n",
       "    <tr style=\"text-align: right;\">\n",
       "      <th></th>\n",
       "      <th>A</th>\n",
       "      <th>B</th>\n",
       "    </tr>\n",
       "  </thead>\n",
       "  <tbody>\n",
       "    <tr>\n",
       "      <th>0</th>\n",
       "      <td>False</td>\n",
       "      <td>False</td>\n",
       "    </tr>\n",
       "    <tr>\n",
       "      <th>1</th>\n",
       "      <td>True</td>\n",
       "      <td>False</td>\n",
       "    </tr>\n",
       "    <tr>\n",
       "      <th>2</th>\n",
       "      <td>False</td>\n",
       "      <td>True</td>\n",
       "    </tr>\n",
       "  </tbody>\n",
       "</table>\n",
       "</div>"
      ],
      "text/plain": [
       "       A      B\n",
       "0  False  False\n",
       "1   True  False\n",
       "2  False   True"
      ]
     },
     "execution_count": 61,
     "metadata": {},
     "output_type": "execute_result"
    }
   ],
   "source": [
    "import pandas as pd\n",
    "import numpy as np\n",
    "\n",
    "# Create a DataFrame\n",
    "data = {'A': [1, 2, 3], 'B': [4, 5, 6]}\n",
    "df = pd.DataFrame(data)\n",
    "\n",
    "# Add NaN values\n",
    "df.loc[1, 'A'] = np.nan  # Set a specific value to NaN\n",
    "df.loc[2, 'B'] = np.nan \n",
    "\n",
    "df.isnull()"
   ]
  },
  {
   "cell_type": "markdown",
   "id": "b79abb64",
   "metadata": {},
   "source": [
    "- **Dropping missing values:**"
   ]
  },
  {
   "cell_type": "code",
   "execution_count": 51,
   "id": "3a392a2a",
   "metadata": {},
   "outputs": [
    {
     "data": {
      "text/html": [
       "<div>\n",
       "<style scoped>\n",
       "    .dataframe tbody tr th:only-of-type {\n",
       "        vertical-align: middle;\n",
       "    }\n",
       "\n",
       "    .dataframe tbody tr th {\n",
       "        vertical-align: top;\n",
       "    }\n",
       "\n",
       "    .dataframe thead th {\n",
       "        text-align: right;\n",
       "    }\n",
       "</style>\n",
       "<table border=\"1\" class=\"dataframe\">\n",
       "  <thead>\n",
       "    <tr style=\"text-align: right;\">\n",
       "      <th></th>\n",
       "      <th>A</th>\n",
       "      <th>B</th>\n",
       "    </tr>\n",
       "  </thead>\n",
       "  <tbody>\n",
       "    <tr>\n",
       "      <th>0</th>\n",
       "      <td>1.0</td>\n",
       "      <td>4.0</td>\n",
       "    </tr>\n",
       "  </tbody>\n",
       "</table>\n",
       "</div>"
      ],
      "text/plain": [
       "     A    B\n",
       "0  1.0  4.0"
      ]
     },
     "execution_count": 51,
     "metadata": {},
     "output_type": "execute_result"
    }
   ],
   "source": [
    "df.dropna()"
   ]
  },
  {
   "cell_type": "markdown",
   "id": "a9f80c92",
   "metadata": {},
   "source": [
    "- **Filling missing values:**"
   ]
  },
  {
   "cell_type": "code",
   "execution_count": 58,
   "id": "831ea45c",
   "metadata": {},
   "outputs": [
    {
     "data": {
      "text/html": [
       "<div>\n",
       "<style scoped>\n",
       "    .dataframe tbody tr th:only-of-type {\n",
       "        vertical-align: middle;\n",
       "    }\n",
       "\n",
       "    .dataframe tbody tr th {\n",
       "        vertical-align: top;\n",
       "    }\n",
       "\n",
       "    .dataframe thead th {\n",
       "        text-align: right;\n",
       "    }\n",
       "</style>\n",
       "<table border=\"1\" class=\"dataframe\">\n",
       "  <thead>\n",
       "    <tr style=\"text-align: right;\">\n",
       "      <th></th>\n",
       "      <th>A</th>\n",
       "      <th>B</th>\n",
       "    </tr>\n",
       "  </thead>\n",
       "  <tbody>\n",
       "    <tr>\n",
       "      <th>0</th>\n",
       "      <td>1.0</td>\n",
       "      <td>4.0</td>\n",
       "    </tr>\n",
       "    <tr>\n",
       "      <th>1</th>\n",
       "      <td>0.0</td>\n",
       "      <td>5.0</td>\n",
       "    </tr>\n",
       "    <tr>\n",
       "      <th>2</th>\n",
       "      <td>3.0</td>\n",
       "      <td>0.0</td>\n",
       "    </tr>\n",
       "  </tbody>\n",
       "</table>\n",
       "</div>"
      ],
      "text/plain": [
       "     A    B\n",
       "0  1.0  4.0\n",
       "1  0.0  5.0\n",
       "2  3.0  0.0"
      ]
     },
     "execution_count": 58,
     "metadata": {},
     "output_type": "execute_result"
    }
   ],
   "source": [
    "df.fillna(value=0)"
   ]
  },
  {
   "cell_type": "markdown",
   "id": "e509ae03",
   "metadata": {},
   "source": [
    "**Data Transformation:** \n",
    "- **Renaming columns:**"
   ]
  },
  {
   "cell_type": "code",
   "execution_count": 62,
   "id": "163a3c1a",
   "metadata": {},
   "outputs": [
    {
     "name": "stdout",
     "output_type": "stream",
     "text": [
      "   Column_A    B\n",
      "0       1.0  4.0\n",
      "1       NaN  5.0\n",
      "2       3.0  NaN\n"
     ]
    }
   ],
   "source": [
    "df.rename(columns={'A': 'Column_A'}, inplace=True)\n",
    "print(df)"
   ]
  },
  {
   "cell_type": "markdown",
   "id": "6a20fce7",
   "metadata": {},
   "source": [
    "• **Changing data types:**"
   ]
  },
  {
   "cell_type": "code",
   "execution_count": 64,
   "id": "7e5dfd85",
   "metadata": {},
   "outputs": [
    {
     "data": {
      "text/html": [
       "<div>\n",
       "<style scoped>\n",
       "    .dataframe tbody tr th:only-of-type {\n",
       "        vertical-align: middle;\n",
       "    }\n",
       "\n",
       "    .dataframe tbody tr th {\n",
       "        vertical-align: top;\n",
       "    }\n",
       "\n",
       "    .dataframe thead th {\n",
       "        text-align: right;\n",
       "    }\n",
       "</style>\n",
       "<table border=\"1\" class=\"dataframe\">\n",
       "  <thead>\n",
       "    <tr style=\"text-align: right;\">\n",
       "      <th></th>\n",
       "      <th>A</th>\n",
       "      <th>B</th>\n",
       "    </tr>\n",
       "  </thead>\n",
       "  <tbody>\n",
       "    <tr>\n",
       "      <th>0</th>\n",
       "      <td>1</td>\n",
       "      <td>4.0</td>\n",
       "    </tr>\n",
       "    <tr>\n",
       "      <th>1</th>\n",
       "      <td>2</td>\n",
       "      <td>5.0</td>\n",
       "    </tr>\n",
       "    <tr>\n",
       "      <th>2</th>\n",
       "      <td>3</td>\n",
       "      <td>6.0</td>\n",
       "    </tr>\n",
       "  </tbody>\n",
       "</table>\n",
       "</div>"
      ],
      "text/plain": [
       "   A    B\n",
       "0  1  4.0\n",
       "1  2  5.0\n",
       "2  3  6.0"
      ]
     },
     "execution_count": 64,
     "metadata": {},
     "output_type": "execute_result"
    }
   ],
   "source": [
    "data = {'A': [1, 2, 3], 'B': [4, 5, 6]}\n",
    "df = pd.DataFrame(data)\n",
    "\n",
    "df['B'] = df['B'].astype(float)\n",
    "df"
   ]
  },
  {
   "cell_type": "markdown",
   "id": "954389ef",
   "metadata": {},
   "source": [
    "**Combining and Merging DataFrames:**\n",
    "- **Concatenating DataFrames:**"
   ]
  },
  {
   "cell_type": "code",
   "execution_count": 71,
   "id": "526bbdf4",
   "metadata": {},
   "outputs": [
    {
     "name": "stdout",
     "output_type": "stream",
     "text": [
      "   A  B  C   D\n",
      "0  1  4  7  10\n",
      "1  2  5  8  11\n",
      "2  3  6  9  12\n"
     ]
    }
   ],
   "source": [
    "#Concatenating on columns\n",
    "\n",
    "data1 = {'A': [1, 2, 3], 'B': [4, 5, 6]}\n",
    "data2 = {'C': [7, 8, 9], 'D': [10, 11, 12]}\n",
    "df1 = pd.DataFrame(data1)\n",
    "df2 = pd.DataFrame(data2)\n",
    "\n",
    "result = pd.concat([df1, df2], axis=1)\n",
    "print(result)"
   ]
  },
  {
   "cell_type": "code",
   "execution_count": 74,
   "id": "a551ba92",
   "metadata": {},
   "outputs": [
    {
     "name": "stdout",
     "output_type": "stream",
     "text": [
      "     A  B\n",
      "0  1.0  3\n",
      "1  2.0  4\n",
      "2  NaN  5\n"
     ]
    }
   ],
   "source": [
    "#Handling different number of rows\n",
    "\n",
    "df1 = pd.DataFrame({'A': [1, 2]})\n",
    "df2 = pd.DataFrame({'B': [3, 4, 5]})\n",
    "\n",
    "result = pd.concat([df1, df2], axis=1)\n",
    "print(result)"
   ]
  },
  {
   "cell_type": "code",
   "execution_count": 78,
   "id": "69c18b1c",
   "metadata": {},
   "outputs": [
    {
     "name": "stdout",
     "output_type": "stream",
     "text": [
      "     A  B\n",
      "0  1.0  3\n",
      "1  2.0  4\n"
     ]
    }
   ],
   "source": [
    "# Resetting the index for alignment\n",
    "df1 = pd.DataFrame({'A': [1, 2]})\n",
    "df2 = pd.DataFrame({'B': [3, 4, 5]})\n",
    "\n",
    "result = pd.concat([df1.reset_index(drop=True), df2.reset_index(drop=True)], axis=1).dropna()\n",
    "print(result)"
   ]
  },
  {
   "cell_type": "code",
   "execution_count": 77,
   "id": "4e2393b5",
   "metadata": {},
   "outputs": [
    {
     "name": "stdout",
     "output_type": "stream",
     "text": [
      "   A  A\n",
      "0  1  3\n",
      "1  2  4\n"
     ]
    }
   ],
   "source": [
    "#Concatenatinng with duplicate column names\n",
    "df1 = pd.DataFrame({'A': [1, 2]})\n",
    "df2 = pd.DataFrame({'A': [3, 4]})\n",
    "\n",
    "result = pd.concat([df1, df2], axis=1)\n",
    "print(result)"
   ]
  },
  {
   "cell_type": "code",
   "execution_count": 69,
   "id": "c537ff64",
   "metadata": {},
   "outputs": [
    {
     "name": "stdout",
     "output_type": "stream",
     "text": [
      "   A  B\n",
      "0  1  3\n",
      "1  2  4\n",
      "2  5  7\n",
      "3  6  8\n"
     ]
    }
   ],
   "source": [
    "#Concatenating on rows\n",
    "\n",
    "import pandas as pd\n",
    "\n",
    "df1 = pd.DataFrame({'A': [1, 2], 'B': [3, 4]})\n",
    "df2 = pd.DataFrame({'A': [5, 6], 'B': [7, 8]})\n",
    "\n",
    "# Concatenate along rows\n",
    "result = pd.concat([df1, df2], axis=0, ignore_index=True) #axis 0 stacks the dataframes vertically (on rows)\n",
    "print(result)"
   ]
  },
  {
   "cell_type": "code",
   "execution_count": 70,
   "id": "54a924d2",
   "metadata": {},
   "outputs": [
    {
     "name": "stdout",
     "output_type": "stream",
     "text": [
      "    A    B     C\n",
      "0   1  3.0   NaN\n",
      "1   2  4.0   NaN\n",
      "2   9  NaN  11.0\n",
      "3  10  NaN  12.0\n"
     ]
    }
   ],
   "source": [
    "#Concatenating with unequal columns\n",
    "\n",
    "df3 = pd.DataFrame({'A': [9, 10], 'C': [11, 12]})\n",
    "result = pd.concat([df1, df3], axis=0, ignore_index=True)\n",
    "print(result)"
   ]
  },
  {
   "cell_type": "markdown",
   "id": "a67b91a5",
   "metadata": {},
   "source": [
    "• **Merging DataFrames:**\n",
    "In Pandas, merging DataFrames is used to combine them based on a key or index. The merge() function is the most versatile method for this.\n",
    "\n",
    "**Key Parameters of pd.merge()**\n",
    "1) **on:**\n",
    "- Specifies the column(s) to merge on. If not specified, it uses the overlapping column names.\n",
    "2) **how:**\n",
    "- Determines the type of merge:\n",
    "    - 'inner' (default): Keeps only matching rows in both DataFrames.\n",
    "    - 'left': Keeps all rows from the left DataFrame and matching rows from the right.\n",
    "    - 'right': Keeps all rows from the right DataFrame and matching rows from the left.\n",
    "    - 'outer': Keeps all rows from both DataFrames, filling NaN where there's no match."
   ]
  },
  {
   "cell_type": "code",
   "execution_count": 81,
   "id": "84f3d9f5",
   "metadata": {},
   "outputs": [],
   "source": [
    "#Example dataframes\n",
    "\n",
    "import pandas as pd\n",
    "\n",
    "# Define two DataFrames\n",
    "df1 = pd.DataFrame({\n",
    "    'id': [1, 2, 3],\n",
    "    'name': ['Alice', 'Bob', 'Charlie'],\n",
    "    'age': [25, 30, 35]\n",
    "})\n",
    "\n",
    "df2 = pd.DataFrame({\n",
    "    'id': [2, 3, 4],\n",
    "    'department': ['HR', 'Engineering', 'Marketing']\n",
    "})"
   ]
  },
  {
   "cell_type": "code",
   "execution_count": 80,
   "id": "7db68f82",
   "metadata": {},
   "outputs": [
    {
     "name": "stdout",
     "output_type": "stream",
     "text": [
      "   id     name  age   department\n",
      "0   2      Bob   30           HR\n",
      "1   3  Charlie   35  Engineering\n"
     ]
    }
   ],
   "source": [
    "#Inner join (Default) - keeps only rows with matching id values in both DataFrames\n",
    "\n",
    "result = pd.merge(df1, df2, on='id', how='inner')\n",
    "print(result)"
   ]
  },
  {
   "cell_type": "code",
   "execution_count": 83,
   "id": "bf829060",
   "metadata": {},
   "outputs": [
    {
     "name": "stdout",
     "output_type": "stream",
     "text": [
      "   id     name  age   department\n",
      "0   1    Alice   25          NaN\n",
      "1   2      Bob   30           HR\n",
      "2   3  Charlie   35  Engineering\n"
     ]
    }
   ],
   "source": [
    "# Left join - keeps all rows from the left DatFrame (df1) and adds matching rows from the right DataFrame (df2)\n",
    "\n",
    "result = pd.merge(df1, df2, on='id', how='left')\n",
    "print(result)"
   ]
  },
  {
   "cell_type": "code",
   "execution_count": 84,
   "id": "e5861df6",
   "metadata": {},
   "outputs": [
    {
     "name": "stdout",
     "output_type": "stream",
     "text": [
      "   id     name   age   department\n",
      "0   2      Bob  30.0           HR\n",
      "1   3  Charlie  35.0  Engineering\n",
      "2   4      NaN   NaN    Marketing\n"
     ]
    }
   ],
   "source": [
    "# Right Join - Keeps all rows from the right DataFrame (df2) and adds matching rows from the left DataFrame (df1).\n",
    "\n",
    "result = pd.merge(df1, df2, on='id', how='right')\n",
    "print(result)"
   ]
  },
  {
   "cell_type": "code",
   "execution_count": 85,
   "id": "835cf85e",
   "metadata": {},
   "outputs": [
    {
     "name": "stdout",
     "output_type": "stream",
     "text": [
      "   id     name   age   department\n",
      "0   1    Alice  25.0          NaN\n",
      "1   2      Bob  30.0           HR\n",
      "2   3  Charlie  35.0  Engineering\n",
      "3   4      NaN   NaN    Marketing\n"
     ]
    }
   ],
   "source": [
    "# Outer Join - Keeps all rows from both DataFrames, filling NaN where there's no match.\n",
    "\n",
    "result = pd.merge(df1, df2, on='id', how='outer')\n",
    "print(result)"
   ]
  },
  {
   "cell_type": "code",
   "execution_count": 86,
   "id": "06f1319c",
   "metadata": {},
   "outputs": [
    {
     "name": "stdout",
     "output_type": "stream",
     "text": [
      "   id   name_x   department   name_y\n",
      "0   2      Bob           HR      Bob\n",
      "1   3  Charlie  Engineering  Charlie\n"
     ]
    }
   ],
   "source": [
    "# Merging on Multiple Columns - If both DataFrames have multiple columns to match, specify them in on:\n",
    "\n",
    "df3 = pd.DataFrame({\n",
    "    'id': [1, 2, 3],\n",
    "    'name': ['Alice', 'Bob', 'Charlie'],\n",
    "    'department': ['HR', 'HR', 'Engineering']\n",
    "})\n",
    "\n",
    "df4 = pd.DataFrame({\n",
    "    'id': [2, 3, 4],\n",
    "    'name': ['Bob', 'Charlie', 'David'],\n",
    "    'department': ['HR', 'Engineering', 'Marketing']\n",
    "})\n",
    "\n",
    "result = pd.merge(df3, df4, on=['id', 'department'], how='inner')\n",
    "print(result)"
   ]
  }
 ],
 "metadata": {
  "kernelspec": {
   "display_name": "Python 3 (ipykernel)",
   "language": "python",
   "name": "python3"
  },
  "language_info": {
   "codemirror_mode": {
    "name": "ipython",
    "version": 3
   },
   "file_extension": ".py",
   "mimetype": "text/x-python",
   "name": "python",
   "nbconvert_exporter": "python",
   "pygments_lexer": "ipython3",
   "version": "3.11.5"
  }
 },
 "nbformat": 4,
 "nbformat_minor": 5
}
