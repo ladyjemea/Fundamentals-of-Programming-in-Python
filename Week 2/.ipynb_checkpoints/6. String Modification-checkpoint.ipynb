{
 "cells": [
  {
   "cell_type": "markdown",
   "id": "75c40957",
   "metadata": {},
   "source": [
    "<img src=\"LaeCodes.png\" \n",
    "     align=\"center\" \n",
    "     width=\"100\" />"
   ]
  },
  {
   "cell_type": "markdown",
   "id": "9a105723",
   "metadata": {},
   "source": [
    "# String Modification\n",
    "Although strings in Python are immutable (cannot be changed after creation), you can create new strings by altering or modifying existing strings.\n",
    "\n",
    "### String Concatenation\n",
    "Concatenation is the process of combining two or more strings into a single string. You can use the + operator or the += operator.\n",
    "\n",
    "**Using the + Operator:**"
   ]
  },
  {
   "cell_type": "code",
   "execution_count": 1,
   "id": "09069f9a",
   "metadata": {},
   "outputs": [
    {
     "name": "stdout",
     "output_type": "stream",
     "text": [
      "Hello world\n"
     ]
    }
   ],
   "source": [
    "str1 = \"Hello\"\n",
    "str2 = \"world\"\n",
    "final_str = str1 + \" \" + str2\n",
    "print(final_str)  # Output: Hello world"
   ]
  },
  {
   "cell_type": "markdown",
   "id": "854bc624",
   "metadata": {},
   "source": [
    "**Using the += Operator:**"
   ]
  },
  {
   "cell_type": "code",
   "execution_count": 2,
   "id": "16e1d47b",
   "metadata": {},
   "outputs": [
    {
     "name": "stdout",
     "output_type": "stream",
     "text": [
      "Hello world\n"
     ]
    }
   ],
   "source": [
    "str1 = \"Hello\"\n",
    "str2 = \"world\"\n",
    "str1 += \" \" + str2\n",
    "print(str1)  # Output: Hello world"
   ]
  },
  {
   "cell_type": "markdown",
   "id": "18e10d82",
   "metadata": {},
   "source": [
    "Adding a space can be done by including \" \" between the strings being concatenated.\n",
    "\n",
    "### Indexing and Slicing Strings\n",
    "Since strings are ordered sequences, each character has a specific position or index.\n",
    "\n",
    "**Indexing:** <br>\n",
    "You can access individual characters in a string using their index. Python uses **0-based** indexing, so the first character has an index of 0."
   ]
  },
  {
   "cell_type": "code",
   "execution_count": 3,
   "id": "e2f8b721",
   "metadata": {},
   "outputs": [
    {
     "name": "stdout",
     "output_type": "stream",
     "text": [
      "o\n"
     ]
    }
   ],
   "source": [
    "my_string = \"Hello, World!\"\n",
    "print(my_string[4])   # Output: o (the character at index 4)"
   ]
  },
  {
   "cell_type": "markdown",
   "id": "295a3152",
   "metadata": {},
   "source": [
    "**Negative Indexing:** <br>\n",
    "Negative indexing starts from the end of the string, with **-1** being the last character."
   ]
  },
  {
   "cell_type": "code",
   "execution_count": 4,
   "id": "6bbd18c5",
   "metadata": {},
   "outputs": [
    {
     "name": "stdout",
     "output_type": "stream",
     "text": [
      "!\n",
      "o\n"
     ]
    }
   ],
   "source": [
    "my_string = \"Hello, World!\"\n",
    "print(my_string[-1])  # Output: !\n",
    "print(my_string[-5])  # Output: W"
   ]
  },
  {
   "cell_type": "markdown",
   "id": "27a7c6be",
   "metadata": {},
   "source": [
    "**Slicing:** <br>\n",
    "Slicing allows you to extract a portion (substring) of a string by specifying a start and stop index using the slice syntax."
   ]
  },
  {
   "cell_type": "code",
   "execution_count": 2,
   "id": "cb1ac505",
   "metadata": {},
   "outputs": [
    {
     "name": "stdout",
     "output_type": "stream",
     "text": [
      "World\n"
     ]
    }
   ],
   "source": [
    "my_string = \"Hello, World!\"\n",
    "substring = my_string[7:12]\n",
    "print(substring)  # Output: World"
   ]
  },
  {
   "cell_type": "markdown",
   "id": "315d6d37",
   "metadata": {},
   "source": [
    "**Slicing with Steps:** <br>\n",
    "You can also specify a step, which is the interval between characters."
   ]
  },
  {
   "cell_type": "code",
   "execution_count": 6,
   "id": "5941efbe",
   "metadata": {},
   "outputs": [
    {
     "name": "stdout",
     "output_type": "stream",
     "text": [
      "lo ol\n"
     ]
    }
   ],
   "source": [
    "my_string = \"Hello, World!\"\n",
    "substring = my_string[2:12:2]  # Steps every second character\n",
    "print(substring)  # Output: lo ol"
   ]
  },
  {
   "cell_type": "markdown",
   "id": "b6beed68",
   "metadata": {},
   "source": [
    "**Slicing Shortcuts:** <br>\n",
    "\n",
    "- Omit the start index to slice from the beginning of the string."
   ]
  },
  {
   "cell_type": "code",
   "execution_count": 7,
   "id": "e67b343e",
   "metadata": {},
   "outputs": [
    {
     "name": "stdout",
     "output_type": "stream",
     "text": [
      "Hello\n"
     ]
    }
   ],
   "source": [
    "print(my_string[:5])  # Output: Hello"
   ]
  },
  {
   "cell_type": "markdown",
   "id": "825fb8a2",
   "metadata": {},
   "source": [
    "- Omit the stop index to slice until the end of the string."
   ]
  },
  {
   "cell_type": "code",
   "execution_count": 4,
   "id": "1c6bcadc",
   "metadata": {},
   "outputs": [
    {
     "name": "stdout",
     "output_type": "stream",
     "text": [
      "World!\n"
     ]
    }
   ],
   "source": [
    "print(my_string[7:])  # Output: World!"
   ]
  },
  {
   "cell_type": "markdown",
   "id": "86bbae43",
   "metadata": {},
   "source": [
    "- Omit both the start and stop indices to return the entire string."
   ]
  },
  {
   "cell_type": "code",
   "execution_count": 5,
   "id": "3ded479e",
   "metadata": {},
   "outputs": [
    {
     "name": "stdout",
     "output_type": "stream",
     "text": [
      "Hl r!\n"
     ]
    }
   ],
   "source": [
    "print(my_string[:])  # Output: Hello, World!"
   ]
  },
  {
   "cell_type": "markdown",
   "id": "da1f4f68",
   "metadata": {},
   "source": [
    "- Use slicing with a negative index:"
   ]
  },
  {
   "cell_type": "code",
   "execution_count": 10,
   "id": "8615c9cc",
   "metadata": {},
   "outputs": [
    {
     "name": "stdout",
     "output_type": "stream",
     "text": [
      "Worl\n"
     ]
    }
   ],
   "source": [
    "print(my_string[-6:-2])  # Outputs: Worl"
   ]
  }
 ],
 "metadata": {
  "kernelspec": {
   "display_name": "Python 3 (ipykernel)",
   "language": "python",
   "name": "python3"
  },
  "language_info": {
   "codemirror_mode": {
    "name": "ipython",
    "version": 3
   },
   "file_extension": ".py",
   "mimetype": "text/x-python",
   "name": "python",
   "nbconvert_exporter": "python",
   "pygments_lexer": "ipython3",
   "version": "3.11.5"
  }
 },
 "nbformat": 4,
 "nbformat_minor": 5
}
