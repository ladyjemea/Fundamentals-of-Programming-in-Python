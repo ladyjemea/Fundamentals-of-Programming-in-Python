{
 "cells": [
  {
   "cell_type": "markdown",
   "id": "625ce5f3",
   "metadata": {},
   "source": [
    "<img src=\"LaeCodes.png\" \n",
    "     align=\"center\" \n",
    "     width=\"100\" />"
   ]
  },
  {
   "attachments": {
    "image.png": {
     "image/png": "[encoded data removed]"
    }
   },
   "cell_type": "markdown",
   "id": "161d21b5",
   "metadata": {},
   "source": [
    "# While Loops in Python\n",
    "\n",
    "A while loop in Python is a control flow statement that repeatedly executes a block of code as long as a specified condition remains True. While loops are used when you don't know beforehand how many iterations you will need, in contrast to for loops where the number of iterations is often determined by the length of a sequence.\n",
    "\n",
    "### Structure of a While Loop\n",
    "The structure of a while loop is as follows:\n",
    "\n",
    "![image.png](attachment:image.png)\n",
    "\n",
    "- while is the Python keyword used for while loops.\n",
    "- Condition is a Boolean expression that is checked before each iteration. The loop continues to execute as long as the condition evaluates to True.\n",
    "- Statement(s) is the block of code to be executed in each iteration.\n",
    "\n",
    "**Key Point:** <br>\n",
    "It’s essential to ensure the condition eventually becomes False, otherwise you may create an infinite loop where the program runs indefinitely.\n",
    "\n",
    "**Basic Example:**"
   ]
  },
  {
   "cell_type": "code",
   "execution_count": 2,
   "id": "92e370eb",
   "metadata": {},
   "outputs": [
    {
     "name": "stdout",
     "output_type": "stream",
     "text": [
      "1\n",
      "2\n",
      "3\n"
     ]
    }
   ],
   "source": [
    "number = 1 \n",
    "\n",
    "while number <= 3: \n",
    "    print(number)\n",
    "    number += 1  "
   ]
  },
  {
   "cell_type": "markdown",
   "id": "92c12d38",
   "metadata": {},
   "source": [
    "**Explanation:**\n",
    "\n",
    "- The variable number starts at 1.\n",
    "- The loop continues as long as number is less than or equal to 3.\n",
    "- In each iteration, number is incremented by 1.\n",
    "- Once number exceeds 3, the condition becomes False, and the loop exits.\n",
    "\n",
    "### The break Statement in While Loops\n",
    "The break statement is used to terminate the loop immediately, even if the loop’s condition is still True. This is especially useful for breaking out of potentially infinite loops.\n",
    "\n",
    "**Example with break:**"
   ]
  },
  {
   "cell_type": "code",
   "execution_count": 3,
   "id": "18e9a8fc",
   "metadata": {},
   "outputs": [
    {
     "name": "stdout",
     "output_type": "stream",
     "text": [
      "1\n",
      "2\n",
      "3\n"
     ]
    }
   ],
   "source": [
    "number = 1\n",
    "\n",
    "while True:  # Infinite loop\n",
    "    if number > 3:\n",
    "        break  # Exit the loop when number exceeds 3\n",
    "    print(number)\n",
    "    number += 1"
   ]
  },
  {
   "cell_type": "markdown",
   "id": "15443e53",
   "metadata": {},
   "source": [
    "**Explanation:**\n",
    "\n",
    "- The while True creates an infinite loop.\n",
    "- The loop will break when number becomes greater than 3.\n",
    "- Without the break statement, the loop would run indefinitely."
   ]
  },
  {
   "cell_type": "markdown",
   "id": "d6d59884",
   "metadata": {},
   "source": [
    "### The continue Statement in While Loops\n",
    "The continue statement is used to skip the current iteration and move to the next one. It stops the execution of the rest of the code inside the loop for the current iteration.\n",
    "\n",
    "**Example with continue:**"
   ]
  },
  {
   "cell_type": "code",
   "execution_count": 4,
   "id": "0964f76f",
   "metadata": {},
   "outputs": [
    {
     "name": "stdout",
     "output_type": "stream",
     "text": [
      "1\n",
      "2\n",
      "4\n",
      "5\n",
      "6\n"
     ]
    }
   ],
   "source": [
    "number = 0\n",
    "while number < 6:\n",
    "    number += 1\n",
    "    if number == 3:\n",
    "        continue  # Skip printing when number is 3\n",
    "    print(number)"
   ]
  },
  {
   "cell_type": "markdown",
   "id": "4f811de5",
   "metadata": {},
   "source": [
    "**Explanation:**\n",
    "\n",
    "- The loop increments number from 0 to 6.\n",
    "- When number equals 3, the continue statement is triggered, skipping the print statement for that iteration."
   ]
  },
  {
   "cell_type": "markdown",
   "id": "d7950439",
   "metadata": {},
   "source": [
    "### The else Statement in While Loops\n",
    "An else block can be added to a while loop. The else block is executed when the while condition becomes False (i.e., when the loop ends naturally).\n",
    "\n",
    "**Example with else:**"
   ]
  },
  {
   "cell_type": "code",
   "execution_count": 5,
   "id": "c14d4e75",
   "metadata": {},
   "outputs": [
    {
     "name": "stdout",
     "output_type": "stream",
     "text": [
      "1\n",
      "2\n",
      "number is no longer less than 3\n"
     ]
    }
   ],
   "source": [
    "number = 1\n",
    "while number < 3:\n",
    "    print(number)\n",
    "    number += 1\n",
    "else:\n",
    "    print(\"number is no longer less than 3\")"
   ]
  },
  {
   "cell_type": "markdown",
   "id": "9d9bd69b",
   "metadata": {},
   "source": [
    "**Explanation:**\n",
    "\n",
    "The else block runs once the condition (number < 3) becomes False and the loop exits."
   ]
  },
  {
   "cell_type": "markdown",
   "id": "b40e8c4a",
   "metadata": {},
   "source": [
    "### Avoiding Infinite Loops\n",
    "A common pitfall with while loops is creating an infinite loop, where the condition never becomes False, and the loop keeps running. This can cause the program to hang or crash. To avoid this, ensure that:\n",
    "\n",
    "- The condition will eventually evaluate to False.\n",
    "- You have an exit strategy using break if necessary.\n",
    "\n",
    "**Example of Infinite Loop:**"
   ]
  },
  {
   "cell_type": "code",
   "execution_count": 6,
   "id": "fe20b997",
   "metadata": {},
   "outputs": [
    {
     "name": "stdout",
     "output_type": "stream",
     "text": [
      "This will run forever unless break is used\n"
     ]
    }
   ],
   "source": [
    "while True:\n",
    "    print(\"This will run forever unless break is used\")\n",
    "    break  # Prevents infinite loop"
   ]
  },
  {
   "cell_type": "markdown",
   "id": "9abc8575",
   "metadata": {},
   "source": [
    "### Conclusion\n",
    "\n",
    "While loops are powerful tools in Python for performing repeated tasks until a specific condition is met. With additional control using break, continue, and else, they can handle a wide variety of scenarios efficiently. However, care must be taken to avoid infinite loops by ensuring that the loop condition eventually becomes False."
   ]
  }
 ],
 "metadata": {
  "kernelspec": {
   "display_name": "Python 3 (ipykernel)",
   "language": "python",
   "name": "python3"
  },
  "language_info": {
   "codemirror_mode": {
    "name": "ipython",
    "version": 3
   },
   "file_extension": ".py",
   "mimetype": "text/x-python",
   "name": "python",
   "nbconvert_exporter": "python",
   "pygments_lexer": "ipython3",
   "version": "3.11.5"
  }
 },
 "nbformat": 4,
 "nbformat_minor": 5
}
