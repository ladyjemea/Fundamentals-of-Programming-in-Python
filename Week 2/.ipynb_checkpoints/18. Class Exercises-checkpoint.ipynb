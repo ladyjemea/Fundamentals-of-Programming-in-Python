{
 "cells": [
  {
   "cell_type": "markdown",
   "id": "f9a48b0d",
   "metadata": {},
   "source": [
    "<img src=\"LaeCodes.png\" \n",
    "     align=\"center\" \n",
    "     width=\"100\" />"
   ]
  },
  {
   "cell_type": "markdown",
   "id": "adbc59b8",
   "metadata": {},
   "source": [
    "# Class exercises\n",
    "\n",
    "\n",
    "1) Write a program that checks if a given number is even or odd. Print \"Even\" if it is, and \"Odd\" if it isn’t.\n",
    "\n",
    "2) Write a program that takes a number as input and checks if it falls within a certain range: <br>\n",
    "If the number is greater than or equal to 90, print \"Grade: A\". <br>\n",
    "If it’s between 80 and 89, print \"Grade: B\". <br>\n",
    "If it’s between 70 and 79, print \"Grade: C\". <br>\n",
    "If it’s below 70, print \"Grade: F\".\n",
    "\n",
    "3) Write a for and while loop that prints numbers from 5 down to 1. After the loop, print \"Time’s up!\".\n",
    "\n",
    "4) Write a program that uses a while loop to find the sum of all even numbers between 1 and 20. Print the sum after the loop ends."
   ]
  }
 ],
 "metadata": {
  "kernelspec": {
   "display_name": "Python 3 (ipykernel)",
   "language": "python",
   "name": "python3"
  },
  "language_info": {
   "codemirror_mode": {
    "name": "ipython",
    "version": 3
   },
   "file_extension": ".py",
   "mimetype": "text/x-python",
   "name": "python",
   "nbconvert_exporter": "python",
   "pygments_lexer": "ipython3",
   "version": "3.11.5"
  }
 },
 "nbformat": 4,
 "nbformat_minor": 5
}
