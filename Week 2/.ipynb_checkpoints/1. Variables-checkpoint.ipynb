{
 "cells": [
  {
   "cell_type": "markdown",
   "id": "ef4adfff",
   "metadata": {},
   "source": [
    "<img src=\"LaeCodes.png\" \n",
    "     align=\"center\" \n",
    "     width=\"100\" />"
   ]
  },
  {
   "attachments": {
    "image.png": {
     "image/png": "[encoded data removed]"
    }
   },
   "cell_type": "markdown",
   "id": "6f9e0508",
   "metadata": {},
   "source": [
    "# Variables in Python\n",
    "\n",
    "A variable is an identifier used to store data in a program. It acts as a container for different types of data like text (strings), numbers, lists, and dictionaries. Python is a dynamically typed language, meaning that you don’t need to declare a variable’s data type explicitly. Instead, Python infers the data type at runtime based on the value assigned to the variable. <br>\n",
    "\n",
    "When you declare a variable, you essentially create a storage location in memory where a value is stored, and the program can access this value during execution.\n",
    "\n",
    "### Key Characteristics of Variables in Python\n",
    "- **Dynamically Typed:** Python is a dynamically typed language, meaning you don't need to declare the type of a variable when you create it. The type is inferred at runtime based on the value assigned. <br>\n",
    "- **Mutable:** Variables in Python can change type over their lifetime. You can assign a value of one type to a variable, and later assign a value of a different type to the same variable.\n",
    "\n",
    "\n",
    "### Declaring a variable in Python\n",
    "\n",
    "![image.png](attachment:image.png)\n",
    "\n",
    "- **variable_name**: the name you give to the variable.\n",
    "- **value**: the data you want to store in the variable.\n",
    "\n",
    "### Variable declaration examples"
   ]
  },
  {
   "cell_type": "code",
   "execution_count": 2,
   "id": "0c2753a9",
   "metadata": {},
   "outputs": [],
   "source": [
    "name = 'Mike' #string\n",
    "age = 19 #integer\n",
    "courses = ['python programming', 'english language'] #list"
   ]
  },
  {
   "cell_type": "markdown",
   "id": "247c8b6d",
   "metadata": {},
   "source": [
    "- The variable name is assigned the string value 'Mike'.\n",
    "- The variable age is assigned the integer value 19.\n",
    "- The variable courses is assigned a list with two values: 'Python programming' and 'English language'\n",
    "\n",
    "### Reassigning a Variable:\n",
    "In Python, you can change the value of a variable after it has been declared."
   ]
  },
  {
   "cell_type": "code",
   "execution_count": 3,
   "id": "fe41b76c",
   "metadata": {},
   "outputs": [],
   "source": [
    "courses = ['Python programming', 'English language']\n",
    "courses = ['Python programming', 'English language', 'Algorithms and data structures']"
   ]
  },
  {
   "cell_type": "markdown",
   "id": "a1a1c716",
   "metadata": {},
   "source": [
    "Python only remembers the most recent value assigned to the variable.\n",
    "\n",
    "In this case, any time we use ‘courses’ after the second declaration, you will get the list ['python programming', 'english language', 'algorithms and data structures'].\n",
    "\n",
    "\n",
    "### Multiple Variable Assignment:\n",
    "\n",
    "You can declare multiple variables in a single line:"
   ]
  },
  {
   "cell_type": "code",
   "execution_count": 4,
   "id": "283c3115",
   "metadata": {},
   "outputs": [],
   "source": [
    "name, age, courses = 'Mike', 19, ['Python programming', 'English language']\n",
    "x = y = z = 'Jane'"
   ]
  },
  {
   "cell_type": "markdown",
   "id": "a32d6a41",
   "metadata": {},
   "source": [
    "### Variable Naming Rules\n",
    "\n",
    "- **Case sensitivity**: Variables are case sensitive in Python. This means that name and Name are treated as two different variables.\n",
    "\n",
    "**Example:**"
   ]
  },
  {
   "cell_type": "code",
   "execution_count": 5,
   "id": "39e68da8",
   "metadata": {},
   "outputs": [
    {
     "name": "stdout",
     "output_type": "stream",
     "text": [
      "Alice\n",
      "Bob\n"
     ]
    }
   ],
   "source": [
    "name = 'Alice'\n",
    "Name = 'Bob'\n",
    "print(name)  # Alice\n",
    "print(Name)  # Bob"
   ]
  },
  {
   "cell_type": "markdown",
   "id": "3200509d",
   "metadata": {},
   "source": [
    "- **Starting characters**: Variable names must start with a letter (a-z, A-Z) or an underscore (_).\n",
    "\n",
    "- **No special characters**: Variable names cannot contain special characters such as @, #, %, or &, except for the underscore _.\n",
    "\n",
    "- **Alpha-numeric characters**: Variable names can only contain letters, numbers, and underscores (a-z, A-Z, 0-9, _).\n",
    "\n",
    "- **No starting with numbers**: Variable names cannot begin with a digit (e.g., 1name is invalid).\n",
    "\n",
    "- **Avoid reserved keywords**: Avoid using Python’s reserved words like for, if, else, True, False, etc. as variable names.\n",
    "\n",
    "### Examples of valid variable declarations:"
   ]
  },
  {
   "cell_type": "code",
   "execution_count": 6,
   "id": "96a3a274",
   "metadata": {},
   "outputs": [],
   "source": [
    "name = 'Julia'\n",
    "first_name = 'Anna'\n",
    "age = 14\n",
    "_course = 'Python fundamentals'\n",
    "Term = 1"
   ]
  },
  {
   "cell_type": "markdown",
   "id": "da45675d",
   "metadata": {},
   "source": [
    "### Examples of invalid variable declarations:"
   ]
  },
  {
   "cell_type": "markdown",
   "id": "037cc2ff",
   "metadata": {},
   "source": [
    "- 1name = 'Julia'  # Cannot start with a number\n",
    "- first#name = 'Anna'  # Cannot contain special characters like #\n",
    "- True = 14  # True is a reserved word\n",
    "- &course = 'Python fundamentals'  # Invalid special character\n",
    "- Term* = 1  # Invalid special character"
   ]
  },
  {
   "cell_type": "markdown",
   "id": "4a8a0f95",
   "metadata": {},
   "source": [
    "### Variable Casting\n",
    "\n",
    "In Python, you typically don’t need to declare the type of a variable, but in some cases, you might want to cast variables to a specific type.\n",
    "\n",
    "**Example of casting:**"
   ]
  },
  {
   "cell_type": "code",
   "execution_count": 7,
   "id": "6506bcbf",
   "metadata": {},
   "outputs": [],
   "source": [
    "x = int(2)    # x will be an integer: 2\n",
    "y = str(2)    # y will be a string: '2'\n",
    "z = float(2)  # z will be a float: 2.0"
   ]
  },
  {
   "cell_type": "markdown",
   "id": "3da0b805",
   "metadata": {},
   "source": [
    "Casting is useful when you need to explicitly specify the type of a variable, especially when working with user input or converting between types.\n",
    "\n",
    "### Why Use Casting?\n",
    "- To ensure correct data types when performing operations.\n",
    "- To convert user input (which is usually a string) into the required type.\n",
    "\n",
    "### Checking the Variable Type\n",
    "You can check the type of a variable using the type() function:"
   ]
  },
  {
   "cell_type": "code",
   "execution_count": 8,
   "id": "f652c624",
   "metadata": {},
   "outputs": [
    {
     "name": "stdout",
     "output_type": "stream",
     "text": [
      "<class 'int'>\n",
      "<class 'str'>\n"
     ]
    }
   ],
   "source": [
    "x = 2\n",
    "y = \"your_name\"\n",
    "\n",
    "print(type(x))  # Output: <class 'int'>\n",
    "print(type(y))  # Output: <class 'str'>"
   ]
  },
  {
   "cell_type": "code",
   "execution_count": 9,
   "id": "c0d95580",
   "metadata": {},
   "outputs": [
    {
     "name": "stdout",
     "output_type": "stream",
     "text": [
      "<class 'int'>\n",
      "<class 'str'>\n"
     ]
    }
   ],
   "source": [
    "x = 2\n",
    "y = \"your_name\"\n",
    "\n",
    "print(type(x))  # Output: <class 'int'>\n",
    "print(type(y))  # Output: <class 'str'>"
   ]
  },
  {
   "cell_type": "markdown",
   "id": "98955744",
   "metadata": {},
   "source": [
    "In this example, x is an integer, and y is a string."
   ]
  },
  {
   "cell_type": "markdown",
   "id": "50d81bae",
   "metadata": {},
   "source": [
    "### Declaring Multi-Word Variables\n",
    "\n",
    "For better readability, Python allows different naming conventions when declaring variables with multiple words:\n",
    "\n",
    "- **Camel Case:** The first word is lowercase, and each subsequent word starts with an uppercase letter."
   ]
  },
  {
   "cell_type": "code",
   "execution_count": 10,
   "id": "a7142079",
   "metadata": {},
   "outputs": [],
   "source": [
    "newVariableName = 'Camel Case'"
   ]
  },
  {
   "cell_type": "markdown",
   "id": "b512461c",
   "metadata": {},
   "source": [
    "- **Snake Case:** Words are separated by underscores, all lowercase."
   ]
  },
  {
   "cell_type": "code",
   "execution_count": 11,
   "id": "72754dd4",
   "metadata": {},
   "outputs": [],
   "source": [
    "new_variable_name = 'Snake Case'"
   ]
  },
  {
   "cell_type": "markdown",
   "id": "7f348605",
   "metadata": {},
   "source": [
    "- **Pascal Case:** Every word starts with an uppercase letter, including the first."
   ]
  },
  {
   "cell_type": "code",
   "execution_count": 12,
   "id": "834f4607",
   "metadata": {},
   "outputs": [],
   "source": [
    "NewVariableName = 'Pascal Case'"
   ]
  },
  {
   "cell_type": "markdown",
   "id": "7cb758f6",
   "metadata": {},
   "source": [
    "### Data Types in Variables\n",
    "Python supports various data types:\n",
    "\n",
    "- **Numeric Types:** int, float, complex\n",
    "- **Text Type:** str\n",
    "- **Sequence Types:** list, tuple, range\n",
    "- **Mapping Type:** dict\n",
    "- **Set Types:** set, frozenset\n",
    "- **Boolean Type:** bool\n",
    "- **Binary Types:** bytes, bytearray, memoryview"
   ]
  },
  {
   "cell_type": "code",
   "execution_count": 13,
   "id": "e79bb1f5",
   "metadata": {},
   "outputs": [],
   "source": [
    "integer_var = 10          # int\n",
    "float_var = 3.14          # float\n",
    "string_var = 'Hello'      # str\n",
    "list_var = [1, 2, 3]      # list\n",
    "tuple_var = (1, 2, 3)     # tuple\n",
    "dict_var = {'a': 1, 'b': 2}  # dict\n",
    "bool_var = True           # bool"
   ]
  },
  {
   "cell_type": "markdown",
   "id": "37219820",
   "metadata": {},
   "source": [
    "### Outputting Variables\n",
    "The **print()** function is used to display variables and messages to the console.\n",
    "\n",
    "### Printing Single Variables"
   ]
  },
  {
   "cell_type": "code",
   "execution_count": 14,
   "id": "e876057a",
   "metadata": {},
   "outputs": [
    {
     "name": "stdout",
     "output_type": "stream",
     "text": [
      "Laura\n",
      "22\n"
     ]
    }
   ],
   "source": [
    "name = 'Laura'\n",
    "age = 22\n",
    "\n",
    "print(name)  # Output: Laura\n",
    "print(age)   # Output: 22"
   ]
  },
  {
   "cell_type": "markdown",
   "id": "6a5e4b92",
   "metadata": {},
   "source": [
    "### Printing Multiple Variables\n",
    "**Using Commas**"
   ]
  },
  {
   "cell_type": "code",
   "execution_count": 15,
   "id": "225ab9ba",
   "metadata": {},
   "outputs": [
    {
     "name": "stdout",
     "output_type": "stream",
     "text": [
      "Laura is 22\n"
     ]
    }
   ],
   "source": [
    "name = 'Laura'\n",
    "age = '22'\n",
    "mid = 'is'\n",
    "\n",
    "print(name, mid, age)  # Output: Laura is 22"
   ]
  },
  {
   "cell_type": "markdown",
   "id": "2c656722",
   "metadata": {},
   "source": [
    "When using commas, Python automatically adds spaces between the values.\n",
    "\n",
    "**Using String Concatenation**"
   ]
  },
  {
   "cell_type": "code",
   "execution_count": 3,
   "id": "ef044876",
   "metadata": {},
   "outputs": [
    {
     "name": "stdout",
     "output_type": "stream",
     "text": [
      "Laura is 22\n"
     ]
    }
   ],
   "source": [
    "name = 'Laura'\n",
    "mid = 'is'\n",
    "age = '22'\n",
    "\n",
    "print(name + ' ' + mid + ' ' + age)  # Output: Laura is 22"
   ]
  },
  {
   "cell_type": "markdown",
   "id": "c29e08dd",
   "metadata": {},
   "source": [
    "- The + operator concatenates strings without adding spaces.\n",
    "- Ensure spaces are included in the strings if needed.\n",
    "\n",
    "**Concatenating Strings and Numbers** <br>\n",
    "If you try to concatenate a string and a number directly, you'll get a TypeError."
   ]
  },
  {
   "cell_type": "code",
   "execution_count": 7,
   "id": "bfe53ebc",
   "metadata": {},
   "outputs": [
    {
     "ename": "TypeError",
     "evalue": "can only concatenate str (not \"int\") to str",
     "output_type": "error",
     "traceback": [
      "\u001b[0;31m---------------------------------------------------------------------------\u001b[0m",
      "\u001b[0;31mTypeError\u001b[0m                                 Traceback (most recent call last)",
      "Cell \u001b[0;32mIn[7], line 6\u001b[0m\n\u001b[1;32m      3\u001b[0m mid \u001b[38;5;241m=\u001b[39m \u001b[38;5;124m'\u001b[39m\u001b[38;5;124m is \u001b[39m\u001b[38;5;124m'\u001b[39m\n\u001b[1;32m      5\u001b[0m \u001b[38;5;66;03m# This will cause an error\u001b[39;00m\n\u001b[0;32m----> 6\u001b[0m \u001b[38;5;28mprint\u001b[39m(name \u001b[38;5;241m+\u001b[39m mid \u001b[38;5;241m+\u001b[39m age)\n",
      "\u001b[0;31mTypeError\u001b[0m: can only concatenate str (not \"int\") to str"
     ]
    }
   ],
   "source": [
    "name = 'Laura'\n",
    "age = 22\n",
    "mid = ' is '\n",
    "\n",
    "# This will cause an error\n",
    "print(name + mid + age)"
   ]
  },
  {
   "cell_type": "markdown",
   "id": "a8ebff12",
   "metadata": {},
   "source": [
    "To fix this, convert the number to a string using str():"
   ]
  },
  {
   "cell_type": "code",
   "execution_count": 18,
   "id": "d3074384",
   "metadata": {},
   "outputs": [
    {
     "name": "stdout",
     "output_type": "stream",
     "text": [
      "Laura is 22\n"
     ]
    }
   ],
   "source": [
    "print(name + mid + str(age))  # Output: Laura is 22"
   ]
  },
  {
   "cell_type": "markdown",
   "id": "3cd450f7",
   "metadata": {},
   "source": [
    "### Using Formatted Strings (f-Strings)\n",
    "\n",
    "Python 3.6+ supports f-strings, which make string formatting easier."
   ]
  },
  {
   "cell_type": "code",
   "execution_count": 9,
   "id": "ffa854b3",
   "metadata": {},
   "outputs": [
    {
     "name": "stdout",
     "output_type": "stream",
     "text": [
      "Laura is 22\n",
      "I met a girl and her name is Laura and she is 22 years old\n"
     ]
    }
   ],
   "source": [
    "name = 'Laura'\n",
    "age = 22\n",
    "\n",
    "print(f\"{name} is {age}\")  # Output: Laura is 22\n",
    "\n",
    "print(f\"I met a girl and her name is {name} and she is {age} years old\")"
   ]
  },
  {
   "cell_type": "markdown",
   "id": "f78f13e1",
   "metadata": {},
   "source": [
    "### Using the format() Method"
   ]
  },
  {
   "cell_type": "code",
   "execution_count": 12,
   "id": "34894c1c",
   "metadata": {},
   "outputs": [
    {
     "name": "stdout",
     "output_type": "stream",
     "text": [
      "Laura is 22\n",
      "I met a girl and her name is Laura and she is 22 years old\n"
     ]
    }
   ],
   "source": [
    "name = 'Laura'\n",
    "age = 22\n",
    "\n",
    "print(\"{} is {}\".format(name, age))  # Output: Laura is 22\n",
    "print(\"I met a girl and her name is {} and she is {} years old\".format(name, age))"
   ]
  },
  {
   "cell_type": "markdown",
   "id": "882cbbad",
   "metadata": {},
   "source": [
    "### Variables as Mathematical Operators\n",
    "\n",
    "Variables holding numeric types can be used in mathematical operations.\n",
    "\n",
    "**Example**"
   ]
  },
  {
   "cell_type": "code",
   "execution_count": 21,
   "id": "adff556b",
   "metadata": {},
   "outputs": [
    {
     "name": "stdout",
     "output_type": "stream",
     "text": [
      "13\n",
      "-1\n",
      "42\n",
      "0.8571428571428571\n",
      "279936\n",
      "6\n"
     ]
    }
   ],
   "source": [
    "x = 6\n",
    "y = 7\n",
    "\n",
    "print(x + y)      # Addition: Output is 13\n",
    "print(x - y)      # Subtraction: Output is -1\n",
    "print(x * y)      # Multiplication: Output is 42\n",
    "print(x / y)      # Division: Output is 0.8571428571428571\n",
    "print(x ** y)     # Exponentiation: x raised to the power y\n",
    "print(x % y)      # Modulus: Remainder of x divided by y"
   ]
  },
  {
   "cell_type": "markdown",
   "id": "3bf09e2b",
   "metadata": {},
   "source": [
    "### Constants in Python\n",
    "\n",
    "While Python doesn't have built-in constant types, you can indicate that a variable should not change by naming it in all uppercase letters."
   ]
  },
  {
   "cell_type": "code",
   "execution_count": 23,
   "id": "44364bc8",
   "metadata": {},
   "outputs": [],
   "source": [
    "PI = 3.14159\n",
    "GRAVITY = 9.8\n",
    "\n",
    "#Note: This is a convention and doesn't prevent reassignment."
   ]
  },
  {
   "attachments": {
    "image.png": {
     "image/png": "[encoded data removed]"
    }
   },
   "cell_type": "markdown",
   "id": "0d176856",
   "metadata": {},
   "source": [
    "### Reserved Keywords\n",
    "\n",
    "Python has a set of reserved keywords that cannot be used as variable names.\n",
    "\n",
    "#### List of Reserved Keywords\n",
    "![image.png](attachment:image.png)\n",
    "\n",
    "Always avoid using these keywords as variable names."
   ]
  },
  {
   "cell_type": "markdown",
   "id": "b048976d",
   "metadata": {},
   "source": [
    "### Summary\n",
    "\n",
    "- Variables store data that can be used and manipulated in programs.\n",
    "- Naming rules must be followed to create valid variable names.\n",
    "- Data types are assigned dynamically in Python.\n",
    "- Casting can be used to specify data types explicitly.\n",
    "- Printing variables can be done using print(), with commas, concatenation, or formatted strings.\n",
    "- Mathematical operations can be performed on numeric variables.\n",
    "- Constants are indicated by naming variables in uppercase, though they can still be reassigned."
   ]
  }
 ],
 "metadata": {
  "kernelspec": {
   "display_name": "Python 3 (ipykernel)",
   "language": "python",
   "name": "python3"
  },
  "language_info": {
   "codemirror_mode": {
    "name": "ipython",
    "version": 3
   },
   "file_extension": ".py",
   "mimetype": "text/x-python",
   "name": "python",
   "nbconvert_exporter": "python",
   "pygments_lexer": "ipython3",
   "version": "3.11.5"
  }
 },
 "nbformat": 4,
 "nbformat_minor": 5
}
