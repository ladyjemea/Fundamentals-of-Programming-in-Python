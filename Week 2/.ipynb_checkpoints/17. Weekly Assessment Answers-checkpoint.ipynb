{
 "cells": [
  {
   "cell_type": "markdown",
   "id": "dd9dd3aa",
   "metadata": {},
   "source": [
    "<img src=\"LaeCodes.png\" \n",
    "align=\"center\" \n",
    "width=\"100\" />"
   ]
  },
  {
   "cell_type": "markdown",
   "id": "788b6536",
   "metadata": {},
   "source": [
    "# Weekly Assessment Answers\n",
    "\n",
    "### Variables\n",
    "1. What are variables?\n",
    "- Variables are containers for storing data values. In programming, variables act as symbolic names that reference memory locations, holding values that can change during the execution of a program.\n",
    "\n",
    "2. Define variables in Python.\n",
    "- In Python, variables do not need explicit declaration; they are created when you assign a value to them.\n",
    "\n",
    "3. Declare 4 variables and assign values of different types to them."
   ]
  },
  {
   "cell_type": "code",
   "execution_count": 1,
   "id": "767ac06f",
   "metadata": {},
   "outputs": [],
   "source": [
    "name = \"John\"  # string\n",
    "age = 25  # integer\n",
    "height = 5.9  # float\n",
    "is_student = True  # boolean"
   ]
  },
  {
   "cell_type": "markdown",
   "id": "babbac6f",
   "metadata": {},
   "source": [
    "4. Name 3 data types in Python and use them in variable declarations.\n",
    "- String (str), Integer (int), Float (float)."
   ]
  },
  {
   "cell_type": "code",
   "execution_count": 2,
   "id": "f00007cc",
   "metadata": {},
   "outputs": [],
   "source": [
    "text = \"Hello, World!\"  # str\n",
    "number = 42  # int\n",
    "percentage = 99.99  # float"
   ]
  },
  {
   "cell_type": "markdown",
   "id": "c7cf48c4",
   "metadata": {},
   "source": [
    "5. List the data types and declare variables using those data types.\n",
    "- Basic Python data types: Integer, Float, String, List, Tuple, Set, Dictionary, Boolean."
   ]
  },
  {
   "cell_type": "code",
   "execution_count": 3,
   "id": "46eff8c7",
   "metadata": {},
   "outputs": [],
   "source": [
    "num = 10  # int\n",
    "decimal_num = 10.5  # float\n",
    "name = \"Alice\"  # str\n",
    "languages = [\"Python\", \"Java\"]  # list\n",
    "my_tuple = (1, 2, 3)  # tuple\n",
    "unique_numbers = {1, 2, 3, 4}  # set\n",
    "student_info = {\"name\": \"Alice\", \"age\": 25}  # dict\n",
    "flag = False  # boolean"
   ]
  },
  {
   "cell_type": "markdown",
   "id": "01b4dad4",
   "metadata": {},
   "source": [
    "### Modulus Operator\n",
    "6. What is the Modulus operator?\n",
    "- The modulus operator (%) returns the remainder of a division operation.\n",
    "\n",
    "7. Explain the Modulus operator in Python.\n",
    "- The modulus operator divides one number by another and returns the remainder of the division.\n",
    "\n",
    "8. Use it in a mathematical statement to find the remainder of a division."
   ]
  },
  {
   "cell_type": "code",
   "execution_count": 4,
   "id": "bf295b14",
   "metadata": {},
   "outputs": [
    {
     "name": "stdout",
     "output_type": "stream",
     "text": [
      "1\n"
     ]
    }
   ],
   "source": [
    "remainder = 10 % 3  # Output: 1 (remainder when 10 is divided by 3)\n",
    "print(remainder)"
   ]
  },
  {
   "cell_type": "markdown",
   "id": "f3f090f3",
   "metadata": {},
   "source": [
    "### String Manipulations\n",
    "9. Assign both strings to variables."
   ]
  },
  {
   "cell_type": "code",
   "execution_count": 5,
   "id": "b33f64cc",
   "metadata": {},
   "outputs": [],
   "source": [
    "str1 = \"I am learning Fundamentals of Programming in Python\"\n",
    "str2 = \"I will like to learn it\""
   ]
  },
  {
   "cell_type": "markdown",
   "id": "cd67f0d3",
   "metadata": {},
   "source": [
    "10. Concatenate both strings and print the result."
   ]
  },
  {
   "cell_type": "code",
   "execution_count": 6,
   "id": "fa7630d2",
   "metadata": {},
   "outputs": [
    {
     "name": "stdout",
     "output_type": "stream",
     "text": [
      "I am learning Fundamentals of Programming in Python I will like to learn it\n"
     ]
    }
   ],
   "source": [
    "result = str1 + \" \" + str2\n",
    "print(result)"
   ]
  },
  {
   "cell_type": "markdown",
   "id": "d1ee0145",
   "metadata": {},
   "source": [
    "11. On the first string, what characters are at indices 16 and -10?"
   ]
  },
  {
   "cell_type": "code",
   "execution_count": 7,
   "id": "047441dd",
   "metadata": {},
   "outputs": [
    {
     "name": "stdout",
     "output_type": "stream",
     "text": [
      "Character at index 16: n\n",
      "Character at index -10:  \n"
     ]
    }
   ],
   "source": [
    "# Index 16\n",
    "char_at_16 = str1[16]\n",
    "# Index -10\n",
    "char_at_minus_10 = str1[-10]\n",
    "\n",
    "print(f\"Character at index 16: {char_at_16}\")\n",
    "print(f\"Character at index -10: {char_at_minus_10}\")"
   ]
  },
  {
   "cell_type": "markdown",
   "id": "60b44293",
   "metadata": {},
   "source": [
    "12. On the second string, what characters are at indices 11 and -8?"
   ]
  },
  {
   "cell_type": "code",
   "execution_count": 8,
   "id": "9407fe32",
   "metadata": {},
   "outputs": [
    {
     "name": "stdout",
     "output_type": "stream",
     "text": [
      "Character at index 11:  \n",
      "Character at index -8: l\n"
     ]
    }
   ],
   "source": [
    "# Index 11\n",
    "char_at_11 = str2[11]\n",
    "# Index -8\n",
    "char_at_minus_8 = str2[-8]\n",
    "\n",
    "print(f\"Character at index 11: {char_at_11}\")\n",
    "print(f\"Character at index -8: {char_at_minus_8}\")"
   ]
  },
  {
   "cell_type": "markdown",
   "id": "d046a370",
   "metadata": {},
   "source": [
    "### Slicing Strings\n",
    "\n",
    "13. From the first string, what substring is returned with [3:23:2]?"
   ]
  },
  {
   "cell_type": "code",
   "execution_count": 9,
   "id": "0081e5bd",
   "metadata": {},
   "outputs": [
    {
     "name": "stdout",
     "output_type": "stream",
     "text": [
      "mlann udmn\n"
     ]
    }
   ],
   "source": [
    "substring1 = str1[3:23:2]\n",
    "print(substring1)"
   ]
  },
  {
   "cell_type": "markdown",
   "id": "5a98b6d5",
   "metadata": {},
   "source": [
    "14. From the second string, what substring is returned with [-18:-3]?"
   ]
  },
  {
   "cell_type": "code",
   "execution_count": 10,
   "id": "e0f89470",
   "metadata": {},
   "outputs": [
    {
     "name": "stdout",
     "output_type": "stream",
     "text": [
      "l like to learn\n"
     ]
    }
   ],
   "source": [
    "substring2 = str2[-18:-3]\n",
    "print(substring2)"
   ]
  },
  {
   "cell_type": "markdown",
   "id": "e16686d8",
   "metadata": {},
   "source": [
    "15. What does the first string return with [::]?"
   ]
  },
  {
   "cell_type": "code",
   "execution_count": 12,
   "id": "cd7c4eba",
   "metadata": {},
   "outputs": [
    {
     "name": "stdout",
     "output_type": "stream",
     "text": [
      "I am learning Fundamentals of Programming in Python\n"
     ]
    }
   ],
   "source": [
    "complete_str = str1[::]\n",
    "print(complete_str)"
   ]
  },
  {
   "cell_type": "markdown",
   "id": "a28e78f9",
   "metadata": {},
   "source": [
    "### String Formatting\n",
    "\n",
    "16. Format the first string, replacing \"Fundamentals of Programming in Python\" with \"Python programming\" using both the str.format() method and f-strings."
   ]
  },
  {
   "cell_type": "code",
   "execution_count": 13,
   "id": "cd29a123",
   "metadata": {},
   "outputs": [
    {
     "name": "stdout",
     "output_type": "stream",
     "text": [
      "I am learning Python programming\n",
      "I am learning Python programming\n"
     ]
    }
   ],
   "source": [
    "# Using str.format()\n",
    "formatted_str1 = str1.replace(\"Fundamentals of Programming in Python\", \"Python programming\")\n",
    "print(formatted_str1)\n",
    "\n",
    "# Using f-strings\n",
    "new_part = \"Python programming\"\n",
    "formatted_str2 = f\"I am learning {new_part}\"\n",
    "print(formatted_str2)"
   ]
  },
  {
   "cell_type": "markdown",
   "id": "5be10031",
   "metadata": {},
   "source": [
    "### String Methods\n",
    "\n",
    "17. Given the string: \"Python programming is good\", apply the following methods:"
   ]
  },
  {
   "cell_type": "code",
   "execution_count": 14,
   "id": "4ea912c8",
   "metadata": {},
   "outputs": [
    {
     "name": "stdout",
     "output_type": "stream",
     "text": [
      "26\n",
      "Python programming is good\n",
      "Python programming is good\n",
      "False\n",
      "True\n",
      "Python programming is easy\n",
      "['Python', 'programming', 'is', 'good']\n"
     ]
    }
   ],
   "source": [
    "str3 = \"Python programming is good\"\n",
    "\n",
    "# len()\n",
    "print(len(str3))  # Output: 24\n",
    "\n",
    "# capitalize()\n",
    "print(str3.capitalize())  # Output: \"Python programming is good\"\n",
    "\n",
    "# rstrip()\n",
    "print(str3.rstrip())  # Output: \"Python programming is good\" (removes trailing spaces)\n",
    "\n",
    "# isspace()\n",
    "print(str3.isspace())  # Output: False (there are non-space characters)\n",
    "\n",
    "# startswith()\n",
    "print(str3.startswith(\"Python\"))  # Output: True\n",
    "\n",
    "# replace() (replace \"good\" with \"easy\")\n",
    "print(str3.replace(\"good\", \"easy\"))  # Output: \"Python programming is easy\"\n",
    "\n",
    "# split() (split the string on the empty space)\n",
    "print(str3.split())  # Output: ['Python', 'programming', 'is', 'good']"
   ]
  },
  {
   "cell_type": "markdown",
   "id": "15abb246",
   "metadata": {},
   "source": [
    "### Escape Characters\n",
    "18. Add two escape characters of your choice when printing the above string."
   ]
  },
  {
   "cell_type": "code",
   "execution_count": 15,
   "id": "37e8ea4e",
   "metadata": {},
   "outputs": [
    {
     "name": "stdout",
     "output_type": "stream",
     "text": [
      "Python programming is good\n",
      "This is a new line.\tHere is a tab space.\n"
     ]
    }
   ],
   "source": [
    "print(\"Python programming is good\\nThis is a new line.\\tHere is a tab space.\")"
   ]
  },
  {
   "cell_type": "markdown",
   "id": "9c0e9b36",
   "metadata": {},
   "source": [
    "### Simple Program\n",
    "\n",
    "19. Write a simple program that takes the name and age of a person and displays this information on the screen."
   ]
  },
  {
   "cell_type": "code",
   "execution_count": 16,
   "id": "b66d8128",
   "metadata": {},
   "outputs": [
    {
     "name": "stdout",
     "output_type": "stream",
     "text": [
      "Enter your name: x\n",
      "Enter your age: 8\n",
      "Your name is x and you are 8 years old.\n"
     ]
    }
   ],
   "source": [
    "name = input(\"Enter your name: \")\n",
    "age = input(\"Enter your age: \")\n",
    "\n",
    "print(f\"Your name is {name} and you are {age} years old.\")"
   ]
  }
 ],
 "metadata": {
  "kernelspec": {
   "display_name": "Python 3 (ipykernel)",
   "language": "python",
   "name": "python3"
  },
  "language_info": {
   "codemirror_mode": {
    "name": "ipython",
    "version": 3
   },
   "file_extension": ".py",
   "mimetype": "text/x-python",
   "name": "python",
   "nbconvert_exporter": "python",
   "pygments_lexer": "ipython3",
   "version": "3.11.5"
  }
 },
 "nbformat": 4,
 "nbformat_minor": 5
}
