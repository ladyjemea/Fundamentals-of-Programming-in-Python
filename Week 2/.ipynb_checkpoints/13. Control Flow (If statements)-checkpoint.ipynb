{
 "cells": [
  {
   "cell_type": "markdown",
   "id": "e1cc7ecc",
   "metadata": {},
   "source": [
    "<img src=\"LaeCodes.png\" \n",
    "     align=\"center\" \n",
    "     width=\"100\" />"
   ]
  },
  {
   "cell_type": "markdown",
   "id": "a8166bd9",
   "metadata": {},
   "source": [
    "# Control Flow in Python\n",
    "\n",
    "Control flow refers to the order in which individual statements, instructions, and function calls are executed in a program. In Python, control flow constructs help manage the flow of a program based on certain conditions, loops, and exceptions. These constructs allow for decision-making, repetition of code, and error handling.\n",
    "\n",
    "### Types of Control Flow Structures\n",
    "1) **Sequential Execution:**\n",
    "\n",
    "- The default flow of execution where statements are run one after another, in the order in which they appear in the code.\n",
    "\n",
    "2) **Conditional Statements (if, elif, else):**\n",
    "\n",
    "- Used for decision-making. The execution of certain blocks of code depends on whether a given condition is True or False.\n",
    "\n",
    "3) **Loops (for, while):**\n",
    "\n",
    "- Allow for the repetition of a block of code multiple times.\n",
    "\n",
    "4) **Break and Continue Statements:**\n",
    "\n",
    "- **break:** Terminates a loop prematurely.\n",
    "- **continue:** Skips the current iteration of a loop and moves to the next iteration.\n",
    "\n",
    "5) **Exception Handling (try, except, finally):**\n",
    "\n",
    "- Used to handle errors and exceptions that may occur during the execution of a program.\n",
    "\n",
    "\n",
    "1. **Conditional Statements (if, elif, else)** <br>\n",
    "Conditional statements are used to control the flow of a program by executing code only when specific conditions are met.\n",
    "\n",
    "**The if Statement:** <br>\n",
    "The if statement checks whether a condition is True. If the condition is True, the indented block of code is executed. Otherwise, the code block is skipped.\n",
    "\n",
    "**Example:**"
   ]
  },
  {
   "cell_type": "code",
   "execution_count": 4,
   "id": "1cd3edf4",
   "metadata": {},
   "outputs": [
    {
     "name": "stdout",
     "output_type": "stream",
     "text": [
      "x is positive\n",
      "ok\n",
      "yes\n"
     ]
    }
   ],
   "source": [
    "x = 10\n",
    "\n",
    "if x > 0:\n",
    "    print(\"x is positive\")\n",
    "    \n",
    "print('end of program')"
   ]
  },
  {
   "cell_type": "markdown",
   "id": "30ad2eed",
   "metadata": {},
   "source": [
    "- The if statement checks if x is greater than 0. If true, it prints \"x is positive\". The final line, \"end of program\", runs regardless of the condition."
   ]
  },
  {
   "cell_type": "markdown",
   "id": "db8f0d9a",
   "metadata": {},
   "source": [
    "2. **else Statement** <br>\n",
    "The else block specifies what should happen when the condition in the if statement is False. It is executed when none of the preceding conditions are met.\n",
    "\n",
    "**Example:**"
   ]
  },
  {
   "cell_type": "code",
   "execution_count": 2,
   "id": "97ff6693",
   "metadata": {},
   "outputs": [
    {
     "name": "stdout",
     "output_type": "stream",
     "text": [
      "x is either zero or negative\n",
      "end of program\n"
     ]
    }
   ],
   "source": [
    "x = -1\n",
    "\n",
    "if x > 0:\n",
    "    print(\"x is positive\")\n",
    "else:\n",
    "    print('x is either zero or negative')\n",
    "    \n",
    "print('end of program')"
   ]
  },
  {
   "cell_type": "markdown",
   "id": "85beb23e",
   "metadata": {},
   "source": [
    "Since x is not greater than 0, the else block runs.\n",
    "\n",
    "3. **elif (else if) Statement** <br>\n",
    "The elif statement allows you to check multiple conditions in sequence. If the if condition is False, Python moves on to check the elif condition. You can have multiple elif conditions.\n",
    "\n",
    "**Example:**"
   ]
  },
  {
   "cell_type": "code",
   "execution_count": 3,
   "id": "8a274e3d",
   "metadata": {},
   "outputs": [
    {
     "name": "stdout",
     "output_type": "stream",
     "text": [
      "x is zero\n",
      "end of program\n"
     ]
    }
   ],
   "source": [
    "x = 0\n",
    "\n",
    "if x > 0:\n",
    "    print(\"x is positive\")\n",
    "elif x == 0:\n",
    "    print(\"x is zero\")\n",
    "else:\n",
    "    print(\"x is negative\")\n",
    "    \n",
    "print('end of program')"
   ]
  },
  {
   "cell_type": "markdown",
   "id": "02616538",
   "metadata": {},
   "source": [
    "Here, the first condition (x > 0) is False, so Python checks the next condition (x == 0), which is True.\n",
    "\n",
    "### Using Comparison and Logical Operators in Conditions\n",
    "Comparison operators (==, >, <, >=, <=, !=) and logical operators (and, or, not) are commonly used in if, elif, and else statements to form complex conditions.\n",
    "\n",
    "**Example with Multiple Conditions:**"
   ]
  },
  {
   "cell_type": "code",
   "execution_count": 4,
   "id": "6cd1ce6a",
   "metadata": {},
   "outputs": [
    {
     "name": "stdout",
     "output_type": "stream",
     "text": [
      "x is positive and y is greater than 10\n"
     ]
    }
   ],
   "source": [
    "x = 10\n",
    "y = 20\n",
    "\n",
    "if x > 0 and y > 10:\n",
    "    print(\"x is positive and y is greater than 10\")"
   ]
  },
  {
   "cell_type": "markdown",
   "id": "b18a21d1",
   "metadata": {},
   "source": [
    "Both conditions (x > 0 and y > 10) must be True for the code inside the if block to execute."
   ]
  }
 ],
 "metadata": {
  "kernelspec": {
   "display_name": "Python 3 (ipykernel)",
   "language": "python",
   "name": "python3"
  },
  "language_info": {
   "codemirror_mode": {
    "name": "ipython",
    "version": 3
   },
   "file_extension": ".py",
   "mimetype": "text/x-python",
   "name": "python",
   "nbconvert_exporter": "python",
   "pygments_lexer": "ipython3",
   "version": "3.11.5"
  }
 },
 "nbformat": 4,
 "nbformat_minor": 5
}
