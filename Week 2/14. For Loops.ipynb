{
 "cells": [
  {
   "cell_type": "markdown",
   "id": "8ba055d9",
   "metadata": {},
   "source": [
    "<img src=\"LaeCodes.png\" \n",
    "     align=\"center\" \n",
    "     width=\"100\" />"
   ]
  },
  {
   "cell_type": "markdown",
   "id": "bf0a7a2f",
   "metadata": {},
   "source": [
    "# Python Loops/Iterative Statements\n",
    "\n",
    "Loops in Python are control flow structures that allow you to execute a block of code repeatedly based on a condition or iterable. They help perform repetitive tasks efficiently. Python offers two main types of loops: for and while loops.\n",
    "\n",
    "### For Loops\n",
    "A for loop is used to iterate over a sequence (like a string, list, tuple, set, or dictionary) or any other iterable object. Iterating over a sequence is called traversal.\n",
    "\n",
    "**Flow of a Python For Loop:**\n",
    "1) The loop checks if there is an item in the iterable (e.g., list, range).\n",
    "2) If an item exists, the loop executes the block of code.\n",
    "3) After executing the code, the loop checks again for the next item in the iterable.\n",
    "4) If no more items are left, the loop ends.\n",
    "\n",
    "**Example with List:**"
   ]
  },
  {
   "cell_type": "code",
   "execution_count": 1,
   "id": "a6276df4",
   "metadata": {},
   "outputs": [
    {
     "name": "stdout",
     "output_type": "stream",
     "text": [
      "Python\n",
      "Java\n",
      "C#\n",
      "GoLang\n"
     ]
    }
   ],
   "source": [
    "subjects = ['Python', 'Java', 'C#', 'GoLang']\n",
    "for subject in subjects:\n",
    "    print(subject)"
   ]
  },
  {
   "cell_type": "markdown",
   "id": "e3139f42",
   "metadata": {},
   "source": [
    "**Example with Range:**"
   ]
  },
  {
   "cell_type": "code",
   "execution_count": 1,
   "id": "c3f611bf",
   "metadata": {},
   "outputs": [
    {
     "name": "stdout",
     "output_type": "stream",
     "text": [
      "15\n",
      "16\n",
      "17\n",
      "18\n",
      "19\n"
     ]
    }
   ],
   "source": [
    "for num in range(15, 20):\n",
    "    print(num)"
   ]
  },
  {
   "cell_type": "markdown",
   "id": "2314a07d",
   "metadata": {},
   "source": [
    "**Example with Tuple:**"
   ]
  },
  {
   "cell_type": "code",
   "execution_count": 3,
   "id": "a275e566",
   "metadata": {},
   "outputs": [
    {
     "name": "stdout",
     "output_type": "stream",
     "text": [
      "banana\n",
      "98\n"
     ]
    }
   ],
   "source": [
    "my_tuple = ('banana', 98)\n",
    "for x in my_tuple:\n",
    "    print(x)"
   ]
  },
  {
   "cell_type": "markdown",
   "id": "be74f8f7",
   "metadata": {},
   "source": [
    "**Example with Dictionary:**"
   ]
  },
  {
   "cell_type": "code",
   "execution_count": 4,
   "id": "df9378f6",
   "metadata": {},
   "outputs": [
    {
     "name": "stdout",
     "output_type": "stream",
     "text": [
      "name : banana\n",
      "category : fruits\n",
      "number : 20\n"
     ]
    }
   ],
   "source": [
    "my_dictionary = {'name': 'banana', 'category': 'fruits', 'number': 20}\n",
    "\n",
    "for key in my_dictionary:\n",
    "    print(key, ':', my_dictionary[key])"
   ]
  },
  {
   "cell_type": "markdown",
   "id": "617d4ab2",
   "metadata": {},
   "source": [
    "The loop iterates over the keys in the dictionary, and the values are accessed using the keys.\n",
    "\n",
    "**Example with Set:**"
   ]
  },
  {
   "cell_type": "code",
   "execution_count": 5,
   "id": "788386de",
   "metadata": {},
   "outputs": [
    {
     "name": "stdout",
     "output_type": "stream",
     "text": [
      "GoLang\n",
      "C#\n",
      "Java\n",
      "Python\n"
     ]
    }
   ],
   "source": [
    "my_set = {'Python', 'Java', 'C#', 'GoLang'}\n",
    "for x in my_set:\n",
    "    print(x)"
   ]
  },
  {
   "cell_type": "markdown",
   "id": "2a1af0f7",
   "metadata": {},
   "source": [
    "A set is an unordered collection, so the order of items in a set is not defined.\n",
    "\n",
    "**Example with String:**"
   ]
  },
  {
   "cell_type": "code",
   "execution_count": 6,
   "id": "f61d7386",
   "metadata": {},
   "outputs": [
    {
     "name": "stdout",
     "output_type": "stream",
     "text": [
      "A\n",
      " \n",
      "s\n",
      "t\n",
      "r\n",
      "i\n",
      "n\n",
      "g\n"
     ]
    }
   ],
   "source": [
    "new_string = 'A string'\n",
    "for character in new_string:\n",
    "    print(character)"
   ]
  },
  {
   "cell_type": "markdown",
   "id": "03a9e3f0",
   "metadata": {},
   "source": [
    "### The break Statement\n",
    "\n",
    "The break statement is used to exit the loop prematurely before it has iterated over all elements in the iterable. It moves the execution to the first statement after the loop.\n",
    "\n",
    "**Example:**"
   ]
  },
  {
   "cell_type": "code",
   "execution_count": 2,
   "id": "5d7fcccb",
   "metadata": {},
   "outputs": [
    {
     "name": "stdout",
     "output_type": "stream",
     "text": [
      "2\n",
      "3\n",
      "4\n",
      "found number 5\n",
      "Hello\n"
     ]
    }
   ],
   "source": [
    "for x in range(2, 10):\n",
    "    if x == 5:\n",
    "        print('found number 5')\n",
    "        break\n",
    "    print(x)\n",
    "\n",
    "print('Hello')"
   ]
  },
  {
   "cell_type": "markdown",
   "id": "a834dbde",
   "metadata": {},
   "source": [
    "- The loop ends when x equals 5, skipping the remaining iterations.\n",
    "\n",
    "### The continue Statement\n",
    "The continue statement is used to skip the current iteration of the loop and move to the next iteration.\n",
    "\n",
    "**Example:**"
   ]
  },
  {
   "cell_type": "code",
   "execution_count": 8,
   "id": "a894223a",
   "metadata": {},
   "outputs": [
    {
     "name": "stdout",
     "output_type": "stream",
     "text": [
      "2\n",
      "3\n",
      "4\n",
      "6\n",
      "7\n",
      "8\n",
      "9\n"
     ]
    }
   ],
   "source": [
    "for x in range(2, 10):\n",
    "    if x == 5:\n",
    "        continue\n",
    "    print(x)"
   ]
  },
  {
   "cell_type": "markdown",
   "id": "66a6e83d",
   "metadata": {},
   "source": [
    "The loop skips printing 5 and continues with the next iteration.\n",
    "\n",
    "**Example:**"
   ]
  },
  {
   "cell_type": "code",
   "execution_count": 4,
   "id": "c5fca6ed",
   "metadata": {},
   "outputs": [
    {
     "name": "stdout",
     "output_type": "stream",
     "text": [
      "1 is odd.\n",
      "2 is even, skipping.\n",
      "3 is odd.\n",
      "4 is even, skipping.\n",
      "5 is odd.\n",
      "6 is even, skipping.\n",
      "7 is odd.\n",
      "8 is even, skipping.\n",
      "9 is odd.\n"
     ]
    }
   ],
   "source": [
    "numbers = [1, 2, 3, 4, 5, 6, 7, 8, 9]\n",
    "\n",
    "for number in numbers:\n",
    "    if number % 2 == 0:\n",
    "        print(f\"{number} is even, skipping.\")\n",
    "        continue  \n",
    "    print(f\"{number} is odd.\")"
   ]
  },
  {
   "cell_type": "markdown",
   "id": "3cb4e2f7",
   "metadata": {},
   "source": [
    "- In this example, the loop skips the even numbers.\n",
    "\n",
    "### Else in For Loop\n",
    "An else block can be added to a for loop. The else block is executed only when the loop completes normally (without being interrupted by a break statement). This feature is useful for handling cases like \"item not found\" during searches.\n",
    "\n",
    "**Example (No Break):**"
   ]
  },
  {
   "cell_type": "code",
   "execution_count": 6,
   "id": "aedb255e",
   "metadata": {},
   "outputs": [
    {
     "name": "stdout",
     "output_type": "stream",
     "text": [
      "Did not find any number greater than 5.\n"
     ]
    }
   ],
   "source": [
    "numbers = [1, 2, 3, 4, 5]\n",
    "\n",
    "for number in numbers:\n",
    "    if number > 5:\n",
    "        print(f\"Found a number greater than 5: {number}\")\n",
    "        break\n",
    "else:\n",
    "    print(\"Did not find any number greater than 5.\")"
   ]
  },
  {
   "cell_type": "markdown",
   "id": "c1dbe8fa",
   "metadata": {},
   "source": [
    "**Example (With Break):**"
   ]
  },
  {
   "cell_type": "code",
   "execution_count": 11,
   "id": "b6259bb0",
   "metadata": {},
   "outputs": [
    {
     "name": "stdout",
     "output_type": "stream",
     "text": [
      "Found number 3, breaking the loop.\n"
     ]
    }
   ],
   "source": [
    "numbers = [1, 2, 3, 4, 5]\n",
    "\n",
    "for number in numbers:\n",
    "    if number == 3:\n",
    "        print(\"Found number 3, breaking the loop.\")\n",
    "        break\n",
    "else:\n",
    "    print(\"This will not be printed since the loop was broken.\")"
   ]
  },
  {
   "cell_type": "markdown",
   "id": "8e6728cf",
   "metadata": {},
   "source": [
    "### Nested For Loop\n",
    "A nested for loop refers to a for loop inside another for loop. This is useful for iterating over multi-dimensional structures (like lists of lists).\n",
    "\n",
    "**Example:**"
   ]
  },
  {
   "cell_type": "code",
   "execution_count": 12,
   "id": "52e0a6b0",
   "metadata": {},
   "outputs": [
    {
     "name": "stdout",
     "output_type": "stream",
     "text": [
      "0 0\n",
      "0 1\n",
      "0 2\n",
      "0 3\n",
      "1 0\n",
      "1 1\n",
      "1 2\n",
      "1 3\n",
      "2 0\n",
      "2 1\n",
      "2 2\n",
      "2 3\n",
      "3 0\n",
      "3 1\n",
      "3 2\n",
      "3 3\n"
     ]
    }
   ],
   "source": [
    "for x in range(4):\n",
    "    for y in range(4):\n",
    "        print(x, y)"
   ]
  },
  {
   "cell_type": "markdown",
   "id": "4d53b6b2",
   "metadata": {},
   "source": [
    "**Example with Matrix:**"
   ]
  },
  {
   "cell_type": "code",
   "execution_count": 13,
   "id": "d8f92a59",
   "metadata": {},
   "outputs": [
    {
     "name": "stdout",
     "output_type": "stream",
     "text": [
      "1 2 3 \n",
      "4 5 6 \n",
      "7 8 9 \n"
     ]
    }
   ],
   "source": [
    "matrix = [\n",
    "    [1, 2, 3],\n",
    "    [4, 5, 6],\n",
    "    [7, 8, 9]\n",
    "]\n",
    "\n",
    "for row in matrix:\n",
    "    for element in row:\n",
    "        print(element, end=' ')\n",
    "    print()  # Print new line after each row"
   ]
  },
  {
   "cell_type": "markdown",
   "id": "ddbca8ce",
   "metadata": {},
   "source": [
    "- The outer loop iterates through each row (a list), and the inner loop iterates through each element in the row."
   ]
  },
  {
   "cell_type": "markdown",
   "id": "7d7a2c19",
   "metadata": {},
   "source": [
    "### The pass Statement\n",
    "The pass statement is used as a placeholder where you do not want to perform any action but need to have a syntactically valid loop structure.\n",
    "\n",
    "**Example:**"
   ]
  },
  {
   "cell_type": "code",
   "execution_count": 14,
   "id": "1917cb20",
   "metadata": {},
   "outputs": [
    {
     "name": "stdout",
     "output_type": "stream",
     "text": [
      "Loop completed.\n"
     ]
    }
   ],
   "source": [
    "numbers = [1, 2, 3, 4, 5]\n",
    "\n",
    "for number in numbers:\n",
    "    pass\n",
    "\n",
    "print(\"Loop completed.\")"
   ]
  },
  {
   "cell_type": "markdown",
   "id": "e867a31f",
   "metadata": {},
   "source": [
    "**Example (With Condition):**"
   ]
  },
  {
   "cell_type": "code",
   "execution_count": 15,
   "id": "68779080",
   "metadata": {},
   "outputs": [
    {
     "name": "stdout",
     "output_type": "stream",
     "text": [
      "1 is odd.\n",
      "3 is odd.\n",
      "5 is odd.\n"
     ]
    }
   ],
   "source": [
    "numbers = [1, 2, 3, 4, 5]\n",
    "\n",
    "for number in numbers:\n",
    "    if number % 2 == 0:\n",
    "        pass  # Placeholder for future code\n",
    "    else:\n",
    "        print(f\"{number} is odd.\")"
   ]
  },
  {
   "cell_type": "markdown",
   "id": "3874b594",
   "metadata": {},
   "source": [
    "Loops are essential for repetitive tasks and iterating over data structures. By mastering for loops, break, continue, and pass statements, you can write efficient and flexible code."
   ]
  }
 ],
 "metadata": {
  "kernelspec": {
   "display_name": "Python 3 (ipykernel)",
   "language": "python",
   "name": "python3"
  },
  "language_info": {
   "codemirror_mode": {
    "name": "ipython",
    "version": 3
   },
   "file_extension": ".py",
   "mimetype": "text/x-python",
   "name": "python",
   "nbconvert_exporter": "python",
   "pygments_lexer": "ipython3",
   "version": "3.11.5"
  }
 },
 "nbformat": 4,
 "nbformat_minor": 5
}
