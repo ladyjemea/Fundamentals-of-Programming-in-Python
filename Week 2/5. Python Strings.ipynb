{
 "cells": [
  {
   "cell_type": "markdown",
   "id": "e6daa291",
   "metadata": {},
   "source": [
    "<img src=\"LaeCodes.png\" \n",
    "align=\"center\" \n",
    "width=\"100\" />"
   ]
  },
  {
   "cell_type": "markdown",
   "id": "365f860a",
   "metadata": {},
   "source": [
    "# Python Strings (Introduction)\n",
    "\n",
    "Strings in Python are sequences of characters used to represent text. They are enclosed in either single (') or double (\") quotation marks.\n",
    "\n",
    "**Examples:**"
   ]
  },
  {
   "cell_type": "code",
   "execution_count": 2,
   "id": "c01f2579",
   "metadata": {},
   "outputs": [
    {
     "data": {
      "text/plain": [
       "\"Hello, sorry you can't come\""
      ]
     },
     "execution_count": 2,
     "metadata": {},
     "output_type": "execute_result"
    }
   ],
   "source": [
    "'Hello'\n",
    "\"Hello\"\n",
    "\"Hello, sorry you can't come\""
   ]
  },
  {
   "cell_type": "markdown",
   "id": "e0bd5766",
   "metadata": {},
   "source": [
    "Strings can be assigned to variables for easier reuse:"
   ]
  },
  {
   "cell_type": "code",
   "execution_count": 3,
   "id": "b37da09f",
   "metadata": {},
   "outputs": [
    {
     "name": "stdout",
     "output_type": "stream",
     "text": [
      "Hi, my name is Jane and I'm 56 years old\n"
     ]
    }
   ],
   "source": [
    "name = \"Jane\"\n",
    "introduction = \"Hi, my name is Jane and I'm 56 years old\"\n",
    "print(introduction)"
   ]
  },
  {
   "cell_type": "markdown",
   "id": "b5cf6eb9",
   "metadata": {},
   "source": [
    "### Multiline Strings\n",
    "\n",
    "You can create multiline strings by enclosing the text in triple single quotes (''') or triple double quotes (\"\"\"):"
   ]
  },
  {
   "cell_type": "code",
   "execution_count": 4,
   "id": "aab9db05",
   "metadata": {},
   "outputs": [],
   "source": [
    "text = \"\"\"\n",
    "Lorem ipsum dolor sit amet, consectetur adipiscing elit.\n",
    "Praesent facilisis dui enim, eu interdum dolor ornare eu.\n",
    "\"\"\""
   ]
  },
  {
   "cell_type": "markdown",
   "id": "0eeb8c19",
   "metadata": {},
   "source": [
    "### Escape Characters\n",
    "Escape characters are used to insert special characters in a string. Common escape sequences include:\n",
    "\n",
    "\\n: Inserts a new line. <br>\n",
    "\\t: Inserts a tab space.\n",
    "    \n",
    "**Example:**"
   ]
  },
  {
   "cell_type": "code",
   "execution_count": 2,
   "id": "6c2aa3dd",
   "metadata": {},
   "outputs": [
    {
     "name": "stdout",
     "output_type": "stream",
     "text": [
      "Hi, my name is Jane \n",
      " and I'm 56 years old\n"
     ]
    }
   ],
   "source": [
    "print(\"Hi, my name is Jane \\n and I'm 56 years old\")  # Newline"
   ]
  }
 ],
 "metadata": {
  "kernelspec": {
   "display_name": "Python 3 (ipykernel)",
   "language": "python",
   "name": "python3"
  },
  "language_info": {
   "codemirror_mode": {
    "name": "ipython",
    "version": 3
   },
   "file_extension": ".py",
   "mimetype": "text/x-python",
   "name": "python",
   "nbconvert_exporter": "python",
   "pygments_lexer": "ipython3",
   "version": "3.11.5"
  }
 },
 "nbformat": 4,
 "nbformat_minor": 5
}
