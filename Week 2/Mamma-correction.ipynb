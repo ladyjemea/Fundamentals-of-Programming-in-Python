{
 "cells": [
  {
   "cell_type": "markdown",
   "id": "f38d38ed",
   "metadata": {},
   "source": [
    "The error you are facing is an issue of the variable naming. You declared the variables 'Str1' and 'Str2' but when you wanted to use them, you used 'str1' and 'str2'. Just pay attention to capetalization."
   ]
  },
  {
   "cell_type": "code",
   "execution_count": 2,
   "id": "40657821",
   "metadata": {},
   "outputs": [
    {
     "name": "stdout",
     "output_type": "stream",
     "text": [
      "I am learning fundamentals of Programming in Python I will like to learn it\n"
     ]
    }
   ],
   "source": [
    "str1 = \"I am learning fundamentals of Programming in Python\"\n",
    "str2 = \"I will like to learn it\"\n",
    "\n",
    "final_str = str1 + \" \" + str2\n",
    "print(final_str)"
   ]
  },
  {
   "cell_type": "markdown",
   "id": "c01c0b17",
   "metadata": {},
   "source": [
    "The next problem is an issue of putting your exclamation point out of the quotes when declaring your string. This is the correction."
   ]
  },
  {
   "cell_type": "code",
   "execution_count": 3,
   "id": "abe11fdb",
   "metadata": {},
   "outputs": [],
   "source": [
    "my_string = \"I am learning fundamentals of Programming in Python I will like to learn it!\""
   ]
  }
 ],
 "metadata": {
  "kernelspec": {
   "display_name": "Python 3 (ipykernel)",
   "language": "python",
   "name": "python3"
  },
  "language_info": {
   "codemirror_mode": {
    "name": "ipython",
    "version": 3
   },
   "file_extension": ".py",
   "mimetype": "text/x-python",
   "name": "python",
   "nbconvert_exporter": "python",
   "pygments_lexer": "ipython3",
   "version": "3.11.5"
  }
 },
 "nbformat": 4,
 "nbformat_minor": 5
}
