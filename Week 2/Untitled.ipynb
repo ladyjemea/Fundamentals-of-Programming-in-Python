{
 "cells": [
  {
   "cell_type": "code",
   "execution_count": 9,
   "id": "034082d8",
   "metadata": {},
   "outputs": [
    {
     "name": "stdout",
     "output_type": "stream",
     "text": [
      "Lae\n"
     ]
    }
   ],
   "source": [
    "name = 'Lae'\n",
    "\n",
    "print(name)"
   ]
  },
  {
   "cell_type": "code",
   "execution_count": 2,
   "id": "c4288824",
   "metadata": {},
   "outputs": [
    {
     "data": {
      "text/plain": [
       "3"
      ]
     },
     "execution_count": 2,
     "metadata": {},
     "output_type": "execute_result"
    }
   ],
   "source": [
    "1+2 "
   ]
  },
  {
   "cell_type": "code",
   "execution_count": 10,
   "id": "57cab528",
   "metadata": {},
   "outputs": [],
   "source": [
    "Name = 'Lady'"
   ]
  },
  {
   "cell_type": "code",
   "execution_count": 11,
   "id": "d11b99c5",
   "metadata": {},
   "outputs": [
    {
     "name": "stdout",
     "output_type": "stream",
     "text": [
      "Lae\n"
     ]
    }
   ],
   "source": [
    "print(name)"
   ]
  },
  {
   "cell_type": "code",
   "execution_count": 7,
   "id": "87637fbd",
   "metadata": {},
   "outputs": [
    {
     "name": "stdout",
     "output_type": "stream",
     "text": [
      "15.0\n"
     ]
    }
   ],
   "source": [
    "score = 30\n",
    "\n",
    "score1 = score/2\n",
    "\n",
    "print(score1)"
   ]
  },
  {
   "cell_type": "code",
   "execution_count": 8,
   "id": "b340087c",
   "metadata": {},
   "outputs": [
    {
     "name": "stdout",
     "output_type": "stream",
     "text": [
      "30\n"
     ]
    }
   ],
   "source": [
    "print(score)"
   ]
  },
  {
   "cell_type": "code",
   "execution_count": null,
   "id": "e8902191",
   "metadata": {},
   "outputs": [],
   "source": [
    "name Name NAME"
   ]
  },
  {
   "cell_type": "code",
   "execution_count": 13,
   "id": "b9f018ce",
   "metadata": {},
   "outputs": [
    {
     "ename": "NameError",
     "evalue": "name '_name' is not defined",
     "output_type": "error",
     "traceback": [
      "\u001b[0;31m---------------------------------------------------------------------------\u001b[0m",
      "\u001b[0;31mNameError\u001b[0m                                 Traceback (most recent call last)",
      "Cell \u001b[0;32mIn[13], line 1\u001b[0m\n\u001b[0;32m----> 1\u001b[0m _name\n\u001b[1;32m      2\u001b[0m name\n\u001b[1;32m      3\u001b[0m Name_\n",
      "\u001b[0;31mNameError\u001b[0m: name '_name' is not defined"
     ]
    }
   ],
   "source": [
    "_name\n",
    "name\n",
    "Name_\n",
    "_name1"
   ]
  },
  {
   "cell_type": "code",
   "execution_count": null,
   "id": "1ff5f78f",
   "metadata": {},
   "outputs": [],
   "source": [
    "first_name = 'Lae'\n",
    "hours_of_work = 30"
   ]
  },
  {
   "cell_type": "code",
   "execution_count": null,
   "id": "334d3267",
   "metadata": {},
   "outputs": [],
   "source": [
    "x = 'Lae'\n",
    "y = 30"
   ]
  },
  {
   "cell_type": "code",
   "execution_count": 14,
   "id": "8e0d184a",
   "metadata": {},
   "outputs": [
    {
     "ename": "NameError",
     "evalue": "name 'firstName' is not defined",
     "output_type": "error",
     "traceback": [
      "\u001b[0;31m---------------------------------------------------------------------------\u001b[0m",
      "\u001b[0;31mNameError\u001b[0m                                 Traceback (most recent call last)",
      "Cell \u001b[0;32mIn[14], line 1\u001b[0m\n\u001b[0;32m----> 1\u001b[0m firstName\n",
      "\u001b[0;31mNameError\u001b[0m: name 'firstName' is not defined"
     ]
    }
   ],
   "source": [
    "firstName"
   ]
  },
  {
   "cell_type": "code",
   "execution_count": 1,
   "id": "ac373051",
   "metadata": {},
   "outputs": [
    {
     "ename": "SyntaxError",
     "evalue": "invalid syntax (2269407512.py, line 4)",
     "output_type": "error",
     "traceback": [
      "\u001b[0;36m  Cell \u001b[0;32mIn[1], line 4\u001b[0;36m\u001b[0m\n\u001b[0;31m    in\u001b[0m\n\u001b[0m    ^\u001b[0m\n\u001b[0;31mSyntaxError\u001b[0m\u001b[0;31m:\u001b[0m invalid syntax\n"
     ]
    }
   ],
   "source": [
    "class_name\n",
    "range1\n",
    "for_\n",
    "in"
   ]
  },
  {
   "cell_type": "code",
   "execution_count": null,
   "id": "c5a3adc5",
   "metadata": {},
   "outputs": [],
   "source": [
    "name\n",
    "Name\n",
    "NAME\n",
    "_name"
   ]
  },
  {
   "cell_type": "code",
   "execution_count": 6,
   "id": "a92a85af",
   "metadata": {},
   "outputs": [],
   "source": [
    "first_name2 = 'George'"
   ]
  },
  {
   "cell_type": "code",
   "execution_count": 3,
   "id": "104633f2",
   "metadata": {},
   "outputs": [
    {
     "ename": "NameError",
     "evalue": "name 'age' is not defined",
     "output_type": "error",
     "traceback": [
      "\u001b[0;31m---------------------------------------------------------------------------\u001b[0m",
      "\u001b[0;31mNameError\u001b[0m                                 Traceback (most recent call last)",
      "Cell \u001b[0;32mIn[3], line 1\u001b[0m\n\u001b[0;32m----> 1\u001b[0m age\n",
      "\u001b[0;31mNameError\u001b[0m: name 'age' is not defined"
     ]
    }
   ],
   "source": [
    "age# = 67"
   ]
  },
  {
   "cell_type": "code",
   "execution_count": null,
   "id": "919d1817",
   "metadata": {},
   "outputs": [],
   "source": [
    "last_name = 'value'\n",
    "age\n",
    "school\n",
    "town"
   ]
  },
  {
   "cell_type": "code",
   "execution_count": 7,
   "id": "e7943610",
   "metadata": {},
   "outputs": [
    {
     "ename": "SyntaxError",
     "evalue": "invalid syntax (382073268.py, line 1)",
     "output_type": "error",
     "traceback": [
      "\u001b[0;36m  Cell \u001b[0;32mIn[7], line 1\u001b[0;36m\u001b[0m\n\u001b[0;31m    else = 'this is a variable'\u001b[0m\n\u001b[0m    ^\u001b[0m\n\u001b[0;31mSyntaxError\u001b[0m\u001b[0;31m:\u001b[0m invalid syntax\n"
     ]
    }
   ],
   "source": [
    "else = 'this is a variable'\n",
    "if\n",
    "None"
   ]
  },
  {
   "cell_type": "code",
   "execution_count": 12,
   "id": "d1f5354b",
   "metadata": {},
   "outputs": [
    {
     "name": "stdout",
     "output_type": "stream",
     "text": [
      "35\n"
     ]
    }
   ],
   "source": [
    "age = str(35)\n",
    "\n",
    "print(age)"
   ]
  },
  {
   "cell_type": "code",
   "execution_count": 19,
   "id": "dde894b0",
   "metadata": {},
   "outputs": [
    {
     "name": "stdout",
     "output_type": "stream",
     "text": [
      "22\n",
      "<class 'int'>\n"
     ]
    },
    {
     "data": {
      "text/plain": [
       "24"
      ]
     },
     "execution_count": 19,
     "metadata": {},
     "output_type": "execute_result"
    }
   ],
   "source": [
    "age = 22\n",
    "\n",
    "print(str(age))\n",
    "\n",
    "print(type(age))\n",
    "\n",
    "\n",
    "age + 2"
   ]
  },
  {
   "cell_type": "code",
   "execution_count": null,
   "id": "7af0ac2c",
   "metadata": {},
   "outputs": [],
   "source": [
    "dateOfBirth =\n",
    "date_of_birth =\n",
    "DateOfBirth ="
   ]
  },
  {
   "cell_type": "code",
   "execution_count": null,
   "id": "ba8fd81c",
   "metadata": {},
   "outputs": [],
   "source": [
    "age = 15\n",
    "name = 'Pam'\n",
    "score = 20.3"
   ]
  },
  {
   "cell_type": "code",
   "execution_count": null,
   "id": "66941497",
   "metadata": {},
   "outputs": [],
   "source": [
    "\"Hello, sorry you can't come\""
   ]
  },
  {
   "cell_type": "code",
   "execution_count": 21,
   "id": "52c833a6",
   "metadata": {},
   "outputs": [
    {
     "data": {
      "text/plain": [
       "\"Hello sorry you can't come\""
      ]
     },
     "execution_count": 21,
     "metadata": {},
     "output_type": "execute_result"
    }
   ],
   "source": [
    "\"Hello sorry you can't come\""
   ]
  },
  {
   "cell_type": "code",
   "execution_count": 22,
   "id": "4ab5230d",
   "metadata": {},
   "outputs": [
    {
     "ename": "SyntaxError",
     "evalue": "invalid syntax (1494273584.py, line 1)",
     "output_type": "error",
     "traceback": [
      "\u001b[0;36m  Cell \u001b[0;32mIn[22], line 1\u001b[0;36m\u001b[0m\n\u001b[0;31m    \"he said and i quote \"this is my house!\"\"\u001b[0m\n\u001b[0m                          ^\u001b[0m\n\u001b[0;31mSyntaxError\u001b[0m\u001b[0;31m:\u001b[0m invalid syntax\n"
     ]
    }
   ],
   "source": [
    "\"he said and i quote \"this is my house!\"\""
   ]
  },
  {
   "cell_type": "code",
   "execution_count": 23,
   "id": "c943bc65",
   "metadata": {},
   "outputs": [
    {
     "data": {
      "text/plain": [
       "'\\nthis one takes \\'single\\' and \"double quotes\"\\nand it can me on multiple lines \\n'"
      ]
     },
     "execution_count": 23,
     "metadata": {},
     "output_type": "execute_result"
    }
   ],
   "source": [
    "\"\"\"\n",
    "this one takes 'single' and \"double quotes\"\n",
    "and it can me on multiple lines \n",
    "\"\"\""
   ]
  },
  {
   "cell_type": "code",
   "execution_count": 24,
   "id": "ec01a559",
   "metadata": {},
   "outputs": [
    {
     "ename": "TypeError",
     "evalue": "%d format: a real number is required, not str",
     "output_type": "error",
     "traceback": [
      "\u001b[0;31m---------------------------------------------------------------------------\u001b[0m",
      "\u001b[0;31mTypeError\u001b[0m                                 Traceback (most recent call last)",
      "Cell \u001b[0;32mIn[24], line 3\u001b[0m\n\u001b[1;32m      1\u001b[0m name \u001b[38;5;241m=\u001b[39m \u001b[38;5;124m\"\u001b[39m\u001b[38;5;124mBob\u001b[39m\u001b[38;5;124m\"\u001b[39m \u001b[38;5;66;03m#string\u001b[39;00m\n\u001b[1;32m      2\u001b[0m age \u001b[38;5;241m=\u001b[39m \u001b[38;5;241m30\u001b[39m \u001b[38;5;66;03m#int\u001b[39;00m\n\u001b[0;32m----> 3\u001b[0m formatted_string \u001b[38;5;241m=\u001b[39m \u001b[38;5;124m\"\u001b[39m\u001b[38;5;124mMy name is \u001b[39m\u001b[38;5;132;01m%s\u001b[39;00m\u001b[38;5;124m and I am \u001b[39m\u001b[38;5;132;01m%d\u001b[39;00m\u001b[38;5;124m years old.\u001b[39m\u001b[38;5;124m\"\u001b[39m \u001b[38;5;241m%\u001b[39m (age, name)\n\u001b[1;32m      4\u001b[0m \u001b[38;5;28mprint\u001b[39m(formatted_string)\n",
      "\u001b[0;31mTypeError\u001b[0m: %d format: a real number is required, not str"
     ]
    }
   ],
   "source": [
    "name = \"Bob\" #string\n",
    "age = 30 #int\n",
    "formatted_string = \"My name is %s and I am %d years old.\" % (age, name)\n",
    "print(formatted_string)  # Output: My name is Bob and I am 30 years old."
   ]
  },
  {
   "cell_type": "code",
   "execution_count": 5,
   "id": "87965550",
   "metadata": {},
   "outputs": [
    {
     "name": "stdout",
     "output_type": "stream",
     "text": [
      "Hello \\ World\n"
     ]
    }
   ],
   "source": [
    "print(\"Hello \\ World\")"
   ]
  },
  {
   "cell_type": "code",
   "execution_count": null,
   "id": "1ab3fba9",
   "metadata": {},
   "outputs": [],
   "source": [
    " x == 3\n",
    "="
   ]
  },
  {
   "cell_type": "code",
   "execution_count": null,
   "id": "31a2c1db",
   "metadata": {},
   "outputs": [],
   "source": [
    "x = 10\n",
    "\n",
    "x = x + 3\n",
    "\n",
    "# Add and assign\n",
    "x += 3  # x = 13"
   ]
  },
  {
   "cell_type": "code",
   "execution_count": null,
   "id": "d794b981",
   "metadata": {},
   "outputs": [],
   "source": [
    "x = 3\n",
    "y = 4\n",
    "\n",
    "x != y = True"
   ]
  },
  {
   "cell_type": "code",
   "execution_count": null,
   "id": "b31818dd",
   "metadata": {},
   "outputs": [],
   "source": [
    "dob = input('Enter your year of birth: ')\n",
    "current_year = 2024\n",
    "age = current_year - int(dob)\n",
    "print(age)"
   ]
  },
  {
   "cell_type": "code",
   "execution_count": 2,
   "id": "520f1031",
   "metadata": {},
   "outputs": [
    {
     "name": "stdout",
     "output_type": "stream",
     "text": [
      "x is positive\n",
      "found it\n"
     ]
    }
   ],
   "source": [
    "x = 10\n",
    "\n",
    "if x > 0: #true\n",
    "    print(\"x is positive\")\n",
    "    if x == 5: #false\n",
    "        print('x is 5')\n",
    "        print('if false, skip')\n",
    "    if x == 10: #true\n",
    "        print('found it')"
   ]
  },
  {
   "cell_type": "code",
   "execution_count": null,
   "id": "0bfec4de",
   "metadata": {},
   "outputs": [],
   "source": []
  }
 ],
 "metadata": {
  "kernelspec": {
   "display_name": "Python 3 (ipykernel)",
   "language": "python",
   "name": "python3"
  },
  "language_info": {
   "codemirror_mode": {
    "name": "ipython",
    "version": 3
   },
   "file_extension": ".py",
   "mimetype": "text/x-python",
   "name": "python",
   "nbconvert_exporter": "python",
   "pygments_lexer": "ipython3",
   "version": "3.11.5"
  }
 },
 "nbformat": 4,
 "nbformat_minor": 5
}
