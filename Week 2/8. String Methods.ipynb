{
 "cells": [
  {
   "cell_type": "markdown",
   "id": "56e7bd91",
   "metadata": {},
   "source": [
    "<img src=\"LaeCodes.png\" \n",
    "     align=\"center\" \n",
    "     width=\"100\" />"
   ]
  },
  {
   "cell_type": "markdown",
   "id": "e2fd8f08",
   "metadata": {},
   "source": [
    "# String Methods\n",
    "\n",
    "Python provides a wide range of built-in string methods that allow you to manipulate strings easily.\n",
    "\n",
    "### Common String Methods:\n",
    "\n",
    "1. **len():** <br>\n",
    "The len() function returns the length of a string, including spaces and punctuation."
   ]
  },
  {
   "cell_type": "code",
   "execution_count": 1,
   "id": "094305bb",
   "metadata": {},
   "outputs": [
    {
     "name": "stdout",
     "output_type": "stream",
     "text": [
      "13\n"
     ]
    }
   ],
   "source": [
    "my_string = \"Hello, World!\"\n",
    "print(len(my_string))  # Output: 13"
   ]
  },
  {
   "cell_type": "markdown",
   "id": "ca59ab87",
   "metadata": {},
   "source": [
    "2. **Case Conversion:** <br>\n",
    "- **upper()**: Converts the string to uppercase. <br>\n",
    "- **lower()**: Converts the string to lowercase. <br>\n",
    "- **capitalize()**: Capitalizes the first character of the string. <br>\n",
    "- **title()**: Converts the first character of each word to uppercase. <br>"
   ]
  },
  {
   "cell_type": "code",
   "execution_count": 2,
   "id": "f77cd68a",
   "metadata": {},
   "outputs": [
    {
     "name": "stdout",
     "output_type": "stream",
     "text": [
      "PYTHON PROGRAMMING IS GOOD\n",
      "python programming is good\n",
      "Python programming is good\n",
      "Python Programming Is Good\n"
     ]
    }
   ],
   "source": [
    "text = \"python programming is good\"\n",
    "print(text.upper())      # Output: PYTHON PROGRAMMING IS GOOD\n",
    "print(text.lower())      # Output: python programming is good\n",
    "print(text.capitalize()) # Output: Python programming is good\n",
    "print(text.title())      # Output: Python Programming Is Good"
   ]
  },
  {
   "cell_type": "markdown",
   "id": "f4cb4563",
   "metadata": {},
   "source": [
    "3. **Whitespace Removal:** <br>\n",
    "- **strip()**: Removes spaces from both sides. <br>\n",
    "- **lstrip()**: Removes spaces from the left. <br>\n",
    "- **rstrip()**: Removes spaces from the right. <br>"
   ]
  },
  {
   "cell_type": "code",
   "execution_count": 3,
   "id": "efd8626a",
   "metadata": {},
   "outputs": [
    {
     "name": "stdout",
     "output_type": "stream",
     "text": [
      "Hello, World!\n"
     ]
    }
   ],
   "source": [
    "text = \"  Hello, World!  \"\n",
    "print(text.strip())   # Output: Hello, World!"
   ]
  },
  {
   "cell_type": "markdown",
   "id": "f31b5c2d",
   "metadata": {},
   "source": [
    "4. **Replace Substring:** <br>\n",
    "The **replace()** method replaces occurrences of a substring with another substring."
   ]
  },
  {
   "cell_type": "code",
   "execution_count": 4,
   "id": "6fd6c4c3",
   "metadata": {},
   "outputs": [
    {
     "name": "stdout",
     "output_type": "stream",
     "text": [
      "I love Python\n"
     ]
    }
   ],
   "source": [
    "text = \"I love JavaScript\"\n",
    "modified_text = text.replace(\"JavaScript\", \"Python\")\n",
    "print(modified_text)  # Output: I love Python"
   ]
  },
  {
   "cell_type": "markdown",
   "id": "df213dc7",
   "metadata": {},
   "source": [
    "5. **Find and Index Substring:** <br>\n",
    "- **find()**: Returns the index of the first occurrence of the substring (or **-1** if not found). <br>\n",
    "- **index()**: Similar to **find()**, but raises a ValueError if the substring is not found."
   ]
  },
  {
   "cell_type": "code",
   "execution_count": 3,
   "id": "3a74e10c",
   "metadata": {},
   "outputs": [
    {
     "name": "stdout",
     "output_type": "stream",
     "text": [
      "7\n",
      "0\n"
     ]
    }
   ],
   "source": [
    "sentence = \"I love Python\"\n",
    "print(sentence.find(\"Python\"))  # Output: 7\n",
    "print(sentence.index(\"I\"))      # Output: 0"
   ]
  },
  {
   "cell_type": "markdown",
   "id": "4c2759f2",
   "metadata": {},
   "source": [
    "6. **Counting Substring Occurrences:** <br>\n",
    "The **count()** method returns the number of times a substring occurs in a string. The search is case-sensitive."
   ]
  },
  {
   "cell_type": "code",
   "execution_count": 10,
   "id": "a7bf5fdf",
   "metadata": {},
   "outputs": [
    {
     "name": "stdout",
     "output_type": "stream",
     "text": [
      "2\n",
      "4\n"
     ]
    }
   ],
   "source": [
    "sentence = \"I love Python because Python is easy to learn\"\n",
    "print(sentence.count(\"Python\"))  # Output: 2\n",
    "print(sentence.count(\"o\"))      # Output: 1"
   ]
  },
  {
   "cell_type": "markdown",
   "id": "0b59ab3b",
   "metadata": {},
   "source": [
    "7. **Check Start and End of a String:** <br>\n",
    "**startswith()**: Checks if a string starts with a specified substring and returns True or False. <br>\n",
    "**endswith()**: Checks if a string ends with a specified substring and returns True or False."
   ]
  },
  {
   "cell_type": "code",
   "execution_count": 7,
   "id": "d9cdef41",
   "metadata": {},
   "outputs": [
    {
     "name": "stdout",
     "output_type": "stream",
     "text": [
      "True\n",
      "False\n"
     ]
    }
   ],
   "source": [
    "text = \"Hello, World!\"\n",
    "print(text.startswith(\"Hello\"))  # Output: True\n",
    "print(text.endswith(\"World\"))    # Output: False"
   ]
  },
  {
   "cell_type": "markdown",
   "id": "b4a6b304",
   "metadata": {},
   "source": [
    "8. **Splitting and Joining Strings:** <br>\n",
    "**split()**: Splits a string into a list of substrings, using a specified delimiter (default is whitespace). <br>\n",
    "**join()**: Joins elements of a list into a single string, using a specified delimiter."
   ]
  },
  {
   "cell_type": "code",
   "execution_count": 8,
   "id": "48f48605",
   "metadata": {},
   "outputs": [
    {
     "name": "stdout",
     "output_type": "stream",
     "text": [
      "['I', 'love', 'Python', 'programming']\n",
      "I love Python programming\n"
     ]
    }
   ],
   "source": [
    "sentence = \"I love Python programming\"\n",
    "words = sentence.split(\" \")\n",
    "print(words)  # Outputs: ['I', 'love', 'Python', 'programming']\n",
    "\n",
    "joined_sentence = \" \".join(words)\n",
    "print(joined_sentence)  # Output: I love Python programming"
   ]
  },
  {
   "cell_type": "markdown",
   "id": "d8a83035",
   "metadata": {},
   "source": [
    "9. **String Immutability:** <br>\n",
    "Strings in Python are immutable, which means that once a string is created, its contents cannot be changed. If you want to modify a string, you need to create a new one. <br>\n",
    "\n",
    "**Example:**"
   ]
  },
  {
   "cell_type": "code",
   "execution_count": 9,
   "id": "e8ff148d",
   "metadata": {},
   "outputs": [
    {
     "ename": "TypeError",
     "evalue": "'str' object does not support item assignment",
     "output_type": "error",
     "traceback": [
      "\u001b[0;31m---------------------------------------------------------------------------\u001b[0m",
      "\u001b[0;31mTypeError\u001b[0m                                 Traceback (most recent call last)",
      "Cell \u001b[0;32mIn[9], line 3\u001b[0m\n\u001b[1;32m      1\u001b[0m text \u001b[38;5;241m=\u001b[39m \u001b[38;5;124m\"\u001b[39m\u001b[38;5;124mHello\u001b[39m\u001b[38;5;124m\"\u001b[39m\n\u001b[1;32m      2\u001b[0m \u001b[38;5;66;03m# This will raise an error\u001b[39;00m\n\u001b[0;32m----> 3\u001b[0m text[\u001b[38;5;241m0\u001b[39m] \u001b[38;5;241m=\u001b[39m \u001b[38;5;124m\"\u001b[39m\u001b[38;5;124mJ\u001b[39m\u001b[38;5;124m\"\u001b[39m  \u001b[38;5;66;03m# Strings are immutable\u001b[39;00m\n\u001b[1;32m      5\u001b[0m \u001b[38;5;66;03m# Correct way: Create a new string\u001b[39;00m\n\u001b[1;32m      6\u001b[0m new_text \u001b[38;5;241m=\u001b[39m \u001b[38;5;124m\"\u001b[39m\u001b[38;5;124mJ\u001b[39m\u001b[38;5;124m\"\u001b[39m \u001b[38;5;241m+\u001b[39m text[\u001b[38;5;241m1\u001b[39m:]\n",
      "\u001b[0;31mTypeError\u001b[0m: 'str' object does not support item assignment"
     ]
    }
   ],
   "source": [
    "text = \"Hello\"\n",
    "# This will raise an error\n",
    "text[0] = \"J\"  # Strings are immutable\n",
    "\n",
    "# Correct way: Create a new string\n",
    "new_text = \"J\" + text[1:]\n",
    "print(new_text)  # Output: Jello"
   ]
  },
  {
   "cell_type": "markdown",
   "id": "30bbef5d",
   "metadata": {},
   "source": [
    "New strings can be created by modifying existing ones through concatenation. This also optimizes memory usage since parts of the original string can be reuse\n",
    "\n",
    "### Conclusion on String Methods\n",
    "These are some of the most commonly used string methods in Python. They allow you to modify, search, and manipulate strings in various ways. As you progress in the course, you'll likely use many of these methods frequently."
   ]
  }
 ],
 "metadata": {
  "kernelspec": {
   "display_name": "Python 3 (ipykernel)",
   "language": "python",
   "name": "python3"
  },
  "language_info": {
   "codemirror_mode": {
    "name": "ipython",
    "version": 3
   },
   "file_extension": ".py",
   "mimetype": "text/x-python",
   "name": "python",
   "nbconvert_exporter": "python",
   "pygments_lexer": "ipython3",
   "version": "3.11.5"
  }
 },
 "nbformat": 4,
 "nbformat_minor": 5
}
