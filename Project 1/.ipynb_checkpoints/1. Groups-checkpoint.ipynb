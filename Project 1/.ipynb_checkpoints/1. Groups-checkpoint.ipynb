{
 "cells": [
  {
   "cell_type": "markdown",
   "id": "cfd72804",
   "metadata": {},
   "source": [
    "<img src=\"LaeCodes.png\" \n",
    "     align=\"center\" \n",
    "     width=\"100\" />"
   ]
  },
  {
   "cell_type": "markdown",
   "id": "681a98c9",
   "metadata": {},
   "source": [
    "### Automated File Organizer Groups\n",
    "\n",
    "**Group 1:**\n",
    "- Alain\n",
    "- Esther\n",
    "- Sapita\n",
    "\n",
    "**Group 2:**\n",
    "- Charles\n",
    "- Maiva\n",
    "- Damien\n",
    "- Fru-Awah\n",
    "\n",
    "**Group 3:**\n",
    "- Neville\n",
    "- Sandra\n",
    "- Gael\n",
    "- Hope\n",
    "\n",
    "**Group 4:**\n",
    "- Iyan\n",
    "- Annita\n",
    "- Serge\n",
    "- Clodia\n",
    "\n",
    "**Group 5:**\n",
    "- Annabel\n",
    "- Noeline\n",
    "- Melissa"
   ]
  }
 ],
 "metadata": {
  "kernelspec": {
   "display_name": "Python 3 (ipykernel)",
   "language": "python",
   "name": "python3"
  },
  "language_info": {
   "codemirror_mode": {
    "name": "ipython",
    "version": 3
   },
   "file_extension": ".py",
   "mimetype": "text/x-python",
   "name": "python",
   "nbconvert_exporter": "python",
   "pygments_lexer": "ipython3",
   "version": "3.11.5"
  }
 },
 "nbformat": 4,
 "nbformat_minor": 5
}
