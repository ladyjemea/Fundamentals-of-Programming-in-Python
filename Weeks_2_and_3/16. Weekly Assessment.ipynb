{
 "cells": [
  {
   "cell_type": "markdown",
   "id": "ab88a619",
   "metadata": {},
   "source": [
    "<img src=\"LaeCodes.png\" \n",
    "     align=\"center\" \n",
    "     width=\"100\" />"
   ]
  },
  {
   "cell_type": "markdown",
   "id": "e7a2f1ba",
   "metadata": {},
   "source": [
    "# Weekly Assessment\n",
    "\n",
    "1) What are variables?\n",
    "- Define variables in Python.\n",
    "- Declare 4 variables and assign values of different types to them.\n",
    "\n",
    "2) Name 3 data types in Python and use them in variable declarations.\n",
    "- List the data types and declare variables using those data types.\n",
    "\n",
    "3) What is the Modulus operator?\n",
    "- Explain the Modulus operator in Python.\n",
    "- Use it in a mathematical statement to find the remainder of a division.\n",
    "\n",
    "4) Print a multiline string assigned to a variable.\n",
    "\n",
    "5) String Manipulations: <br>\n",
    "Given the strings:\n",
    "- \"I am learning Fundamentals of Programming in Python\"\n",
    "- \"I will like to learn it\"\n",
    "- Assign both strings to variables.\n",
    "- Concatenate both strings and print the result.\n",
    "- On the first string, what characters are at indices 16 and -10?\n",
    "- On the second string, what characters are at indices 11 and -8?\n",
    "\n",
    "6) Slicing Strings:\n",
    "- From the first string, what substring is returned with [3:23:2]?\n",
    "- From the second string, what substring is returned with [-18:-3]?\n",
    "- What does the first string return with [::]?\n",
    "\n",
    "7) String Formatting:\n",
    "- Format the first string, replacing \"Fundamentals of Programming in Python\" with \"Python programming\" using both the str.format() method and f-strings.\n",
    "\n",
    "8) Given the string: \"Python programming is good\" <br>\n",
    "Apply the following methods:\n",
    "- len()\n",
    "- capitalize()\n",
    "- rstrip()\n",
    "- isspace()\n",
    "- startswith()\n",
    "- replace() (replace \"good\" with \"easy\")\n",
    "- split() (split the string on the empty space).\n",
    "\n",
    "9) Escape Characters:\n",
    "- Add two escape characters of your choice when printing the above string.\n",
    "\n",
    "10) Write a simple program:\n",
    "- The program should take the name and age of a person as input and display this information on the screen."
   ]
  }
 ],
 "metadata": {
  "kernelspec": {
   "display_name": "Python 3 (ipykernel)",
   "language": "python",
   "name": "python3"
  },
  "language_info": {
   "codemirror_mode": {
    "name": "ipython",
    "version": 3
   },
   "file_extension": ".py",
   "mimetype": "text/x-python",
   "name": "python",
   "nbconvert_exporter": "python",
   "pygments_lexer": "ipython3",
   "version": "3.11.5"
  }
 },
 "nbformat": 4,
 "nbformat_minor": 5
}
