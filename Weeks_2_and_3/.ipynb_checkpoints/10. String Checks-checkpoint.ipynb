{
 "cells": [
  {
   "cell_type": "markdown",
   "id": "7dd0b550",
   "metadata": {},
   "source": [
    "<img src=\"LaeCodes.png\" \n",
    "     align=\"center\" \n",
    "     width=\"100\" />"
   ]
  },
  {
   "cell_type": "markdown",
   "id": "88d89251",
   "metadata": {},
   "source": [
    "# String Checks\n",
    "String checks allow you to verify certain conditions or properties of a string, such as its length, content (whether it contains digits, letters, or whitespace), or how it starts or ends. Below are some common string checks:\n",
    "\n",
    "1. **Checking String Length** <br>\n",
    "You can check the length of a string (i.e., the number of characters it contains, including spaces) using the len() function. <br>\n",
    "\n",
    "**Example:**"
   ]
  },
  {
   "cell_type": "code",
   "execution_count": 1,
   "id": "22a551d4",
   "metadata": {},
   "outputs": [
    {
     "name": "stdout",
     "output_type": "stream",
     "text": [
      "The text has 13 characters\n"
     ]
    }
   ],
   "source": [
    "text = \"I love Python\"\n",
    "length = len(text)\n",
    "\n",
    "print(f\"The text has {length} characters\")  # Output: The text has 12 characters"
   ]
  },
  {
   "cell_type": "markdown",
   "id": "96ea99c4",
   "metadata": {},
   "source": [
    "2. **Checking if a Substring Exists (String Contains)** <br>\n",
    "The in keyword checks whether a specific substring exists within a string. It returns True if the substring is found and False otherwise.\n",
    "\n",
    "**Example:**"
   ]
  },
  {
   "cell_type": "code",
   "execution_count": 2,
   "id": "3ec812b1",
   "metadata": {},
   "outputs": [
    {
     "name": "stdout",
     "output_type": "stream",
     "text": [
      "Substring found!\n"
     ]
    }
   ],
   "source": [
    "text = \"I love Python\"\n",
    "\n",
    "if \"Python\" in text:\n",
    "    print(\"Substring found!\")\n",
    "else:\n",
    "    print(\"Substring not found.\")"
   ]
  },
  {
   "cell_type": "markdown",
   "id": "efae5adc",
   "metadata": {},
   "source": [
    "3. **Checking for Alphanumeric Characters or Digits** <br>\n",
    "- **isalpha()**: Checks if a string contains only alphabetical characters (no digits, spaces, or symbols).\n",
    "- **isdigit()**: Checks if a string contains only numeric digits.\n",
    "\n",
    "**Examples:**"
   ]
  },
  {
   "cell_type": "code",
   "execution_count": 3,
   "id": "28eedcfc",
   "metadata": {},
   "outputs": [
    {
     "name": "stdout",
     "output_type": "stream",
     "text": [
      "String contains only digits.\n",
      "String contains only alphabetical characters.\n"
     ]
    }
   ],
   "source": [
    "text = \"12345\"\n",
    "if text.isdigit():\n",
    "    print(\"String contains only digits.\")  # Output: String contains only digits.\n",
    "\n",
    "text = \"Python\"\n",
    "if text.isalpha():\n",
    "    print(\"String contains only alphabetical characters.\")  # Output: String contains only alphabetical characters."
   ]
  },
  {
   "cell_type": "markdown",
   "id": "3c37d7f1",
   "metadata": {},
   "source": [
    "**Note:** Strings with spaces or symbols will return False for both isalpha() and isdigit().\n",
    "\n",
    "4. **Checking for Whitespace** <br>\n",
    "The isspace() method checks if a string contains only whitespace characters (e.g., spaces, tabs, or newlines).\n",
    "\n",
    "**Example:**"
   ]
  },
  {
   "cell_type": "code",
   "execution_count": 4,
   "id": "6939259b",
   "metadata": {},
   "outputs": [
    {
     "name": "stdout",
     "output_type": "stream",
     "text": [
      "String contains only whitespace.\n"
     ]
    }
   ],
   "source": [
    "text = \"    \"  # A string with only spaces\n",
    "if text.isspace():\n",
    "    print(\"String contains only whitespace.\")  # Output: String contains only whitespace.\n",
    "else:\n",
    "    print(\"String is not empty or contains non-whitespace characters.\")"
   ]
  },
  {
   "cell_type": "markdown",
   "id": "c43aba52",
   "metadata": {},
   "source": [
    "5. **Checking Start and End of a String** <br>\n",
    "- **startswith()**: Checks if a string starts with a particular substring.\n",
    "- **endswith()**: Checks if a string ends with a particular substring.\n",
    "\n",
    "**Example:**"
   ]
  },
  {
   "cell_type": "code",
   "execution_count": 5,
   "id": "ffc00014",
   "metadata": {},
   "outputs": [
    {
     "name": "stdout",
     "output_type": "stream",
     "text": [
      "String starts with 'I'\n",
      "String ends with 'Python!'\n"
     ]
    }
   ],
   "source": [
    "text = \"I love Python!\"\n",
    "if text.startswith(\"I\"):\n",
    "    print(\"String starts with 'I'\")  # Output: String starts with 'I'\n",
    "\n",
    "if text.endswith(\"Python!\"):\n",
    "    print(\"String ends with 'Python!'\")  # Output: String ends with 'Python!'"
   ]
  },
  {
   "cell_type": "markdown",
   "id": "ec0684b2",
   "metadata": {},
   "source": [
    "6. **Checking for Uppercase and Lowercase Characters** <br>\n",
    "- **isupper():** Returns True if all characters in the string are uppercase.\n",
    "- **islower():** Returns True if all characters in the string are lowercase.\n",
    "\n",
    "**Example:**"
   ]
  },
  {
   "cell_type": "code",
   "execution_count": 3,
   "id": "99aafdc1",
   "metadata": {},
   "outputs": [
    {
     "name": "stdout",
     "output_type": "stream",
     "text": [
      "String has a mix of uppercase and lowercase characters.\n"
     ]
    }
   ],
   "source": [
    "text = \"hello\"\n",
    "if text.isupper():\n",
    "    print(\"String is all uppercase.\")\n",
    "elif text.islower():\n",
    "    print(\"String is all lowercase.\")  # Output: String is all lowercase.\n",
    "else:\n",
    "    print(\"String has a mix of uppercase and lowercase characters.\")"
   ]
  }
 ],
 "metadata": {
  "kernelspec": {
   "display_name": "Python 3 (ipykernel)",
   "language": "python",
   "name": "python3"
  },
  "language_info": {
   "codemirror_mode": {
    "name": "ipython",
    "version": 3
   },
   "file_extension": ".py",
   "mimetype": "text/x-python",
   "name": "python",
   "nbconvert_exporter": "python",
   "pygments_lexer": "ipython3",
   "version": "3.11.5"
  }
 },
 "nbformat": 4,
 "nbformat_minor": 5
}
