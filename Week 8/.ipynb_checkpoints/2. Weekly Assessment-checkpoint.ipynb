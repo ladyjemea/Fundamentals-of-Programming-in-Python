{
 "cells": [
  {
   "cell_type": "markdown",
   "id": "58dfb330",
   "metadata": {},
   "source": [
    "<img src=\"LaeCodes.png\" \n",
    "     align=\"center\" \n",
    "     width=\"100\" />"
   ]
  },
  {
   "cell_type": "markdown",
   "id": "c915fc70",
   "metadata": {},
   "source": [
    "**1: Class and Object Creation**\n",
    "- Create a Car class with attributes for brand, model, and year. Add a method to display the car's details.\n",
    "- Instantiate two Car objects and call the method to display their details.\n",
    "\n",
    "**2: Encapsulation**\n",
    "- Add a private attribute price to the Car class.\n",
    "- Implement getter and setter methods for price, ensuring the value is always positive.\n",
    "\n",
    "**3: Inheritance**\n",
    "- Create a parent class Vehicle with an attribute type and a method vehicle_info.\n",
    "- Create child classes Bike and Truck that inherit from Vehicle and add specific attributes.\n",
    "- Override the vehicle_info method in the child classes.\n",
    "\n",
    "**4: Polymorphism**\n",
    "- Define a function that takes a Vehicle object and calls its vehicle_info method.\n",
    "- Test the function with Bike and Truck objects.\n",
    "\n",
    "**5: Abstract Classes**\n",
    "- Create an abstract class Appliance with an abstract method power_consumption.\n",
    "- Create subclasses Fan and Refrigerator that implement power_consumption based on specific attributes.\n",
    "- Instantiate objects of both subclasses and calculate their power consumption.\n"
   ]
  }
 ],
 "metadata": {
  "kernelspec": {
   "display_name": "Python 3 (ipykernel)",
   "language": "python",
   "name": "python3"
  },
  "language_info": {
   "codemirror_mode": {
    "name": "ipython",
    "version": 3
   },
   "file_extension": ".py",
   "mimetype": "text/x-python",
   "name": "python",
   "nbconvert_exporter": "python",
   "pygments_lexer": "ipython3",
   "version": "3.11.5"
  }
 },
 "nbformat": 4,
 "nbformat_minor": 5
}
