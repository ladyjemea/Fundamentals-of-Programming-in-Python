{
 "cells": [
  {
   "cell_type": "markdown",
   "id": "a7269270",
   "metadata": {},
   "source": [
    "<img src=\"LaeCodes.png\" \n",
    "     align=\"center\" \n",
    "     width=\"100\" />"
   ]
  },
  {
   "cell_type": "markdown",
   "id": "e47b5f96",
   "metadata": {},
   "source": [
    "# Modules in Python\n",
    "\n",
    "**What is a Module?**\n",
    "A module in Python is a file containing Python code with a .py extension. Modules can define functions, classes, and variables and may also include runnable code. Python provides both built-in and user-defined modules.\n",
    "\n",
    "**Types of Modules:**\n",
    "1) **Built-in Modules:** Pre-installed with Python (e.g., os, sys, math). <br>\n",
    "2) **User-Defined Modules:** Created by users to suit specific needs.\n",
    "\n",
    "**Why Use Modules?**\n",
    "- Logical organization of code.\n",
    "- Reusability across multiple programs.\n",
    "- Simplifies debugging and maintenance. \n",
    "\n",
    "### Creating and Using Modules\n",
    "**Creating a Module:** <br>\n",
    "Save your Python code in a .py file. For example:"
   ]
  },
  {
   "cell_type": "code",
   "execution_count": 16,
   "id": "f6b0c026",
   "metadata": {},
   "outputs": [],
   "source": [
    "# my_module.py\n",
    "def greet(name):\n",
    "    return f\"Hello, {name}!\"\n",
    "\n",
    "def square(number):\n",
    "    return number ** 2"
   ]
  },
  {
   "cell_type": "markdown",
   "id": "35b3d177",
   "metadata": {},
   "source": [
    "**Importing a Module:** <br>\n",
    "Use the import statement to include a module in your program:"
   ]
  },
  {
   "cell_type": "code",
   "execution_count": 17,
   "id": "f402d204",
   "metadata": {},
   "outputs": [
    {
     "name": "stdout",
     "output_type": "stream",
     "text": [
      "Hello, Alice!\n",
      "16\n"
     ]
    }
   ],
   "source": [
    "# importing my_module created above\n",
    "import my_module\n",
    "\n",
    "print(my_module.greet(\"Alice\"))  # Output: Hello, Alice!\n",
    "print(my_module.square(4))       # Output: 16"
   ]
  },
  {
   "cell_type": "code",
   "execution_count": null,
   "id": "5e7b29b2",
   "metadata": {},
   "outputs": [
    {
     "name": "stdout",
     "output_type": "stream",
     "text": [
      "4.0\n"
     ]
    }
   ],
   "source": [
    "import math\n",
    "print(math.sqrt(16))"
   ]
  },
  {
   "cell_type": "markdown",
   "id": "4b142295",
   "metadata": {},
   "source": [
    "**Importing Specific Attributes:**"
   ]
  },
  {
   "cell_type": "code",
   "execution_count": 1,
   "id": "e56111dd",
   "metadata": {},
   "outputs": [
    {
     "name": "stdout",
     "output_type": "stream",
     "text": [
      "Hello, Bob!\n"
     ]
    }
   ],
   "source": [
    "from my_module import greet\n",
    "\n",
    "print(greet(\"Bob\"))  # Output: Hello, Bob!"
   ]
  },
  {
   "cell_type": "code",
   "execution_count": 2,
   "id": "9ef2d0f0",
   "metadata": {},
   "outputs": [
    {
     "name": "stdout",
     "output_type": "stream",
     "text": [
      "3.141592653589793\n",
      "5.0\n"
     ]
    }
   ],
   "source": [
    "from math import pi, sqrt\n",
    "print(pi)\n",
    "print(sqrt(25))"
   ]
  },
  {
   "cell_type": "markdown",
   "id": "7aaae142",
   "metadata": {},
   "source": [
    "**Importing Everything:**"
   ]
  },
  {
   "cell_type": "code",
   "execution_count": 20,
   "id": "7c5f87a6",
   "metadata": {},
   "outputs": [],
   "source": [
    "from my_module import *"
   ]
  },
  {
   "cell_type": "code",
   "execution_count": 3,
   "id": "04603b65",
   "metadata": {},
   "outputs": [],
   "source": [
    "from math import *"
   ]
  },
  {
   "cell_type": "markdown",
   "id": "07ace919",
   "metadata": {},
   "source": [
    "**Renaming a Module:**"
   ]
  },
  {
   "cell_type": "code",
   "execution_count": 21,
   "id": "a8db0b74",
   "metadata": {},
   "outputs": [
    {
     "name": "stdout",
     "output_type": "stream",
     "text": [
      "Hello, Charlie!\n"
     ]
    }
   ],
   "source": [
    "import my_module as mm\n",
    "\n",
    "print(mm.greet(\"Charlie\"))  # Output: Hello, Charlie!"
   ]
  },
  {
   "cell_type": "code",
   "execution_count": 4,
   "id": "d681881b",
   "metadata": {},
   "outputs": [
    {
     "name": "stdout",
     "output_type": "stream",
     "text": [
      "3.141592653589793\n"
     ]
    }
   ],
   "source": [
    "import math as m\n",
    "print(m.pi)"
   ]
  },
  {
   "cell_type": "markdown",
   "id": "c548b5e1",
   "metadata": {},
   "source": [
    "**Module Search Path:** <br>\n",
    "Python searches for modules in directories listed in sys.path. You can modify this list to include custom directories."
   ]
  },
  {
   "cell_type": "code",
   "execution_count": 22,
   "id": "efb6d72d",
   "metadata": {},
   "outputs": [
    {
     "name": "stdout",
     "output_type": "stream",
     "text": [
      "['/Users/ladyj/Library/CloudStorage/OneDrive-Personal/LaeCodes/Cohort 2/Course work/Week 5', '/Users/ladyj/anaconda3/lib/python311.zip', '/Users/ladyj/anaconda3/lib/python3.11', '/Users/ladyj/anaconda3/lib/python3.11/lib-dynload', '', '/Users/ladyj/anaconda3/lib/python3.11/site-packages', '/Users/ladyj/anaconda3/lib/python3.11/site-packages/aeosa']\n"
     ]
    }
   ],
   "source": [
    "import sys\n",
    "print(sys.path)"
   ]
  },
  {
   "cell_type": "markdown",
   "id": "56ff8a5a",
   "metadata": {},
   "source": [
    "#### Reloading Modules\n",
    "During development, you may need to reload a module after modifying it. Use the importlib.reload() function:"
   ]
  },
  {
   "cell_type": "code",
   "execution_count": 1,
   "id": "18bf76b9",
   "metadata": {},
   "outputs": [
    {
     "data": {
      "text/plain": [
       "<module 'my_module' from '/Users/ladyj/Library/CloudStorage/OneDrive-Personal/LaeCodes/Cohort 2/Course work/Week 7/my_module.py'>"
      ]
     },
     "execution_count": 1,
     "metadata": {},
     "output_type": "execute_result"
    }
   ],
   "source": [
    "import importlib\n",
    "import my_module\n",
    "\n",
    "importlib.reload(my_module)"
   ]
  },
  {
   "attachments": {
    "image.png": {
     "image/png": "[encoded data removed]"
    }
   },
   "cell_type": "markdown",
   "id": "31ebef3b",
   "metadata": {},
   "source": [
    "### Third-Party Modules\n",
    "Third-party modules are packages created by the Python community, often installed via pip. <br>\n",
    "**Example:** Installing and using the requests library.\n",
    "\n",
    "![image.png](attachment:image.png)"
   ]
  },
  {
   "cell_type": "code",
   "execution_count": 2,
   "id": "d59ee542",
   "metadata": {},
   "outputs": [
    {
     "name": "stdout",
     "output_type": "stream",
     "text": [
      "200\n"
     ]
    }
   ],
   "source": [
    "import requests\n",
    "response = requests.get(\"https://api.github.com\")\n",
    "print(response.status_code)"
   ]
  },
  {
   "attachments": {
    "image-2.png": {
     "image/png": "[encoded data removed]"
    },
    "image-3.png": {
     "image/png": "[encoded data removed]"
    },
    "image.png": {
     "image/png": "[encoded data removed]"
    }
   },
   "cell_type": "markdown",
   "id": "040c9c40",
   "metadata": {},
   "source": [
    "### Packages and \\_\\_init\\_\\_.py significance\n",
    "A package is a directory containing multiple modules and a special \\_\\_init\\_\\_.py file. This allows for hierarchical module organization.\n",
    "\n",
    "**Example Package Structure:**\n",
    "![image.png](attachment:image.png)\n",
    "\n",
    "**Importing from a Package:**\n",
    "![image-3.png](attachment:image-3.png)\n",
    "![image-2.png](attachment:image-2.png)\n",
    "\n",
    "**\\_\\_init\\_\\_.py Purpose:**\n",
    "\n",
    "- Defines the package's initialization behavior.\n",
    "- Can be empty or contain package-level variables."
   ]
  },
  {
   "cell_type": "markdown",
   "id": "a20d6b0b",
   "metadata": {},
   "source": [
    "**Benefits of Using Modules and Libraries:** <br>\n",
    "\n",
    "- **Reusability:** Write once, use multiple times.\n",
    "- **Simplified Codebase:** Divide complex code into manageable components.\n",
    "- **Efficiency:** Use pre-built functions and features instead of reinventing the wheel.\n",
    "- **Collaboration:** Share and use community-contributed modules and libraries."
   ]
  }
 ],
 "metadata": {
  "kernelspec": {
   "display_name": "Python 3 (ipykernel)",
   "language": "python",
   "name": "python3"
  },
  "language_info": {
   "codemirror_mode": {
    "name": "ipython",
    "version": 3
   },
   "file_extension": ".py",
   "mimetype": "text/x-python",
   "name": "python",
   "nbconvert_exporter": "python",
   "pygments_lexer": "ipython3",
   "version": "3.11.5"
  }
 },
 "nbformat": 4,
 "nbformat_minor": 5
}
