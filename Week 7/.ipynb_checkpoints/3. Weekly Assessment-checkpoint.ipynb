{
 "cells": [
  {
   "cell_type": "markdown",
   "id": "70cb1b1d",
   "metadata": {},
   "source": [
    "<img src=\"LaeCodes.png\" \n",
    "     align=\"center\" \n",
    "     width=\"100\" />"
   ]
  },
  {
   "cell_type": "markdown",
   "id": "8758ebec",
   "metadata": {},
   "source": [
    "## Weekly Assessment\n",
    "1. Create a user-defined module with functions for addition, subtraction, multiplication, and division. Import and use it in another script.\n",
    "2. Write a script to list all .txt files in a directory using the os module.\n",
    "3. Use the json module to save a dictionary to a file and then load it back.\n",
    "4. Install and use a third-party library like requests to fetch data from a public API.\n",
    "5. Create a package with two modules: one for mathematical operations and one for string manipulations.\n",
    "6. Create a command-line application that allows users to manage a to-do list. The application should support adding tasks, removing tasks, listing all tasks, and marking tasks as completed. Tasks should be persisted in a text file so that they are saved between runs of the program."
   ]
  }
 ],
 "metadata": {
  "kernelspec": {
   "display_name": "Python 3 (ipykernel)",
   "language": "python",
   "name": "python3"
  },
  "language_info": {
   "codemirror_mode": {
    "name": "ipython",
    "version": 3
   },
   "file_extension": ".py",
   "mimetype": "text/x-python",
   "name": "python",
   "nbconvert_exporter": "python",
   "pygments_lexer": "ipython3",
   "version": "3.11.5"
  }
 },
 "nbformat": 4,
 "nbformat_minor": 5
}
